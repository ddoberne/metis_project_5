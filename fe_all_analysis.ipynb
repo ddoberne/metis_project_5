{
 "cells": [
  {
   "cell_type": "code",
   "execution_count": 446,
   "id": "461f4ab7",
   "metadata": {},
   "outputs": [],
   "source": [
    "%reset -fs"
   ]
  },
  {
   "cell_type": "code",
   "execution_count": 447,
   "id": "9f2ca58e",
   "metadata": {},
   "outputs": [],
   "source": [
    "import pandas as pd\n",
    "import numpy as np\n",
    "import matplotlib.pyplot as plt\n",
    "import seaborn as sns\n",
    "\n",
    "from sklearn.feature_extraction.text import CountVectorizer, TfidfVectorizer, ENGLISH_STOP_WORDS\n",
    "\n",
    "\n",
    "from sklearn.decomposition import LatentDirichletAllocation, PCA\n",
    "from sklearn.decomposition import TruncatedSVD, NMF\n",
    "from sklearn.metrics.pairwise import cosine_similarity\n",
    "from sklearn.cluster import KMeans\n",
    "from nltk.stem.snowball import SnowballStemmer\n",
    "from collections import defaultdict\n",
    "import random\n",
    "import pyLDAvis\n",
    "import pyLDAvis.sklearn"
   ]
  },
  {
   "cell_type": "code",
   "execution_count": 535,
   "id": "d6866987",
   "metadata": {},
   "outputs": [],
   "source": [
    "from sklearn.preprocessing import StandardScaler\n",
    "from sklearn.metrics import silhouette_score"
   ]
  },
  {
   "cell_type": "markdown",
   "id": "46bf9771",
   "metadata": {},
   "source": [
    "## Cleaning script\n",
    "- delete anything < 3 words\n",
    "- get rid of '\\n'\n",
    "- separate out the speaker"
   ]
  },
  {
   "cell_type": "code",
   "execution_count": 448,
   "id": "24234eec",
   "metadata": {},
   "outputs": [],
   "source": [
    "def clean_script(quote):\n",
    "    if quote.count(' ') < 2:\n",
    "        return np.nan\n",
    "    quote = quote.replace('/n', '')\n",
    "    quote = quote.replace('\\n', '')\n",
    "    if ': ' in quote:\n",
    "        quote = quote.split(\": \")[1]\n",
    "    return quote"
   ]
  },
  {
   "cell_type": "markdown",
   "id": "4fe39dbc",
   "metadata": {},
   "source": [
    "## Get speaker\n",
    "- return speaker"
   ]
  },
  {
   "cell_type": "code",
   "execution_count": 449,
   "id": "1b068729",
   "metadata": {},
   "outputs": [],
   "source": [
    "def get_speaker(quote):\n",
    "    if ': ' in quote:\n",
    "        return quote.split(\": \")[0]\n",
    "    else:\n",
    "        return np.nan"
   ]
  },
  {
   "cell_type": "markdown",
   "id": "396c2aac",
   "metadata": {},
   "source": [
    "## Stemming"
   ]
  },
  {
   "cell_type": "code",
   "execution_count": 450,
   "id": "f752f217",
   "metadata": {},
   "outputs": [],
   "source": [
    "def stem_quote(quote):\n",
    "    requote = []\n",
    "    for word in quote.split(' '):\n",
    "        requote.append(stemmer.stem(word))\n",
    "    return ' '.join([word for word in requote])"
   ]
  },
  {
   "cell_type": "code",
   "execution_count": 451,
   "id": "4c266a4c",
   "metadata": {},
   "outputs": [],
   "source": [
    "stemmer = SnowballStemmer('english')"
   ]
  },
  {
   "cell_type": "markdown",
   "id": "fe325025",
   "metadata": {},
   "source": [
    "## Alias Check\n",
    "Some characters go by more than one name..."
   ]
  },
  {
   "cell_type": "code",
   "execution_count": 515,
   "id": "3d7e2671",
   "metadata": {},
   "outputs": [],
   "source": [
    "def alias_check(name):\n",
    "    if name in ['Odin', 'Laslow', 'Selena']:\n",
    "        return {'Odin':'Owain', 'Laslow':'Inigo', 'Selena':'Sevena'}[name]\n",
    "    return name"
   ]
  },
  {
   "cell_type": "markdown",
   "id": "917cb4bb",
   "metadata": {},
   "source": [
    "## Important: Set the game number\n",
    "Can be from [4, 5, 7, 8, 9, 10, 11, 13, 14, 15, 16]"
   ]
  },
  {
   "cell_type": "code",
   "execution_count": 536,
   "id": "059719c8",
   "metadata": {},
   "outputs": [],
   "source": [
    "all_games = [4, 5, 7, 8, 9, 10, 11, 13, 14, 15, 16]\n",
    "fe_num = 7"
   ]
  },
  {
   "cell_type": "code",
   "execution_count": 537,
   "id": "435b498c",
   "metadata": {},
   "outputs": [],
   "source": [
    "\n",
    "df = pd.concat([pd.read_csv(f'fe{fe_num}.csv', index_col = 0) for fe_num in all_games]) # use to get all games at once\n",
    "#df = pd.read_csv(f'fe{fe_num}.csv', index_col = 0)\n",
    "df.columns = ['quote']\n",
    "df['speaker'] = df['quote'].apply(get_speaker)\n",
    "df['quote'] = df['quote'].apply(clean_script)\n",
    "df_all['speaker'] = df_all['speaker'].apply(alias_check)\n",
    "df = df.dropna()\n",
    "#df['quote'] = df['quote'].dropna().apply(stem_quote)"
   ]
  },
  {
   "cell_type": "code",
   "execution_count": 538,
   "id": "065b43cd",
   "metadata": {
    "scrolled": true
   },
   "outputs": [
    {
     "data": {
      "text/html": [
       "<div>\n",
       "<style scoped>\n",
       "    .dataframe tbody tr th:only-of-type {\n",
       "        vertical-align: middle;\n",
       "    }\n",
       "\n",
       "    .dataframe tbody tr th {\n",
       "        vertical-align: top;\n",
       "    }\n",
       "\n",
       "    .dataframe thead th {\n",
       "        text-align: right;\n",
       "    }\n",
       "</style>\n",
       "<table border=\"1\" class=\"dataframe\">\n",
       "  <thead>\n",
       "    <tr style=\"text-align: right;\">\n",
       "      <th></th>\n",
       "      <th>quote</th>\n",
       "      <th>speaker</th>\n",
       "    </tr>\n",
       "  </thead>\n",
       "  <tbody>\n",
       "    <tr>\n",
       "      <th>12183</th>\n",
       "      <td>Just give it up already. Wasting time thinking...</td>\n",
       "      <td>Sylvain</td>\n",
       "    </tr>\n",
       "    <tr>\n",
       "      <th>2702</th>\n",
       "      <td>Before the week is done, Your Majesty, the cor...</td>\n",
       "      <td>Manfroy</td>\n",
       "    </tr>\n",
       "    <tr>\n",
       "      <th>900</th>\n",
       "      <td>Speak? Bwahaha! Somehow I don't think that's w...</td>\n",
       "      <td>Tribalist</td>\n",
       "    </tr>\n",
       "    <tr>\n",
       "      <th>1731</th>\n",
       "      <td>the gates stood atop high cliffs, and were def...</td>\n",
       "      <td>Leaving the forest behind them, the Liberation...</td>\n",
       "    </tr>\n",
       "    <tr>\n",
       "      <th>13312</th>\n",
       "      <td>After that great battle earlier, the balance o...</td>\n",
       "      <td>Knight</td>\n",
       "    </tr>\n",
       "  </tbody>\n",
       "</table>\n",
       "</div>"
      ],
      "text/plain": [
       "                                                   quote  \\\n",
       "12183  Just give it up already. Wasting time thinking...   \n",
       "2702   Before the week is done, Your Majesty, the cor...   \n",
       "900    Speak? Bwahaha! Somehow I don't think that's w...   \n",
       "1731   the gates stood atop high cliffs, and were def...   \n",
       "13312  After that great battle earlier, the balance o...   \n",
       "\n",
       "                                                 speaker  \n",
       "12183                                            Sylvain  \n",
       "2702                                             Manfroy  \n",
       "900                                            Tribalist  \n",
       "1731   Leaving the forest behind them, the Liberation...  \n",
       "13312                                             Knight  "
      ]
     },
     "execution_count": 538,
     "metadata": {},
     "output_type": "execute_result"
    }
   ],
   "source": [
    "df.sample(5)"
   ]
  },
  {
   "cell_type": "code",
   "execution_count": 539,
   "id": "a530d71f",
   "metadata": {},
   "outputs": [],
   "source": [
    "stop_words_plus = ENGLISH_STOP_WORDS.union(['ah', 'yes', 'no', 'um', 'oh', 'hm', 'uh', 've', 'huh', 'eh', 'ha', 'hey',\n",
    "                                           'ok', 'sure', 'll', 'let', 'isn', 'heh', 'don', 'did', 'just', 'like', 'think', 'hee', 'fine',\n",
    "                                           'yeah', 'er', 'ohh', 'mm', 'got', 'right', 'know', 'really'])"
   ]
  },
  {
   "cell_type": "code",
   "execution_count": 559,
   "id": "7a044caf",
   "metadata": {},
   "outputs": [],
   "source": [
    "def find_emblem(quote):\n",
    "    return 'fire emblem' in quote.lower()"
   ]
  },
  {
   "cell_type": "code",
   "execution_count": 566,
   "id": "33fc3383",
   "metadata": {},
   "outputs": [],
   "source": [
    "def find_crest(quote):\n",
    "    return 'crest of flames' in quote.lower()"
   ]
  },
  {
   "cell_type": "code",
   "execution_count": 567,
   "id": "2d77fa98",
   "metadata": {},
   "outputs": [
    {
     "data": {
      "text/plain": [
       "61"
      ]
     },
     "execution_count": 567,
     "metadata": {},
     "output_type": "execute_result"
    }
   ],
   "source": [
    "df['quote'].apply(find_emblem).sum()"
   ]
  },
  {
   "cell_type": "code",
   "execution_count": 568,
   "id": "68199d6b",
   "metadata": {},
   "outputs": [
    {
     "data": {
      "text/plain": [
       "13"
      ]
     },
     "execution_count": 568,
     "metadata": {},
     "output_type": "execute_result"
    }
   ],
   "source": [
    "df['quote'].apply(find_crest).sum()"
   ]
  },
  {
   "cell_type": "code",
   "execution_count": 565,
   "id": "7ba6e4d4",
   "metadata": {},
   "outputs": [
    {
     "data": {
      "text/html": [
       "<div>\n",
       "<style scoped>\n",
       "    .dataframe tbody tr th:only-of-type {\n",
       "        vertical-align: middle;\n",
       "    }\n",
       "\n",
       "    .dataframe tbody tr th {\n",
       "        vertical-align: top;\n",
       "    }\n",
       "\n",
       "    .dataframe thead th {\n",
       "        text-align: right;\n",
       "    }\n",
       "</style>\n",
       "<table border=\"1\" class=\"dataframe\">\n",
       "  <thead>\n",
       "    <tr style=\"text-align: right;\">\n",
       "      <th></th>\n",
       "      <th>quote</th>\n",
       "      <th>speaker</th>\n",
       "    </tr>\n",
       "  </thead>\n",
       "  <tbody>\n",
       "    <tr>\n",
       "      <th>3504</th>\n",
       "      <td>Last night, from the palace, the Fire Emblem w...</td>\n",
       "      <td>Desmond</td>\n",
       "    </tr>\n",
       "    <tr>\n",
       "      <th>3505</th>\n",
       "      <td>It can't be! ...Ha ha ha. You are so wicked, Y...</td>\n",
       "      <td>Hellene</td>\n",
       "    </tr>\n",
       "    <tr>\n",
       "      <th>3508</th>\n",
       "      <td>You know of the importance of the Fire Emblem....</td>\n",
       "      <td>Desmond</td>\n",
       "    </tr>\n",
       "    <tr>\n",
       "      <th>3723</th>\n",
       "      <td>Last night, from the palace, the Fire Emblem w...</td>\n",
       "      <td>Desmond</td>\n",
       "    </tr>\n",
       "    <tr>\n",
       "      <th>3724</th>\n",
       "      <td>It can't be! ...Ha ha ha. You are so wicked, Y...</td>\n",
       "      <td>Hellene</td>\n",
       "    </tr>\n",
       "    <tr>\n",
       "      <th>...</th>\n",
       "      <td>...</td>\n",
       "      <td>...</td>\n",
       "    </tr>\n",
       "    <tr>\n",
       "      <th>6975</th>\n",
       "      <td>No, not quite. To complete the Seal of Flames,...</td>\n",
       "      <td>Rainbow Sage</td>\n",
       "    </tr>\n",
       "    <tr>\n",
       "      <th>6976</th>\n",
       "      <td>The Fire Emblem...</td>\n",
       "      <td>Corrin</td>\n",
       "    </tr>\n",
       "    <tr>\n",
       "      <th>7707</th>\n",
       "      <td>So this is the Yato's true form... This...is t...</td>\n",
       "      <td>Corrin</td>\n",
       "    </tr>\n",
       "    <tr>\n",
       "      <th>7722</th>\n",
       "      <td>This is from the international version of Fire...</td>\n",
       "      <td>Note</td>\n",
       "    </tr>\n",
       "    <tr>\n",
       "      <th>7732</th>\n",
       "      <td>We won't back down! This is my... This is our ...</td>\n",
       "      <td>Corrin</td>\n",
       "    </tr>\n",
       "  </tbody>\n",
       "</table>\n",
       "<p>61 rows × 2 columns</p>\n",
       "</div>"
      ],
      "text/plain": [
       "                                                  quote       speaker\n",
       "3504  Last night, from the palace, the Fire Emblem w...       Desmond\n",
       "3505  It can't be! ...Ha ha ha. You are so wicked, Y...       Hellene\n",
       "3508  You know of the importance of the Fire Emblem....       Desmond\n",
       "3723  Last night, from the palace, the Fire Emblem w...       Desmond\n",
       "3724  It can't be! ...Ha ha ha. You are so wicked, Y...       Hellene\n",
       "...                                                 ...           ...\n",
       "6975  No, not quite. To complete the Seal of Flames,...  Rainbow Sage\n",
       "6976                                 The Fire Emblem...        Corrin\n",
       "7707  So this is the Yato's true form... This...is t...        Corrin\n",
       "7722  This is from the international version of Fire...          Note\n",
       "7732  We won't back down! This is my... This is our ...        Corrin\n",
       "\n",
       "[61 rows x 2 columns]"
      ]
     },
     "execution_count": 565,
     "metadata": {},
     "output_type": "execute_result"
    }
   ],
   "source": [
    "df.loc[df['quote'].apply(find_emblem)]"
   ]
  },
  {
   "cell_type": "markdown",
   "id": "5663184f",
   "metadata": {},
   "source": [
    "## Using CountVectorizer and TF-IDF to process corpus"
   ]
  },
  {
   "cell_type": "code",
   "execution_count": 540,
   "id": "fb0f70c3",
   "metadata": {},
   "outputs": [
    {
     "data": {
      "text/plain": [
       "(57995, 9415)"
      ]
     },
     "execution_count": 540,
     "metadata": {},
     "output_type": "execute_result"
    }
   ],
   "source": [
    "cv = CountVectorizer(strip_accents = 'unicode', stop_words = stop_words_plus, lowercase = True, max_df = 0.9, min_df = 3)\n",
    "doc_word = cv.fit_transform(df['quote'].dropna())\n",
    "doc_word.shape"
   ]
  },
  {
   "cell_type": "code",
   "execution_count": 541,
   "id": "2e624945",
   "metadata": {},
   "outputs": [
    {
     "name": "stderr",
     "output_type": "stream",
     "text": [
      "/Users/dayvdoberne/opt/anaconda3/envs/metis/lib/python3.9/site-packages/sklearn/feature_extraction/text.py:2029: UserWarning: Only (<class 'numpy.float64'>, <class 'numpy.float32'>, <class 'numpy.float16'>) 'dtype' should be used. <class 'numpy.int64'> 'dtype' will be converted to np.float64.\n",
      "  warnings.warn(\n"
     ]
    }
   ],
   "source": [
    "tfidf = TfidfVectorizer(**cv.get_params())\n",
    "doc_word_tfidf = tfidf.fit_transform(df['quote'].dropna())"
   ]
  },
  {
   "cell_type": "markdown",
   "id": "68206b5b",
   "metadata": {},
   "source": [
    "# LSA"
   ]
  },
  {
   "cell_type": "code",
   "execution_count": 542,
   "id": "d2d406be",
   "metadata": {},
   "outputs": [
    {
     "data": {
      "text/plain": [
       "array([0.00794553, 0.00676993, 0.00502126, 0.00491028, 0.00474775,\n",
       "       0.0046417 , 0.00457187, 0.00444235])"
      ]
     },
     "execution_count": 542,
     "metadata": {},
     "output_type": "execute_result"
    }
   ],
   "source": [
    "#pd.DataFrame(doc_word.toarray(), index = df['quote'].dropna(), columns = cv.get_feature_names()).sample(20)\n",
    "topic_count = 8\n",
    "lsa = TruncatedSVD(topic_count)\n",
    "doc_topic = lsa.fit_transform(doc_word)\n",
    "lsa.explained_variance_ratio_"
   ]
  },
  {
   "cell_type": "code",
   "execution_count": 543,
   "id": "9cf0728e",
   "metadata": {},
   "outputs": [
    {
     "name": "stderr",
     "output_type": "stream",
     "text": [
      "/Users/dayvdoberne/opt/anaconda3/envs/metis/lib/python3.9/site-packages/sklearn/utils/deprecation.py:87: FutureWarning: Function get_feature_names is deprecated; get_feature_names is deprecated in 1.0 and will be removed in 1.2. Please use get_feature_names_out instead.\n",
      "  warnings.warn(msg, category=FutureWarning)\n"
     ]
    }
   ],
   "source": [
    "topic_word = pd.DataFrame(lsa.components_.round(3), index = [('t' + str(i)) for i in range(topic_count)],\n",
    "                          columns = cv.get_feature_names())"
   ]
  },
  {
   "cell_type": "code",
   "execution_count": 544,
   "id": "4f37aada",
   "metadata": {},
   "outputs": [],
   "source": [
    "def display_topics(model, feature_names, no_top_words, topic_names = None):\n",
    "    for i, topic in enumerate(model.components_):\n",
    "        if not topic_names or not topic_names[i]:\n",
    "            print(\"\\nTopic \", i)\n",
    "        else:\n",
    "            print(\"\\nTopic '\", topic_names[i],\"'\")\n",
    "        print(\", \".join([feature_names[j] for j in topic.argsort()[:-no_top_words - 1:-1]]))"
   ]
  },
  {
   "cell_type": "code",
   "execution_count": 545,
   "id": "4a867926",
   "metadata": {},
   "outputs": [
    {
     "name": "stdout",
     "output_type": "stream",
     "text": [
      "\n",
      "Topic  0\n",
      "time, way, come, fight, father, people, empire, long, king, want\n",
      "\n",
      "Topic  1\n",
      "time, long, waste, ago, monastery, spent, facilities, spend, bulletin, ho\n",
      "\n",
      "Topic  2\n",
      "father, empire, lord, king, house, kingdom, prince, people, long, years\n",
      "\n",
      "Topic  3\n",
      "father, come, good, lord, thank, say, going, way, sorry, little\n",
      "\n",
      "Topic  4\n",
      "come, lord, lady, good, professor, rhea, say, corrin, look, empire\n",
      "\n",
      "Topic  5\n",
      "come, father, fight, need, battle, war, want, prince, long, king\n",
      "\n",
      "Topic  6\n",
      "lord, fight, prince, corrin, lady, want, come, going, thank, princess\n",
      "\n",
      "Topic  7\n",
      "good, need, king, say, people, daein, help, want, little, thank\n"
     ]
    }
   ],
   "source": [
    "display_topics(lsa, cv.get_feature_names(), 10)"
   ]
  },
  {
   "cell_type": "code",
   "execution_count": 546,
   "id": "0fa1642f",
   "metadata": {},
   "outputs": [
    {
     "data": {
      "text/plain": [
       "array([0.00794553, 0.00676993, 0.00502126, 0.00491028, 0.00474775,\n",
       "       0.0046417 , 0.00457187, 0.00444235])"
      ]
     },
     "execution_count": 546,
     "metadata": {},
     "output_type": "execute_result"
    }
   ],
   "source": [
    "\n",
    "lsa_tfidf = TruncatedSVD(topic_count)\n",
    "doc_topic_tfidf = lsa_tfidf.fit_transform(doc_word_tfidf)\n",
    "lsa.explained_variance_ratio_"
   ]
  },
  {
   "cell_type": "code",
   "execution_count": 547,
   "id": "868f9a00",
   "metadata": {
    "scrolled": false
   },
   "outputs": [
    {
     "name": "stdout",
     "output_type": "stream",
     "text": [
      "\n",
      "Topic  0\n",
      "thank, time, going, come, father, sorry, say, fight, way, want\n",
      "\n",
      "Topic  1\n",
      "thank, sir, goodness, th, saved, azura, lord, milady, corrin, gods\n",
      "\n",
      "Topic  2\n",
      "mean, sorry, say, course, father, does, choice, didn, supposed, mother\n",
      "\n",
      "Topic  3\n",
      "course, come, time, fight, good, professor, rhea, choice, long, lady\n",
      "\n",
      "Topic  4\n",
      "going, mean, ike, course, choice, way, wait, say, thank, relationship\n",
      "\n",
      "Topic  5\n",
      "course, sorry, going, ike, lord, forgive, sir, eliwood, talk, general\n",
      "\n",
      "Topic  6\n",
      "ike, say, lord, sir, way, corrin, lady, general, talk, enemy\n",
      "\n",
      "Topic  7\n",
      "father, ike, course, lord, wait, mother, help, doing, tell, eliwood\n"
     ]
    }
   ],
   "source": [
    "display_topics(lsa_tfidf, tfidf.get_feature_names(), 10)"
   ]
  },
  {
   "cell_type": "markdown",
   "id": "9635c67a",
   "metadata": {},
   "source": [
    "# LDA"
   ]
  },
  {
   "cell_type": "code",
   "execution_count": 528,
   "id": "e8c5326b",
   "metadata": {},
   "outputs": [
    {
     "data": {
      "text/plain": [
       "LatentDirichletAllocation(max_iter=20, n_components=6, random_state=3)"
      ]
     },
     "execution_count": 528,
     "metadata": {},
     "output_type": "execute_result"
    }
   ],
   "source": [
    "X = cv.fit_transform(df['quote'])\n",
    "df_cv = pd.DataFrame(X.todense(), index = df['quote'], columns = cv.get_feature_names())\n",
    "\n",
    "X_tfidf = tfidf.fit_transform(df['quote'])\n",
    "\n",
    "set_components = 6\n",
    "itera = 20\n",
    "\n",
    "lda_tf = LatentDirichletAllocation(n_components = set_components, max_iter = itera, random_state = 3)\n",
    "lda_tf.fit(X)\n",
    "\n",
    "lda_tfidf = LatentDirichletAllocation(n_components = set_components, max_iter = itera, random_state = 3)\n",
    "lda_tfidf.fit(X_tfidf)"
   ]
  },
  {
   "cell_type": "code",
   "execution_count": 529,
   "id": "1d09eef9",
   "metadata": {},
   "outputs": [
    {
     "name": "stderr",
     "output_type": "stream",
     "text": [
      "/Users/dayvdoberne/opt/anaconda3/envs/metis/lib/python3.9/site-packages/pyLDAvis/_prepare.py:246: FutureWarning: In a future version of pandas all arguments of DataFrame.drop except for the argument 'labels' will be keyword-only\n",
      "  default_term_info = default_term_info.sort_values(\n",
      "/Users/dayvdoberne/opt/anaconda3/envs/metis/lib/python3.9/site-packages/past/builtins/misc.py:45: DeprecationWarning: the imp module is deprecated in favour of importlib; see the module's documentation for alternative uses\n",
      "  from imp import reload\n",
      "/Users/dayvdoberne/opt/anaconda3/envs/metis/lib/python3.9/site-packages/past/builtins/misc.py:45: DeprecationWarning: the imp module is deprecated in favour of importlib; see the module's documentation for alternative uses\n",
      "  from imp import reload\n",
      "/Users/dayvdoberne/opt/anaconda3/envs/metis/lib/python3.9/site-packages/past/builtins/misc.py:45: DeprecationWarning: the imp module is deprecated in favour of importlib; see the module's documentation for alternative uses\n",
      "  from imp import reload\n",
      "/Users/dayvdoberne/opt/anaconda3/envs/metis/lib/python3.9/site-packages/past/builtins/misc.py:45: DeprecationWarning: the imp module is deprecated in favour of importlib; see the module's documentation for alternative uses\n",
      "  from imp import reload\n",
      "/Users/dayvdoberne/opt/anaconda3/envs/metis/lib/python3.9/site-packages/past/builtins/misc.py:45: DeprecationWarning: the imp module is deprecated in favour of importlib; see the module's documentation for alternative uses\n",
      "  from imp import reload\n",
      "/Users/dayvdoberne/opt/anaconda3/envs/metis/lib/python3.9/site-packages/past/builtins/misc.py:45: DeprecationWarning: the imp module is deprecated in favour of importlib; see the module's documentation for alternative uses\n",
      "  from imp import reload\n",
      "/Users/dayvdoberne/opt/anaconda3/envs/metis/lib/python3.9/site-packages/past/builtins/misc.py:45: DeprecationWarning: the imp module is deprecated in favour of importlib; see the module's documentation for alternative uses\n",
      "  from imp import reload\n",
      "/Users/dayvdoberne/opt/anaconda3/envs/metis/lib/python3.9/site-packages/past/builtins/misc.py:45: DeprecationWarning: the imp module is deprecated in favour of importlib; see the module's documentation for alternative uses\n",
      "  from imp import reload\n"
     ]
    },
    {
     "data": {
      "text/html": [
       "\n",
       "<link rel=\"stylesheet\" type=\"text/css\" href=\"https://cdn.jsdelivr.net/gh/bmabey/pyLDAvis@3.3.1/pyLDAvis/js/ldavis.v1.0.0.css\">\n",
       "\n",
       "\n",
       "<div id=\"ldavis_el181760592288485071645427\"></div>\n",
       "<script type=\"text/javascript\">\n",
       "\n",
       "var ldavis_el181760592288485071645427_data = {\"mdsDat\": {\"x\": [-0.011863979919810459, -0.02515708094351959, 0.17357142213752613, 0.1325795623041668, -0.02773469727372252, -0.2413952263046402], \"y\": [0.12376683176270335, 0.2118616858817499, -0.09372252973594748, -0.018353581591476487, -0.13322737928675246, -0.09032502703027696], \"topics\": [1, 2, 3, 4, 5, 6], \"cluster\": [1, 1, 1, 1, 1, 1], \"Freq\": [20.81042287741729, 17.65000525675187, 16.474510430216146, 15.17051961867316, 14.975367075211704, 14.919174741729831]}, \"tinfo\": {\"Term\": [\"right\", \"thank\", \"going\", \"relationship\", \"lord\", \"won\", \"daein\", \"ike\", \"sorry\", \"corrin\", \"mean\", \"lady\", \"fight\", \"prince\", \"kill\", \"rhea\", \"know\", \"want\", \"really\", \"princess\", \"mother\", \"choice\", \"empire\", \"general\", \"good\", \"way\", \"professor\", \"help\", \"church\", \"sir\", \"mean\", \"mother\", \"ya\", \"chrom\", \"azura\", \"voice\", \"feels\", \"manuela\", \"wow\", \"lucina\", \"love\", \"song\", \"kid\", \"cold\", \"monster\", \"debt\", \"pact\", \"yer\", \"empress\", \"loved\", \"sanaki\", \"sigh\", \"kindness\", \"aw\", \"julia\", \"missed\", \"lissa\", \"pal\", \"dancing\", \"ice\", \"guys\", \"worked\", \"parents\", \"dream\", \"does\", \"died\", \"beorc\", \"guy\", \"really\", \"maybe\", \"laguz\", \"thought\", \"wanted\", \"know\", \"didn\", \"feel\", \"idea\", \"knew\", \"true\", \"remember\", \"father\", \"old\", \"say\", \"tell\", \"little\", \"thing\", \"things\", \"family\", \"good\", \"happy\", \"said\", \"man\", \"life\", \"time\", \"look\", \"people\", \"come\", \"professor\", \"make\", \"sorry\", \"thank\", \"promise\", \"marth\", \"hello\", \"marianne\", \"celica\", \"sniff\", \"pegasus\", \"pirates\", \"ashe\", \"yune\", \"lyn\", \"busy\", \"gotten\", \"wyvern\", \"hurt\", \"flora\", \"grust\", \"listening\", \"nyna\", \"sob\", \"yukimura\", \"macedon\", \"caeda\", \"kaze\", \"gregor\", \"haar\", \"women\", \"worrying\", \"annand\", \"elise\", \"won\", \"ready\", \"shut\", \"sothe\", \"right\", \"stay\", \"easy\", \"bernadetta\", \"worry\", \"sir\", \"sorry\", \"doing\", \"run\", \"brother\", \"try\", \"help\", \"way\", \"need\", \"sister\", \"stop\", \"leave\", \"best\", \"wait\", \"want\", \"rest\", \"safe\", \"make\", \"mind\", \"look\", \"come\", \"fight\", \"know\", \"time\", \"good\", \"enemy\", \"ike\", \"daein\", \"eliwood\", \"mist\", \"god\", \"greil\", \"marquess\", \"divine\", \"soren\", \"medallion\", \"hector\", \"dorothea\", \"giving\", \"shinon\", \"nemesis\", \"petra\", \"duma\", \"rolf\", \"emblem\", \"caelin\", \"madness\", \"gatrie\", \"ostia\", \"yato\", \"laus\", \"pherae\", \"creator\", \"nasir\", \"gunter\", \"horrible\", \"commander\", \"going\", \"sword\", \"mark\", \"pelleas\", \"dark\", \"answer\", \"ashera\", \"fang\", \"lose\", \"ashnard\", \"power\", \"blade\", \"command\", \"light\", \"black\", \"goddess\", \"sacred\", \"begnion\", \"want\", \"hold\", \"king\", \"follow\", \"army\", \"crimea\", \"dragon\", \"defeat\", \"world\", \"soldiers\", \"know\", \"come\", \"fight\", \"war\", \"people\", \"long\", \"castle\", \"lord\", \"stop\", \"say\", \"father\", \"general\", \"time\", \"kill\", \"seliph\", \"alm\", \"jeralt\", \"reyson\", \"lorenz\", \"apologize\", \"grannvale\", \"mercedes\", \"isaach\", \"flame\", \"betrayed\", \"shannan\", \"jill\", \"ridiculous\", \"clive\", \"altena\", \"arion\", \"kurth\", \"huff\", \"mycen\", \"quan\", \"lonato\", \"bastian\", \"fernand\", \"comrades\", \"hannibal\", \"wha\", \"fay\", \"yen\", \"hoshido\", \"nohr\", \"waiting\", \"remain\", \"sigurd\", \"anankos\", \"lord\", \"corrin\", \"alongside\", \"choice\", \"lady\", \"takumi\", \"captain\", \"majesty\", \"general\", \"leif\", \"garon\", \"understand\", \"fight\", \"prince\", \"path\", \"end\", \"son\", \"king\", \"war\", \"believe\", \"shall\", \"die\", \"wish\", \"matter\", \"people\", \"truly\", \"know\", \"fighting\", \"ask\", \"way\", \"eirika\", \"grado\", \"ephraim\", \"returned\", \"bridge\", \"renais\", \"lyon\", \"balthus\", \"cross\", \"wh\", \"caspar\", \"lysithea\", \"dawn\", \"tahra\", \"dedue\", \"frelia\", \"myrddin\", \"manster\", \"minister\", \"seth\", \"rausten\", \"grima\", \"hall\", \"gloucester\", \"yep\", \"officers\", \"alright\", \"innes\", \"affairs\", \"jehanna\", \"border\", \"boy\", \"north\", \"pass\", \"princess\", \"hasn\", \"years\", \"course\", \"return\", \"empire\", \"gone\", \"ago\", \"today\", \"milord\", \"prince\", \"city\", \"time\", \"imperial\", \"days\", \"great\", \"long\", \"face\", \"win\", \"coming\", \"house\", \"place\", \"day\", \"battle\", \"come\", \"father\", \"army\", \"way\", \"people\", \"things\", \"far\", \"relationship\", \"rhea\", \"church\", \"talking\", \"dimitri\", \"flayn\", \"seteth\", \"human\", \"garreg\", \"mach\", \"crest\", \"seiros\", \"yuri\", \"sub\", \"sylvain\", \"gate\", \"ninian\", \"constance\", \"hilda\", \"archbishop\", \"faerghus\", \"ignatz\", \"annette\", \"eagle\", \"lion\", \"raphael\", \"felix\", \"hapi\", \"shamir\", \"month\", \"students\", \"claude\", \"monastery\", \"edelgard\", \"professor\", \"humans\", \"alliance\", \"battle\", \"fort\", \"house\", \"fodlan\", \"good\", \"knights\", \"kingdom\", \"sounds\", \"lady\", \"time\", \"enemy\", \"empire\", \"use\", \"heard\", \"know\", \"choice\", \"right\"], \"Freq\": [3216.0, 1259.0, 1500.0, 1106.0, 1419.0, 1117.0, 847.0, 804.0, 1261.0, 1051.0, 889.0, 1056.0, 1657.0, 1220.0, 616.0, 602.0, 3747.0, 1472.0, 1411.0, 797.0, 621.0, 743.0, 1091.0, 730.0, 1599.0, 1810.0, 1337.0, 1254.0, 456.0, 664.0, 888.9709898722193, 620.5048957757724, 231.23012541020253, 209.17648909523746, 203.42431572456965, 142.0528678602732, 138.22414350055504, 136.3070007740676, 123.84334241906514, 103.70976917825779, 414.8372709986922, 96.03690315476143, 92.20197586754401, 90.28339103497902, 89.32501390920976, 89.32422802075878, 87.40889596028565, 83.57391784672465, 83.57240810078108, 78.73316895874362, 69.19059400325325, 113.58711137824824, 57.68324495915505, 53.850856463246316, 53.849211398339925, 53.84807159057125, 50.97484972772929, 50.97379425507701, 49.05598716190669, 49.054674363493746, 111.75715814522256, 76.89810481571983, 102.07120269816384, 131.56941883804794, 457.2039766168385, 184.30921297781344, 256.73505910623976, 129.6313038385797, 1021.7643367536108, 388.0612215713162, 335.40328376565816, 577.0001618439723, 269.27452253615496, 2006.8935418613908, 564.352678805034, 455.51871119506, 269.8690382011221, 347.0016038123355, 543.6514901992758, 385.6327528792333, 863.7497090378969, 334.9326255440095, 780.038590606196, 570.2582204197524, 588.4344279768156, 439.2079081641056, 441.1719925496577, 315.34622299314475, 643.7719214043474, 263.48447303362775, 385.4007327977694, 395.54962825430107, 403.86578410660934, 636.0982097081004, 446.4789404796707, 455.8717736408938, 453.32318271437146, 367.66158214426605, 357.94710600765416, 352.36280044697673, 1258.9796754083573, 355.2068494796269, 181.47796247615995, 171.0367272213042, 118.82386785207255, 115.02462637671155, 110.2797255476005, 99.83547252431526, 94.1399011922199, 92.23952703981465, 92.2388430906767, 84.64685310172935, 83.69648499719914, 67.55669854054838, 63.76010857678278, 218.12577241160753, 56.16655408073731, 51.419406961682924, 44.773363403764364, 43.82543635691164, 40.977535154730475, 40.97522723989079, 35.281284231769845, 32.43316577722439, 31.48503638815939, 31.483657622632585, 30.53377950502102, 65.64519209979139, 30.42953356326824, 26.7369348908282, 150.83994322052632, 1041.8646808570384, 441.7754497703627, 74.86152424402123, 134.10946623438832, 2738.5661983932155, 478.4752935759018, 244.11144444448973, 92.8833013488824, 443.98435113256807, 527.0654232079643, 908.3563937483362, 462.3751797045574, 248.87773958353898, 488.4252600709849, 349.7874826200579, 774.2575658727154, 1006.8349772681444, 785.3437118275069, 314.58342926255136, 441.29668670906744, 476.39348126884227, 356.61387664295324, 440.74760091127604, 629.6524449812476, 283.4910603185272, 321.71646648499717, 471.6170039449883, 283.5510921259275, 414.3018683441006, 472.1927514486581, 448.9838644540371, 613.3380897501652, 494.5310655036587, 416.2333488624796, 322.5923488536755, 803.2199444858163, 845.9767646100988, 258.35768517291604, 185.70916163134984, 177.85605348382055, 178.82643332000495, 150.36690474482685, 136.62284857183502, 129.749452142686, 122.87827892473189, 114.04265209845218, 112.07931099937177, 111.09537138326257, 102.26203310115214, 97.35227334612757, 93.42460170733283, 87.53633503110717, 85.57157934782774, 83.60799945309621, 78.69978743934664, 76.73593625461734, 71.82876704063811, 71.8283709730477, 71.8282458074701, 70.84658212703896, 69.86496871463002, 82.4441419742192, 63.97454332266658, 62.010114753364604, 60.036043452963774, 404.42966972586646, 1373.0177411453767, 463.0601000996851, 164.4635569874019, 119.02402413833873, 299.2050829997343, 183.7213662985391, 97.602483940119, 116.6553856150687, 271.4034261284275, 133.3507078894648, 517.481168903797, 221.15035153319658, 196.46410795704526, 174.80802650041431, 230.35227894756005, 377.68822501609736, 167.0854057598367, 242.4768975749249, 598.5137092509739, 310.19087116193214, 532.3456950695972, 204.33328540352036, 463.927616191805, 220.38444769321342, 230.49601089426812, 234.5809147456867, 325.00830582613236, 272.43759252768723, 587.4602846994228, 408.53363294872275, 388.3334932915703, 313.1971975692524, 307.92916318653056, 300.18256214545414, 238.7890597028541, 282.43048207601737, 243.2875451055187, 261.80340442771694, 262.3190719069433, 240.41314440274527, 247.6603272006425, 614.8094816590872, 216.10030569457928, 207.18499459145278, 195.29692045676362, 129.92289285957364, 120.01715542998836, 164.12295807921936, 102.18701097957309, 99.21696992786694, 87.32972283480537, 87.32958990677676, 83.36762275266705, 82.37789154481548, 76.43405767619953, 57.613013423398726, 56.6234743623517, 55.63336741194636, 52.66186781015761, 50.67974250120669, 47.709865830802194, 47.709039408295276, 47.70800264974085, 76.91812146243099, 46.716629111530594, 41.766224036173234, 40.77386474614239, 39.78486325127089, 39.783493731571916, 38.79509493933665, 38.79509493933665, 266.6188855243782, 294.9966709513222, 289.6414697718161, 161.167622511115, 167.9917291189381, 69.15718749318133, 1136.7882328514677, 797.9082788261948, 80.87783049714963, 532.1684518891236, 717.7022651490398, 153.16536749698955, 201.59942986840846, 319.27199674058267, 489.7659927493785, 189.39431977365734, 162.41108646601265, 459.2301334963508, 784.7463295084277, 616.229583926344, 208.56758742008626, 374.7696898109858, 206.44311022772052, 444.5042288816512, 374.2476731133938, 358.4445566707873, 250.1042302264053, 243.4584925642658, 232.44496755751445, 230.8799999127985, 249.8216016542479, 191.2643663741149, 270.8190648675615, 210.04800618108058, 203.66807017532125, 208.78701470672706, 262.68001494090566, 228.741698761268, 199.79577634554042, 183.82312217068923, 171.84701753791418, 160.86752617769744, 154.8787482657867, 130.92268731856566, 128.92549727430415, 113.95279135760188, 112.95647799208035, 112.95594148104479, 99.9787427584607, 92.99236542148591, 89.99830669096737, 86.00641400088381, 79.01946620140126, 78.02029882658749, 73.03009789252455, 72.03108773010999, 66.04329624085582, 72.91880956860078, 62.04980175012613, 58.05666263500619, 58.054497581849354, 54.05941053284257, 54.05792586701134, 51.071370982037855, 50.07164691209306, 48.07638834580142, 94.45669144684418, 252.5728458255159, 120.83192193519444, 144.40058325654113, 566.3562048159349, 102.12208905649378, 453.6581680111635, 558.4360813371098, 390.8834349459351, 604.0582032949648, 251.50434995519092, 316.66027885302293, 199.47508560933895, 184.64305048462953, 487.872318690793, 144.3285174412015, 741.6070446707824, 228.27696599145924, 164.30395221788712, 288.8542586100992, 397.27154424393734, 227.40251294763252, 181.19506660064803, 202.4944131660848, 229.6840348074456, 249.39769694472122, 234.4678597946064, 268.7831410700404, 287.26935108508974, 238.6087211513501, 220.59675915017831, 239.70568245093915, 216.73699889381288, 203.57288255895534, 197.6074726904773, 1105.5029598329747, 601.4521065732764, 455.57265772921, 337.5183126332388, 333.5506641726613, 271.04145103635653, 246.23623089305707, 238.29478570311943, 202.57738887043107, 202.57738886875615, 180.74807844478713, 271.58963688813753, 159.91238104481036, 145.02801460985023, 144.0372085050442, 138.07923065962922, 136.09658842843373, 125.18517434459875, 125.18379489421869, 125.18251818254504, 122.20593436402136, 119.23180673965362, 117.24701500966678, 117.24675299455694, 116.25368110235944, 112.28579447584787, 111.29271236916433, 107.3249714336407, 106.33275370745324, 106.33128863743882, 215.05642474252087, 382.85512438697685, 296.48147892816144, 411.19537496720164, 715.2012546936957, 153.55829601620314, 318.1835503698643, 554.1298499482242, 165.9933911811079, 311.9386289752688, 241.4177724302324, 504.25943306410176, 280.72001346433257, 273.8574267249642, 176.77514394790754, 338.1234340897122, 463.9197427469981, 301.64270406205685, 260.07834830920103, 218.8042609563129, 216.399650334797, 266.10718913788344, 210.43033357995807, 206.83896668744597], \"Total\": [3216.0, 1259.0, 1500.0, 1106.0, 1419.0, 1117.0, 847.0, 804.0, 1261.0, 1051.0, 889.0, 1056.0, 1657.0, 1220.0, 616.0, 602.0, 3747.0, 1472.0, 1411.0, 797.0, 621.0, 743.0, 1091.0, 730.0, 1599.0, 1810.0, 1337.0, 1254.0, 456.0, 664.0, 889.7935208172325, 621.3272910796019, 232.05123518562365, 209.9986797575653, 204.24580294444786, 142.88229448558377, 139.0469264609012, 137.12929632157687, 124.66474230427512, 104.52975121181818, 418.14431081380377, 96.85934084093267, 93.02410932802486, 91.10651260002155, 90.14768714507031, 90.1477217685251, 88.23004830897179, 84.39479745167073, 84.39485661436679, 79.60187847486797, 70.01272595293791, 115.09264806163314, 58.50705890467862, 54.6717550677597, 54.67180627318399, 54.67186881531711, 51.79532693376967, 51.7953332362977, 49.877742447359374, 49.87776967129389, 115.17915043864022, 78.67769435612473, 106.53243515665281, 140.3181548050939, 533.8045700698142, 202.7915646005373, 289.7524324086682, 141.3308485241739, 1411.6039111444604, 478.6104166041267, 411.98264953455316, 766.1575812494159, 332.63432103042624, 3747.443969609511, 818.8533137530195, 656.4819104454824, 350.76380583674097, 481.12215218028564, 859.3106445645534, 558.1970223382958, 1622.7020778052615, 479.0411893452898, 1540.7958707936045, 1032.459839013142, 1082.99916734861, 743.3920934820621, 790.2894070930022, 499.9905436380489, 1599.1083956350126, 384.4514905382776, 796.2659735683914, 864.8783116153332, 927.744665333587, 2707.4882905522636, 1222.1307383149567, 1337.4140896541167, 1827.4141347353873, 1337.0379156698884, 1276.290163297715, 1261.3826903288314, 1259.8034808073062, 356.03182061556697, 182.3025721511194, 171.85977488734116, 119.64603656099965, 115.84872731467675, 111.10196364457961, 100.65930082626853, 94.9632321472798, 93.06464507032842, 93.06461752976679, 85.46982545942937, 84.52051930132238, 68.38175542132026, 64.58439582925402, 221.2481592955755, 56.9896193935223, 52.242947079131405, 45.59757183127865, 44.648215594944574, 41.80015652113604, 41.80026820069066, 36.10415619186884, 33.25610856160443, 32.30671805125967, 32.30675160188059, 31.357489918977386, 67.47586554394978, 31.361694671786584, 27.560093981624238, 157.67906869641385, 1117.2065090921162, 472.24471575025575, 77.97016694279607, 141.70432104058034, 3216.905998931641, 535.2556447668268, 267.7702610206692, 98.97995224705105, 551.2274722322275, 664.5555767544766, 1261.3826903288314, 634.9023361078092, 322.0641551740168, 719.9160846682728, 487.1423655819981, 1254.537066558224, 1810.3243849142195, 1454.4562731261735, 469.92866318707354, 747.2826553739584, 841.2675193403802, 617.5661513819766, 859.0134781269967, 1472.7737639735117, 456.7789680571721, 564.8515640628324, 1276.290163297715, 562.5602084448117, 1222.1307383149567, 1827.4141347353873, 1657.798109104111, 3747.443969609511, 2707.4882905522636, 1599.1083956350126, 974.8967258131714, 804.037466512327, 847.2377501741986, 259.17470128712057, 186.52629360800324, 178.67245534709681, 179.65436228869805, 151.18388676480768, 137.43959099569247, 130.5674232225696, 123.69529499070714, 114.85968339085177, 112.8962364856849, 111.91448462042811, 103.07884638877071, 98.17020776946929, 94.24326782822895, 88.35285912748583, 86.38934550522819, 84.4259096052663, 79.51724351796595, 77.55377007870109, 72.64507256332911, 72.64510428500273, 72.64510048474055, 71.66337019197535, 70.68164148969188, 83.4461434015127, 64.7912098909784, 62.82771200805341, 60.8643739133157, 411.37814868007905, 1500.830109731876, 505.163754471324, 174.52449258886497, 125.52290798611112, 356.3107111328561, 209.32667246388334, 102.97047151913944, 126.73847758450462, 342.4916568432798, 148.86888614464763, 778.3295533666965, 277.77017556723035, 241.48457675970405, 209.46579857384154, 309.08523126274343, 624.5481294951453, 207.7703761633805, 349.2145950671728, 1472.7737639735117, 545.0556547759273, 1321.3361638090628, 292.5177172689, 1076.8687373177984, 337.62186068886086, 380.6924778499954, 405.69701825778543, 851.360699283372, 596.4715997549641, 3747.443969609511, 1827.4141347353873, 1657.798109104111, 1068.2618916147, 1337.4140896541167, 1253.9532581411897, 559.900673351145, 1419.8708747404628, 747.2826553739584, 1540.7958707936045, 1622.7020778052615, 730.832326529244, 2707.4882905522636, 616.099082623404, 216.91599943207717, 208.00112713837993, 196.11465257999353, 130.7390562746001, 120.83369065313332, 165.39293603196793, 103.00397054026556, 100.03237791943417, 88.14588338127598, 88.14589912228985, 84.18374037418808, 83.19318509557043, 77.24993222733649, 58.42969492068978, 57.43916100810351, 56.44863632862204, 53.47701632157551, 51.495924175399495, 48.52432334471114, 48.52430943295661, 48.52430183149605, 78.2413596975552, 47.533740485741916, 42.58109067400156, 41.59050124298915, 40.60000522150565, 40.59996701809056, 39.60948365680485, 39.60948365680485, 278.9289260456703, 316.23717764092225, 316.1114830075079, 174.28452669869165, 183.5868138722436, 72.22280545310296, 1419.8708747404628, 1051.8514101674032, 86.98045088265172, 743.2496879361605, 1056.4771080936098, 181.0714511872689, 249.5398376959386, 431.6098348321426, 730.832326529244, 244.0715563464124, 207.36587135735306, 790.0074243515671, 1657.798109104111, 1220.9904345544633, 299.73299577626005, 817.3279920824352, 367.32599532744484, 1321.3361638090628, 1068.2618916147, 1000.443823800945, 626.7880388648086, 698.5239955119381, 678.9955331135207, 674.9936499053327, 1337.4140896541167, 399.0352481539726, 3747.443969609511, 791.3531416728767, 597.4488160284632, 1810.3243849142195, 263.493444191582, 229.55613367966433, 200.60961866922042, 184.63907012062933, 172.6612438801199, 161.6815350186167, 155.69259129334748, 131.73686494248724, 129.74051484069346, 114.76816237359533, 113.77006789715769, 113.7700554275198, 100.79399740819228, 93.80690924118619, 90.81247340817434, 86.8198534792276, 79.83277430419346, 78.83457684363135, 73.8438162489905, 72.84563142840543, 66.8567267556324, 73.83944617095659, 62.86406818417335, 58.871477229089486, 58.87138482494045, 54.8787600462303, 54.87872350234181, 51.884394441955514, 50.88621847884714, 48.88992268336567, 96.72662227730983, 264.05386510838133, 129.53959071276034, 164.35927500077528, 797.6577314754232, 113.70562617265468, 694.5721592326364, 959.7137407664397, 622.9808087033642, 1091.4044718424243, 363.32802374548163, 503.45311025063137, 301.10439606979617, 277.7144945466793, 1220.9904345544633, 195.1299378874232, 2707.4882905522636, 422.6233733254878, 243.82042561716753, 667.9733746076593, 1253.9532581411897, 457.98062002264277, 332.82497479321563, 443.2366685028812, 606.4232959777607, 876.2078877257018, 756.3502350556905, 1239.8586296950498, 1827.4141347353873, 1622.7020778052615, 1076.8687373177984, 1810.3243849142195, 1337.4140896541167, 790.2894070930022, 592.6431403275432, 1106.3176955782744, 602.2671194087574, 456.4097324861574, 338.33507473001214, 334.3662184785534, 271.85601589370276, 247.0503826391501, 239.112521051184, 203.39245729807877, 203.39245729808874, 181.56347478543017, 272.843553586704, 160.7267519872647, 145.84335419599438, 144.85115577381, 138.89774594713302, 136.91329921768335, 125.99887624079707, 125.99884939540317, 125.99885194336233, 123.02219148142579, 120.04551922242128, 118.06106930095561, 118.06107311900756, 117.06883415321754, 113.09993300482613, 112.1076972734271, 108.13880733734788, 107.14658483760327, 107.14657587767364, 220.28487977987842, 506.75249832761233, 389.4863370469229, 596.3058856993647, 1337.0379156698884, 172.05040777799135, 488.1740678307977, 1239.8586296950498, 203.98737660914435, 606.4232959777607, 391.0410977667573, 1599.1083956350126, 564.5383927115779, 592.7148106653535, 240.87577817330475, 1056.4771080936098, 2707.4882905522636, 974.8967258131714, 1091.4044718424243, 706.1648705539695, 727.9526241554372, 3747.443969609511, 743.2496879361605, 3216.905998931641], \"Category\": [\"Default\", \"Default\", \"Default\", \"Default\", \"Default\", \"Default\", \"Default\", \"Default\", \"Default\", \"Default\", \"Default\", \"Default\", \"Default\", \"Default\", \"Default\", \"Default\", \"Default\", \"Default\", \"Default\", \"Default\", \"Default\", \"Default\", \"Default\", \"Default\", \"Default\", \"Default\", \"Default\", \"Default\", \"Default\", \"Default\", \"Topic1\", \"Topic1\", \"Topic1\", \"Topic1\", \"Topic1\", \"Topic1\", \"Topic1\", \"Topic1\", \"Topic1\", \"Topic1\", \"Topic1\", \"Topic1\", \"Topic1\", \"Topic1\", \"Topic1\", \"Topic1\", \"Topic1\", \"Topic1\", \"Topic1\", \"Topic1\", \"Topic1\", \"Topic1\", \"Topic1\", \"Topic1\", \"Topic1\", \"Topic1\", \"Topic1\", \"Topic1\", \"Topic1\", \"Topic1\", \"Topic1\", \"Topic1\", \"Topic1\", \"Topic1\", \"Topic1\", \"Topic1\", \"Topic1\", \"Topic1\", \"Topic1\", \"Topic1\", \"Topic1\", \"Topic1\", \"Topic1\", \"Topic1\", \"Topic1\", \"Topic1\", \"Topic1\", \"Topic1\", \"Topic1\", \"Topic1\", \"Topic1\", \"Topic1\", \"Topic1\", \"Topic1\", \"Topic1\", \"Topic1\", \"Topic1\", \"Topic1\", \"Topic1\", \"Topic1\", \"Topic1\", \"Topic1\", \"Topic1\", \"Topic1\", \"Topic1\", \"Topic1\", \"Topic1\", \"Topic1\", \"Topic1\", \"Topic1\", \"Topic2\", \"Topic2\", \"Topic2\", \"Topic2\", \"Topic2\", \"Topic2\", \"Topic2\", \"Topic2\", \"Topic2\", \"Topic2\", \"Topic2\", \"Topic2\", \"Topic2\", \"Topic2\", \"Topic2\", \"Topic2\", \"Topic2\", \"Topic2\", \"Topic2\", \"Topic2\", \"Topic2\", \"Topic2\", \"Topic2\", \"Topic2\", \"Topic2\", \"Topic2\", \"Topic2\", \"Topic2\", \"Topic2\", \"Topic2\", \"Topic2\", \"Topic2\", \"Topic2\", \"Topic2\", \"Topic2\", \"Topic2\", \"Topic2\", \"Topic2\", \"Topic2\", \"Topic2\", \"Topic2\", \"Topic2\", \"Topic2\", \"Topic2\", \"Topic2\", \"Topic2\", \"Topic2\", \"Topic2\", \"Topic2\", \"Topic2\", \"Topic2\", \"Topic2\", \"Topic2\", \"Topic2\", \"Topic2\", \"Topic2\", \"Topic2\", \"Topic2\", \"Topic2\", \"Topic2\", \"Topic2\", \"Topic2\", \"Topic2\", \"Topic2\", \"Topic2\", \"Topic2\", \"Topic3\", \"Topic3\", \"Topic3\", \"Topic3\", \"Topic3\", \"Topic3\", \"Topic3\", \"Topic3\", \"Topic3\", \"Topic3\", \"Topic3\", \"Topic3\", \"Topic3\", \"Topic3\", \"Topic3\", \"Topic3\", \"Topic3\", \"Topic3\", \"Topic3\", \"Topic3\", \"Topic3\", \"Topic3\", \"Topic3\", \"Topic3\", \"Topic3\", \"Topic3\", \"Topic3\", \"Topic3\", \"Topic3\", \"Topic3\", \"Topic3\", \"Topic3\", \"Topic3\", \"Topic3\", \"Topic3\", \"Topic3\", \"Topic3\", \"Topic3\", \"Topic3\", \"Topic3\", \"Topic3\", \"Topic3\", \"Topic3\", \"Topic3\", \"Topic3\", \"Topic3\", \"Topic3\", \"Topic3\", \"Topic3\", \"Topic3\", \"Topic3\", \"Topic3\", \"Topic3\", \"Topic3\", \"Topic3\", \"Topic3\", \"Topic3\", \"Topic3\", \"Topic3\", \"Topic3\", \"Topic3\", \"Topic3\", \"Topic3\", \"Topic3\", \"Topic3\", \"Topic3\", \"Topic3\", \"Topic3\", \"Topic3\", \"Topic3\", \"Topic3\", \"Topic3\", \"Topic4\", \"Topic4\", \"Topic4\", \"Topic4\", \"Topic4\", \"Topic4\", \"Topic4\", \"Topic4\", \"Topic4\", \"Topic4\", \"Topic4\", \"Topic4\", \"Topic4\", \"Topic4\", \"Topic4\", \"Topic4\", \"Topic4\", \"Topic4\", \"Topic4\", \"Topic4\", \"Topic4\", \"Topic4\", \"Topic4\", \"Topic4\", \"Topic4\", \"Topic4\", \"Topic4\", \"Topic4\", \"Topic4\", \"Topic4\", \"Topic4\", \"Topic4\", \"Topic4\", \"Topic4\", \"Topic4\", \"Topic4\", \"Topic4\", \"Topic4\", \"Topic4\", \"Topic4\", \"Topic4\", \"Topic4\", \"Topic4\", \"Topic4\", \"Topic4\", \"Topic4\", \"Topic4\", \"Topic4\", \"Topic4\", \"Topic4\", \"Topic4\", \"Topic4\", \"Topic4\", \"Topic4\", \"Topic4\", \"Topic4\", \"Topic4\", \"Topic4\", \"Topic4\", \"Topic4\", \"Topic4\", \"Topic4\", \"Topic4\", \"Topic4\", \"Topic4\", \"Topic4\", \"Topic5\", \"Topic5\", \"Topic5\", \"Topic5\", \"Topic5\", \"Topic5\", \"Topic5\", \"Topic5\", \"Topic5\", \"Topic5\", \"Topic5\", \"Topic5\", \"Topic5\", \"Topic5\", \"Topic5\", \"Topic5\", \"Topic5\", \"Topic5\", \"Topic5\", \"Topic5\", \"Topic5\", \"Topic5\", \"Topic5\", \"Topic5\", \"Topic5\", \"Topic5\", \"Topic5\", \"Topic5\", \"Topic5\", \"Topic5\", \"Topic5\", \"Topic5\", \"Topic5\", \"Topic5\", \"Topic5\", \"Topic5\", \"Topic5\", \"Topic5\", \"Topic5\", \"Topic5\", \"Topic5\", \"Topic5\", \"Topic5\", \"Topic5\", \"Topic5\", \"Topic5\", \"Topic5\", \"Topic5\", \"Topic5\", \"Topic5\", \"Topic5\", \"Topic5\", \"Topic5\", \"Topic5\", \"Topic5\", \"Topic5\", \"Topic5\", \"Topic5\", \"Topic5\", \"Topic5\", \"Topic5\", \"Topic5\", \"Topic5\", \"Topic5\", \"Topic5\", \"Topic6\", \"Topic6\", \"Topic6\", \"Topic6\", \"Topic6\", \"Topic6\", \"Topic6\", \"Topic6\", \"Topic6\", \"Topic6\", \"Topic6\", \"Topic6\", \"Topic6\", \"Topic6\", \"Topic6\", \"Topic6\", \"Topic6\", \"Topic6\", \"Topic6\", \"Topic6\", \"Topic6\", \"Topic6\", \"Topic6\", \"Topic6\", \"Topic6\", \"Topic6\", \"Topic6\", \"Topic6\", \"Topic6\", \"Topic6\", \"Topic6\", \"Topic6\", \"Topic6\", \"Topic6\", \"Topic6\", \"Topic6\", \"Topic6\", \"Topic6\", \"Topic6\", \"Topic6\", \"Topic6\", \"Topic6\", \"Topic6\", \"Topic6\", \"Topic6\", \"Topic6\", \"Topic6\", \"Topic6\", \"Topic6\", \"Topic6\", \"Topic6\", \"Topic6\", \"Topic6\", \"Topic6\"], \"logprob\": [30.0, 29.0, 28.0, 27.0, 26.0, 25.0, 24.0, 23.0, 22.0, 21.0, 20.0, 19.0, 18.0, 17.0, 16.0, 15.0, 14.0, 13.0, 12.0, 11.0, 10.0, 9.0, 8.0, 7.0, 6.0, 5.0, 4.0, 3.0, 2.0, 1.0, -4.5071, -4.8666, -5.8538, -5.954, -5.9819, -6.341, -6.3683, -6.3823, -6.4781, -6.6556, -5.2693, -6.7324, -6.7732, -6.7942, -6.8049, -6.8049, -6.8266, -6.8714, -6.8715, -6.9311, -7.0603, -6.5646, -7.2422, -7.3109, -7.311, -7.311, -7.3658, -7.3659, -7.4042, -7.4042, -6.5808, -6.9547, -6.6715, -6.4176, -5.172, -6.0806, -5.7491, -6.4325, -4.3679, -5.336, -5.4818, -4.9393, -5.7014, -3.6928, -4.9615, -5.1757, -5.6992, -5.4478, -4.9989, -5.3423, -4.5359, -5.4832, -4.6378, -4.9511, -4.9197, -5.2122, -5.2077, -5.5435, -4.8298, -5.7232, -5.3429, -5.3169, -5.2961, -4.8418, -5.1958, -5.175, -5.1806, -5.39, -5.4168, -5.4325, -3.9944, -5.2597, -5.9313, -5.9906, -6.3548, -6.3873, -6.4294, -6.5289, -6.5877, -6.6081, -6.6081, -6.694, -6.7053, -6.9195, -6.9773, -5.7474, -7.1041, -7.1924, -7.3308, -7.3522, -7.4194, -7.4195, -7.5691, -7.6533, -7.6829, -7.683, -7.7136, -6.9482, -7.717, -7.8464, -6.1162, -4.1837, -5.0416, -6.8168, -6.2338, -3.2173, -4.9618, -5.6348, -6.6011, -5.0367, -4.8651, -4.3208, -4.9961, -5.6155, -4.9413, -5.2751, -4.4805, -4.2179, -4.4663, -5.3812, -5.0427, -4.9662, -5.2558, -5.044, -4.6873, -5.4853, -5.3588, -4.9763, -5.4851, -5.1059, -4.9751, -5.0255, -4.7135, -4.9288, -5.1012, -5.3561, -4.3749, -4.323, -5.5092, -5.8393, -5.8826, -5.8771, -6.0504, -6.1463, -6.1979, -6.2523, -6.327, -6.3443, -6.3531, -6.436, -6.4852, -6.5264, -6.5915, -6.6142, -6.6374, -6.6979, -6.7232, -6.7892, -6.7892, -6.7892, -6.803, -6.817, -6.6514, -6.905, -6.9362, -6.9686, -5.061, -3.8388, -4.9257, -5.9608, -6.2842, -5.3624, -5.8501, -6.4826, -6.3043, -5.4599, -6.1705, -4.8146, -5.6647, -5.783, -5.8998, -5.6239, -5.1295, -5.945, -5.5726, -4.6691, -5.3263, -4.7862, -5.7438, -4.9238, -5.6682, -5.6233, -5.6057, -5.2797, -5.4561, -4.6877, -5.051, -5.1017, -5.3167, -5.3337, -5.3591, -5.5879, -5.4201, -5.5693, -5.4959, -5.494, -5.5812, -5.5515, -4.5598, -5.6053, -5.6475, -5.7065, -6.1141, -6.1934, -5.8805, -6.3543, -6.3838, -6.5114, -6.5114, -6.5578, -6.5697, -6.6446, -6.9273, -6.9446, -6.9623, -7.0172, -7.0555, -7.1159, -7.1159, -7.116, -6.6383, -7.137, -7.249, -7.273, -7.2976, -7.2976, -7.3228, -7.3228, -5.3952, -5.2941, -5.3124, -5.8986, -5.8572, -6.7447, -3.9451, -4.2991, -6.5881, -4.7041, -4.405, -5.9495, -5.6748, -5.215, -4.7871, -5.7372, -5.8909, -4.8515, -4.3157, -4.5574, -5.6408, -5.0548, -5.651, -4.8841, -5.0561, -5.0993, -5.4592, -5.4861, -5.5324, -5.5392, -5.4603, -5.7274, -5.3796, -5.6337, -5.6646, -5.6398, -5.3972, -5.5355, -5.6708, -5.7541, -5.8215, -5.8875, -5.9255, -6.0935, -6.1089, -6.2323, -6.2411, -6.2411, -6.3632, -6.4356, -6.4683, -6.5137, -6.5984, -6.6112, -6.6772, -6.691, -6.7778, -6.6788, -6.8402, -6.9067, -6.9067, -6.978, -6.9781, -7.0349, -7.0547, -7.0953, -6.42, -5.4364, -6.1737, -5.9955, -4.6289, -6.3419, -4.8508, -4.643, -4.9997, -4.5644, -5.4407, -5.2103, -5.6724, -5.7497, -4.7781, -5.996, -4.3593, -5.5376, -5.8664, -5.3022, -4.9835, -5.5414, -5.7685, -5.6574, -5.5314, -5.4491, -5.5108, -5.3742, -5.3077, -5.4933, -5.5718, -5.4887, -5.5894, -5.6521, -5.6818, -3.9563, -4.565, -4.8428, -5.1427, -5.1546, -5.3621, -5.4581, -5.4909, -5.6532, -5.6532, -5.7673, -5.3601, -5.8897, -5.9874, -5.9943, -6.0365, -6.051, -6.1346, -6.1346, -6.1346, -6.1587, -6.1833, -6.2001, -6.2001, -6.2086, -6.2433, -6.2522, -6.2885, -6.2978, -6.2978, -5.5935, -5.0167, -5.2724, -4.9453, -4.3918, -5.9303, -5.2017, -4.647, -5.8524, -5.2216, -5.4778, -4.7413, -5.327, -5.3518, -5.7895, -5.1409, -4.8246, -5.2551, -5.4034, -5.5762, -5.5872, -5.3805, -5.6152, -5.6324], \"loglift\": [30.0, 29.0, 28.0, 27.0, 26.0, 25.0, 24.0, 23.0, 22.0, 21.0, 20.0, 19.0, 18.0, 17.0, 16.0, 15.0, 14.0, 13.0, 12.0, 11.0, 10.0, 9.0, 8.0, 7.0, 6.0, 5.0, 4.0, 3.0, 2.0, 1.0, 1.5688, 1.5684, 1.5662, 1.5658, 1.5657, 1.5639, 1.5638, 1.5637, 1.5631, 1.5618, 1.5618, 1.5612, 1.5608, 1.5606, 1.5605, 1.5605, 1.5604, 1.5599, 1.5599, 1.5587, 1.5579, 1.5565, 1.5555, 1.5546, 1.5546, 1.5545, 1.5537, 1.5537, 1.5531, 1.5531, 1.5396, 1.5468, 1.5269, 1.5053, 1.4148, 1.4742, 1.4487, 1.4833, 1.2465, 1.36, 1.3641, 1.2862, 1.3584, 0.9452, 1.1975, 1.2043, 1.3075, 1.2429, 1.1119, 1.1999, 0.9392, 1.2119, 0.889, 0.9761, 0.9597, 1.0435, 0.9868, 1.1088, 0.6599, 1.1919, 0.8441, 0.7874, 0.738, 0.1213, 0.5628, 0.4934, 0.1757, 0.2787, 0.2984, 0.2944, 1.7338, 1.7321, 1.7299, 1.7296, 1.7275, 1.7273, 1.727, 1.7262, 1.7257, 1.7255, 1.7255, 1.7248, 1.7246, 1.7223, 1.7216, 1.7202, 1.7199, 1.7185, 1.7162, 1.7158, 1.7146, 1.7145, 1.7114, 1.7094, 1.7087, 1.7086, 1.7078, 1.7069, 1.7043, 1.7041, 1.6901, 1.6646, 1.6677, 1.6937, 1.6793, 1.5734, 1.6223, 1.6419, 1.6709, 1.5181, 1.5026, 1.4061, 1.4173, 1.4766, 1.3465, 1.4032, 1.2518, 1.1477, 1.1182, 1.3331, 1.2077, 1.1658, 1.1853, 1.0671, 0.8847, 1.2574, 1.1715, 0.7389, 1.0493, 0.6527, 0.3812, 0.4282, -0.0755, 0.0343, 0.3885, 0.6285, 1.8023, 1.8019, 1.8002, 1.799, 1.7988, 1.7987, 1.7979, 1.7974, 1.7971, 1.7967, 1.7962, 1.7961, 1.796, 1.7954, 1.795, 1.7946, 1.7941, 1.7938, 1.7936, 1.793, 1.7928, 1.7921, 1.792, 1.792, 1.7919, 1.7917, 1.7913, 1.7907, 1.7903, 1.7897, 1.7863, 1.7143, 1.7163, 1.744, 1.7502, 1.6287, 1.6729, 1.7498, 1.7205, 1.5707, 1.6933, 1.3952, 1.5754, 1.597, 1.6225, 1.5093, 1.3004, 1.5854, 1.4386, 0.9029, 1.2397, 0.8943, 1.4446, 0.9613, 1.3768, 1.3016, 1.2555, 0.8404, 1.0197, -0.0497, 0.3053, 0.352, 0.5764, 0.3347, 0.3737, 0.9512, 0.1885, 0.6812, 0.0309, -0.0189, 0.6915, -0.5884, 1.8837, 1.882, 1.8819, 1.8816, 1.8796, 1.879, 1.8781, 1.8779, 1.8776, 1.8765, 1.8765, 1.8761, 1.876, 1.8752, 1.8717, 1.8715, 1.8713, 1.8705, 1.8698, 1.8689, 1.8689, 1.8689, 1.8688, 1.8685, 1.8665, 1.866, 1.8655, 1.8655, 1.865, 1.865, 1.8407, 1.8163, 1.7984, 1.8076, 1.797, 1.8424, 1.6635, 1.6095, 1.8131, 1.5517, 1.4992, 1.7184, 1.6725, 1.5843, 1.4856, 1.6322, 1.6415, 1.3433, 1.1379, 1.202, 1.5232, 1.1061, 1.3096, 0.7964, 0.8369, 0.8594, 0.9671, 0.8318, 0.8139, 0.813, 0.2081, 1.1504, -0.7416, 0.5594, 0.8096, -0.2741, 1.8957, 1.8952, 1.8947, 1.8943, 1.894, 1.8937, 1.8935, 1.8926, 1.8925, 1.8916, 1.8916, 1.8916, 1.8906, 1.89, 1.8898, 1.8894, 1.8885, 1.8884, 1.8877, 1.8875, 1.8865, 1.8862, 1.8857, 1.8848, 1.8848, 1.8837, 1.8837, 1.883, 1.8826, 1.882, 1.875, 1.8543, 1.8292, 1.7693, 1.5563, 1.7913, 1.4728, 1.3573, 1.4327, 1.3072, 1.5309, 1.4351, 1.487, 1.4906, 0.9814, 1.5972, 0.6038, 1.2828, 1.504, 1.0604, 0.7493, 1.1987, 1.2907, 1.1154, 0.9279, 0.6422, 0.7276, 0.3699, 0.0485, -0.0183, 0.3133, -0.1231, 0.079, 0.5424, 0.8005, 1.9018, 1.9012, 1.9007, 1.9001, 1.9001, 1.8995, 1.8992, 1.8991, 1.8985, 1.8985, 1.898, 1.8979, 1.8974, 1.8969, 1.8969, 1.8966, 1.8965, 1.896, 1.896, 1.896, 1.8959, 1.8957, 1.8956, 1.8956, 1.8955, 1.8953, 1.8952, 1.895, 1.8949, 1.8949, 1.8785, 1.6222, 1.6297, 1.5308, 1.2769, 1.7888, 1.4745, 1.0972, 1.6964, 1.2378, 1.4202, 0.7484, 1.2039, 1.1304, 1.5931, 0.7632, 0.1385, 0.7294, 0.4683, 0.7309, 0.6894, -0.7424, 0.6406, -0.8417]}, \"token.table\": {\"Topic\": [5, 1, 3, 5, 5, 6, 4, 1, 4, 5, 4, 1, 4, 2, 6, 3, 4, 1, 4, 6, 4, 2, 3, 4, 5, 6, 2, 1, 3, 1, 3, 1, 2, 4, 5, 6, 1, 1, 5, 4, 1, 2, 3, 4, 5, 6, 1, 2, 3, 4, 5, 6, 1, 3, 4, 5, 6, 1, 5, 6, 2, 4, 1, 2, 4, 6, 4, 3, 6, 1, 2, 3, 4, 2, 5, 1, 5, 5, 1, 2, 3, 4, 2, 2, 3, 2, 4, 5, 2, 3, 5, 2, 4, 6, 1, 6, 1, 5, 6, 5, 6, 4, 1, 1, 2, 3, 4, 5, 6, 1, 2, 5, 2, 3, 4, 5, 2, 3, 5, 4, 6, 2, 4, 1, 2, 4, 5, 6, 3, 6, 1, 3, 4, 5, 5, 3, 4, 1, 3, 5, 5, 1, 2, 3, 4, 5, 6, 1, 2, 3, 5, 1, 5, 1, 2, 3, 4, 5, 6, 1, 2, 3, 5, 1, 2, 3, 4, 1, 3, 5, 6, 3, 1, 4, 5, 6, 2, 4, 5, 3, 1, 3, 5, 1, 5, 3, 6, 2, 3, 5, 6, 4, 5, 6, 5, 1, 2, 3, 3, 3, 4, 5, 6, 1, 1, 3, 4, 2, 3, 4, 5, 6, 5, 1, 2, 5, 6, 6, 1, 2, 3, 4, 5, 6, 3, 6, 1, 2, 3, 4, 5, 6, 1, 2, 3, 4, 5, 4, 1, 2, 4, 5, 6, 1, 6, 4, 1, 2, 3, 4, 1, 2, 3, 4, 5, 6, 4, 6, 2, 1, 3, 4, 5, 6, 2, 3, 3, 6, 5, 1, 2, 4, 6, 6, 3, 3, 4, 3, 5, 3, 1, 3, 4, 6, 2, 3, 4, 5, 3, 4, 5, 6, 1, 2, 4, 5, 6, 2, 5, 4, 1, 2, 3, 4, 5, 6, 2, 3, 5, 2, 3, 1, 6, 1, 5, 2, 5, 4, 6, 1, 2, 5, 6, 5, 6, 1, 2, 3, 4, 5, 6, 3, 2, 1, 2, 3, 4, 5, 6, 1, 2, 3, 5, 6, 3, 1, 2, 4, 1, 3, 4, 5, 6, 4, 6, 1, 4, 6, 1, 2, 1, 1, 6, 6, 3, 3, 4, 5, 6, 5, 4, 5, 4, 4, 1, 2, 1, 3, 4, 1, 1, 2, 3, 4, 5, 1, 3, 4, 5, 6, 1, 2, 3, 5, 2, 3, 4, 5, 6, 1, 2, 3, 4, 5, 6, 4, 4, 6, 1, 6, 3, 2, 3, 4, 5, 6, 4, 5, 1, 2, 3, 4, 5, 3, 4, 5, 6, 6, 1, 2, 1, 2, 4, 5, 6, 4, 6, 1, 2, 3, 4, 5, 6, 1, 2, 3, 4, 5, 6, 3, 4, 4, 1, 2, 3, 6, 1, 4, 5, 1, 1, 2, 5, 5, 2, 6, 3, 2, 4, 6, 1, 2, 3, 4, 5, 6, 1, 2, 3, 4, 5, 5, 1, 2, 1, 3, 3, 2, 1, 2, 3, 4, 5, 6, 1, 6, 1, 3, 4, 2, 5, 1, 2, 6, 5, 1, 3, 5, 6, 1, 6, 1, 4, 5, 3, 1, 2, 3, 4, 5, 6, 3, 6, 1, 2, 4, 2, 4, 5, 2, 5, 1, 5, 6, 3, 1, 1, 1, 3, 3, 5, 3, 4, 6, 2, 1, 3, 1, 2, 3, 4, 5, 6, 3, 3, 2, 1, 2, 3, 4, 5, 6, 1, 3, 4, 5, 6, 2, 4, 5, 2, 3, 5, 1, 2, 4, 5, 6, 2, 4, 6, 5, 2, 4, 5, 1, 2, 3, 5, 6, 6, 2, 4, 6, 1, 2, 4, 5, 5, 1, 2, 3, 5, 6, 1, 2, 3, 4, 5, 6, 5, 4, 6, 4, 1, 2, 3, 6, 3, 2, 3, 5, 6, 3, 5, 6, 1, 2, 4, 5, 6, 1, 2, 3, 4, 5, 6, 1, 1, 2, 3, 4, 5, 6, 3, 6, 4, 6, 5, 2, 3, 4, 5, 6, 6, 4, 3, 2, 4, 1, 3, 2, 4, 2, 4, 1, 2, 4, 2, 2, 2, 3, 4, 5, 6, 1, 2, 3, 4, 5, 1, 3, 1, 2, 2, 3, 1, 6, 1, 2, 5, 6, 1, 2, 3, 4, 5, 6, 6, 2, 3, 6, 5, 2, 4, 6, 1, 2, 3, 4, 5, 2, 1, 2, 3, 4, 6, 1, 2, 4, 5, 6, 1, 3, 4, 1, 2, 3, 4, 5, 6, 3, 4, 5, 1, 3, 4, 5, 6, 1, 3, 4, 5, 6, 1, 2, 6, 1, 2, 4, 1, 2, 3, 4, 5, 6, 1, 1, 2, 3, 4, 6, 1, 4, 1, 2, 3, 1, 3, 5, 1, 3, 4, 5, 6, 1, 2, 3, 4, 5, 6, 5, 4, 2, 5, 6, 1, 2, 3, 4, 5, 6, 2, 6, 2, 3, 5, 1, 5, 1, 2, 3, 4, 5, 6, 1, 2, 3, 4, 6, 2, 1, 2, 1, 3, 1, 3, 5, 4, 5, 1, 2, 2, 6], \"Freq\": [0.9825843125046612, 0.20260079424123903, 0.1668477129045498, 0.6296514879850272, 0.3461879914083757, 0.6514069897506714, 0.9951869148395821, 0.05748418120694349, 0.9312437355524846, 0.9839879019360879, 0.9920523088279715, 0.027692084064758142, 0.9553769002341559, 0.9796773558900894, 0.9910125386188839, 0.8790088612895085, 0.11943055180563973, 0.006046207437823797, 0.9915780198031027, 0.9920725313924977, 0.9910799750175467, 0.09750491992322839, 0.4308788842321712, 0.1318637964676041, 0.2052246409812712, 0.1346496513225535, 0.988560155475542, 0.04855761002386626, 0.9517291564677787, 0.10075980541310246, 0.8934036079961751, 0.16737835496059614, 0.2711529350361657, 0.3414518441196161, 0.10210079652596364, 0.11716484847241729, 0.9877129412266511, 0.993900472242327, 0.9944065395604417, 0.9887713342083395, 0.009678522786869231, 0.22341256766356477, 0.0717823773359468, 0.03226174262289744, 0.21696021913898528, 0.44682513532712953, 0.1403148685425781, 0.0028635687457669004, 0.6929836364755899, 0.011454274983067602, 0.15176914352564572, 0.0028635687457669004, 0.2938695736888233, 0.12494454663640449, 0.35784118156666245, 0.09895608093603235, 0.12294543389022201, 0.8869640812454889, 0.027609776848108603, 0.08282933054432581, 0.939584207596653, 0.05051527997831467, 0.05019705165289394, 0.5780757238736496, 0.25584303745668524, 0.11658670061317303, 0.9859386103667231, 0.7441313163374162, 0.25235757684486293, 0.003600098527345187, 0.04680128085548743, 0.7956217745432863, 0.15480423667584303, 0.02067683077225742, 0.9718110462960987, 0.04165816696333921, 0.9581378401568019, 0.9961702819621813, 0.137516027365353, 0.6778567813564876, 0.07778684376221989, 0.10556785939158414, 0.9938415037481408, 0.9622292379976575, 0.9934952031146668, 0.18834668016923597, 0.8094899871103334, 0.9932313664622773, 0.27862084727689496, 0.42686142627678136, 0.29290909585519725, 0.9926738313458431, 0.715775611661871, 0.2825430046033701, 0.9952443522086984, 0.9991022704885685, 0.030748741402570397, 0.7379697936616896, 0.23061556051927798, 0.2427220396661592, 0.7557930178222682, 0.9923543275981772, 0.9878547365227403, 0.24789126415813523, 0.25828846949810114, 0.22381352547610883, 0.053080469367194516, 0.15705252276685389, 0.05964712537138353, 0.09475750312324845, 0.4467139432953141, 0.4557384674022902, 0.04141051215022638, 0.811646038144437, 0.12837258766570178, 0.012423153645067915, 0.0024308534695110435, 0.9820648016824615, 0.012154267347555217, 0.9858020166782989, 0.9920723400827154, 0.24052827001461624, 0.758662290401833, 0.0791902801551069, 0.18859790405360985, 0.1364990355305132, 0.5814233727177586, 0.014587683186467061, 0.9826697395162485, 0.9968965410796633, 0.0029618935158987262, 0.6516165734977197, 0.0029618935158987262, 0.3406177543283535, 0.9942923392773435, 0.9985390757506448, 0.0011803062361118734, 0.9824021215818711, 0.8391552391152033, 0.1571661986302722, 0.9921225724883519, 0.23534070824595402, 0.12031463174371806, 0.19038798869335605, 0.1269253257955707, 0.30938048162670356, 0.015865665724446337, 0.19276481812806212, 0.028709653763753933, 0.10253447772769263, 0.6726261738936636, 0.9872684329009208, 0.9910532840073354, 0.0985957455930412, 0.00739468091947809, 0.579250005359117, 0.0985957455930412, 0.00246489363982603, 0.2144457466648646, 0.6887680498171768, 0.1355554140597635, 0.05373367764531166, 0.1221219946484356, 0.03435816114292645, 0.41516111381036125, 0.20042260666707096, 0.3478763815721303, 0.907335570700126, 0.06903640211848786, 0.014793514739675969, 0.9989047384026419, 0.9968015693839903, 0.8561185602817727, 0.011240068625143625, 0.020606792479429977, 0.11052734148057898, 0.7276709719359898, 0.2236564459197198, 0.04725136181402531, 0.9920614139710624, 0.17336827975362845, 0.6041621870202203, 0.21802374575077516, 0.9407193259015694, 0.05701329247888299, 0.9960062511731886, 0.9910125065699007, 0.9112288984965573, 0.02614181266178648, 0.03734544665969497, 0.02614181266178648, 0.24148679973385245, 0.0670796665927368, 0.6892435742403705, 0.9981272999292414, 0.03805197512646433, 0.9576413740160189, 0.9954675310464843, 0.9949552263368243, 0.026571267342385404, 0.1814176184066314, 0.5534153612000271, 0.23822515548345535, 0.9953213189736071, 0.2948632646068641, 0.24592330367626422, 0.45881213372437357, 0.3313171451371758, 0.16822294675695612, 0.14975945260070486, 0.04205573668923903, 0.30977640195488265, 0.9969611692935542, 0.3297082745390722, 0.11790891937158873, 0.4956541610620489, 0.054587462672031815, 0.9916909992488622, 0.6300119152414081, 0.0080001513046528, 0.020000378261632, 0.1940036691378304, 0.1460027613099136, 0.0020000378261632, 0.9231608445192869, 0.07101237265532977, 0.03880918960318737, 0.17379767517949124, 0.20079537229475203, 0.10799078846104311, 0.33409650180135214, 0.14511262199452668, 0.5324452416851392, 0.033894083672086406, 0.16145908949248433, 0.1250999815533371, 0.14728519995688458, 0.9846126836167394, 0.694611675880852, 0.21325797066517388, 0.02132579706651739, 0.004569813657110869, 0.06702393363762608, 0.9924706968535864, 0.9901193468390893, 0.9863533163476165, 0.021112341610109758, 0.27084118236969373, 0.2340453869920739, 0.47351966182674743, 0.25904996038385764, 0.16806655966367348, 0.12889315102026086, 0.2653682521005371, 0.05939194213678687, 0.12004754261690964, 0.986999972390093, 0.9968512159243977, 0.9826350938284248, 0.0946192106438624, 0.1329783500940769, 0.12019197027733873, 0.03068731156017159, 0.6163035071667795, 0.3008364786297887, 0.6973936550054192, 0.18138377293265, 0.8137758461302677, 0.9905568433212829, 0.13502704093359547, 0.07715830910491168, 0.7812278796872308, 0.9980704432047665, 0.993536641354319, 0.9911202158581814, 0.3283926986916013, 0.6704684264953527, 0.9918287197271229, 0.9851969532597549, 0.9962363793244433, 0.24657827431888427, 0.6052375824190795, 0.05764167451610282, 0.08966482702504883, 0.0006662979330676212, 0.9148270621018438, 0.026651917322704843, 0.057301622243815416, 0.04678967458868197, 0.21743437014740444, 0.6935881174322268, 0.044037340789347734, 0.4027244192813239, 0.26014496649228375, 0.0006253484771449128, 0.021261848222927038, 0.3151756324810361, 0.9944172912940278, 0.9975773521240762, 0.9902530889343427, 0.1751566820589535, 0.004491196975870602, 0.16617428810721227, 0.06437382332081196, 0.43265197534220134, 0.15719189415547108, 0.959551748873306, 0.9963576598955804, 0.9886314671291945, 0.9762083276571527, 0.9868256859656561, 0.9198274924229596, 0.0778315570511735, 0.9723982124669875, 0.026046380691080024, 0.9885995365094247, 0.986254975073489, 0.9852215481689686, 0.9894690225887615, 0.684091508220631, 0.2445041892499594, 0.0052022167925523275, 0.062426601510627934, 0.897053236795157, 0.09674103534065419, 0.37502440535430676, 0.054948630821143846, 0.08929152508435875, 0.0027474315410571924, 0.1799567659392461, 0.29672260643417675, 0.992515359911568, 0.9949972302250205, 0.21282750993759364, 0.6169606467853838, 0.0007971067787924855, 0.12992840494317515, 0.03905823216083179, 0.9920725514542705, 0.08989907648998509, 0.273366579530771, 0.5687492594264363, 0.05687492594264363, 0.009173375152039295, 0.9857983602271706, 0.039436569580449034, 0.0035851426891317303, 0.9572330979981719, 0.0032980263345182333, 0.0016490131672591167, 0.10223881637006524, 0.3792730284695968, 0.5144921081848444, 0.9891946284137461, 0.995347290696894, 0.09880825171850965, 0.005812250101088803, 0.8950865155676756, 0.009039623228359196, 0.9853189318911524, 0.9824015853740334, 0.7697487468979864, 0.22807370278458858, 0.991290643505951, 0.9987096788949062, 0.08281605374685319, 0.04968963224811192, 0.5394874358366436, 0.32653186905902115, 0.982954519341169, 0.9870001486476748, 0.9817974209300917, 0.9943163217774416, 0.9838196333472746, 0.9877120161381333, 0.9595527453705956, 0.9889909257350306, 0.0016231155478140175, 0.9982160619056207, 0.9913333721747193, 0.10822378431524103, 0.015136193610523221, 0.40262275003991765, 0.33678030783414165, 0.1377393618557613, 0.0016871520367062322, 0.10122912220237393, 0.11135203442261132, 0.3239331910475966, 0.46227965805750765, 0.721230561568432, 0.012470845444987297, 0.05404033026161162, 0.21200437256478405, 0.17005043632000827, 0.0301130980983348, 0.12222375110500594, 0.18244994730167555, 0.49775179797835756, 0.5355650454752849, 0.16357816286813634, 0.1566401004952627, 0.07231595780956762, 0.0008005456584084976, 0.07098171504555345, 0.9903696421932281, 0.6796171866852994, 0.31993121044516876, 0.8131410397463921, 0.18447378812156953, 0.9907432459539891, 0.5658128824148844, 0.13669849049939434, 0.14977399828629293, 0.0011886825260816899, 0.14739663323412955, 0.7743630713435163, 0.22124659181243322, 0.43546464355549236, 0.06143931852144323, 0.22958903236960362, 0.20048619728049893, 0.07329602911330069, 0.8354585865162539, 0.00954809813161433, 0.004774049065807165, 0.15276957010582928, 0.9908700367527478, 0.9846448129425527, 0.9868946567266828, 0.5429367055189313, 0.23638060648443265, 0.07294557778230538, 0.14496779382053096, 0.0027700852322394454, 0.9841342264199687, 0.012780963979480113, 0.19936947280681738, 0.15072332144195394, 0.2392433673681809, 0.002392433673681809, 0.316598722817226, 0.091709957491136, 0.36493640657048987, 0.33875262852058924, 0.0024547291921781828, 0.11128105671207762, 0.07118714657316731, 0.11128105671207762, 0.1986096095192787, 0.8007770426362407, 0.9931005115491629, 0.01167911661518328, 0.1751867492277492, 0.7912601506786673, 0.01751867492277492, 0.9924803214285417, 0.004783037693631526, 0.002391518846815763, 0.9924388910613712, 0.9949320532606578, 0.9945030254021943, 0.9955515462386869, 0.9932314753242748, 0.9694174768688401, 0.9980704432047175, 0.9928595337384742, 0.22705692060541943, 0.7390934456441715, 0.032436702943631344, 0.2805004773169993, 0.36982185836207726, 0.0007835208863603331, 0.12457982093129297, 0.08070265129511431, 0.14416784309030128, 0.4578678811593631, 0.009249856185037639, 0.16187248323815867, 0.22199654844090333, 0.14799769896060222, 0.9894135685501714, 0.9917647333438611, 0.9946004349197954, 0.05156869311863118, 0.9396961857172793, 0.9921692265614958, 0.9928548887942205, 0.12148262433505919, 0.2637061845322017, 0.20592786320211254, 0.3422254417243741, 0.04000037630544632, 0.02518542211824398, 0.8106802245403836, 0.1880443819810168, 0.9991081966785915, 0.9943789697841023, 0.9896795623486463, 0.3312754710558915, 0.666151762449347, 0.4621727525285972, 0.5048348527620061, 0.031996575175056725, 0.9885729599057383, 0.9877108862404776, 0.9971784481542892, 0.236208542506374, 0.7599753106726815, 0.9872688120858454, 0.9892989965541908, 0.9994732388480262, 0.9891949120124827, 0.9895685160455495, 0.987788314305139, 0.07150438409294003, 0.5397205914707492, 0.1313205515553033, 0.09075556442565465, 0.061878793926582715, 0.10450640752045082, 0.9880798075499926, 0.993329360822492, 0.0505949367476569, 0.01581091773364278, 0.9328441462849241, 0.023158943018834813, 0.03859823836472469, 0.9340773684263374, 0.9854817132934206, 0.9839872466963535, 0.6993135610277015, 0.19831280088845266, 0.10228765519509662, 0.9911197830693195, 0.9860586236486656, 0.9846446931296053, 0.9574548807601366, 0.03754725022588771, 0.11560041257124294, 0.8761294426452098, 0.17015143717467018, 0.6972872621471778, 0.13345210758797663, 0.9934501747890496, 0.047800039819535484, 0.9480341230874537, 0.3409564797675574, 0.010467962098126761, 0.23029516615878876, 0.18692789460940645, 0.1622534125209648, 0.0695371767946992, 0.9868078871108865, 0.9903561734656191, 0.9898567885117273, 0.21113710866058139, 0.04336870340055186, 0.10271535015920176, 0.13695380021226902, 0.2841791354404582, 0.22140864367650157, 0.2222708867364491, 0.6642430545823363, 0.001284802813505486, 0.021841647829593264, 0.08865139413187854, 0.09500483928224068, 0.5045084568781057, 0.39967553077356427, 0.28834422450161706, 0.0012536705413113784, 0.7095775263822401, 0.27523527619306376, 0.09797777494916128, 0.03290856563177936, 0.059085833747967484, 0.5347641915164146, 0.9971018865286171, 0.9891950669724889, 0.9902746803149813, 0.9871856311667214, 0.9359554173047634, 0.031763192894958034, 0.031763192894958034, 0.7239991274687044, 0.16010156830521255, 0.012043038323843422, 0.000708414019049613, 0.1034284467812435, 0.9997128351290554, 0.00573774401515764, 0.9237767864403801, 0.06311518416673405, 0.6915121087229024, 0.06091039299631783, 0.037621125085961014, 0.20960341119321135, 0.9957847071495318, 0.017513941226380395, 0.6195556708832065, 0.17076092695720885, 0.1379222871577456, 0.05254182367914118, 0.004815557651356908, 0.0016051858837856361, 0.17336007544884868, 0.1910171201704907, 0.6276276805601837, 0.0032103717675712722, 0.9965388142378977, 0.9943470888068229, 0.9978960840332753, 0.9926459496105013, 0.054710955203058756, 0.8514392403476019, 0.029531481501651035, 0.06434754390359752, 0.9954931305133614, 0.773137885727957, 0.08693920000153733, 0.11798891428780067, 0.021734800000384333, 0.8037719480696293, 0.1684551986972277, 0.02406502838531824, 0.21421557042292322, 0.570061270051085, 0.09205958398340502, 0.07789657106288117, 0.04425941537663703, 0.4835067838886278, 0.05023447105336393, 0.09921308033039375, 0.15698272204176228, 0.1984261606607875, 0.010046894210672785, 0.9855351160927706, 0.5062318862512606, 0.17458509923280655, 0.17004199256132085, 0.0318017467003997, 0.04543106671485672, 0.07139167626620342, 0.003665104001374989, 0.996908288373997, 0.9957771698054758, 0.9957483059612002, 0.9883914599705744, 0.12125311155848711, 0.1994294598001433, 0.3988589196002866, 0.24569709447377652, 0.03350414924642407, 0.9892989138259414, 0.985657658206021, 0.9895337750996771, 0.9619063667649298, 0.025650836447064795, 0.9905063609184835, 0.008688652288758628, 0.08170521446294267, 0.9150984019849578, 0.7930111768435325, 0.20615281067848948, 0.306429488730027, 0.670314506596934, 0.023407808166877063, 0.9900815106373381, 0.9808575711736524, 0.27159717255029586, 0.4560150057634597, 0.10394459690196509, 0.152563843839981, 0.01508873180834977, 0.1823992879683734, 0.010889509729455129, 0.23412445918328528, 0.5608097510669392, 0.010889509729455129, 0.9911279507637376, 0.9956541746128944, 0.2790588476430073, 0.719844981988212, 0.945631008398297, 0.04939863476707521, 0.2615456002997234, 0.7348185913182704, 0.09528157339137845, 0.8930312172760568, 0.0037365322898579786, 0.007473064579715957, 0.001338181734593553, 0.5901381449557569, 0.3251781615062334, 0.08162908581020674, 0.01815830484596598, 0.9760088854706715, 0.9942173971474831, 0.08116180077667745, 0.9165344819415039, 0.994123928323091, 0.9913981896673352, 0.1491124074113477, 0.8449703086643037, 0.9990096364372523, 0.5520795855312146, 0.2295488802998208, 0.1452841014555828, 0.06005076193497422, 0.012591288792817174, 0.9993622173461599, 0.5905362780275426, 0.06322370174782346, 0.1345185143570712, 0.10223407091137413, 0.10761481148565696, 0.5580234228650146, 0.1164130496679849, 0.04175685477221198, 0.2581332840464013, 0.0253071847104315, 0.75310877829996, 0.03524079205216451, 0.21144475231298707, 0.2349040630089931, 0.18282627545511257, 0.0915978107330665, 0.04579890536653325, 0.27405474017715864, 0.17137654911347924, 0.19926643643585984, 0.13616539823117088, 0.6609003475122684, 0.63306558977361, 0.06284106957311571, 0.023274470212265076, 0.14895660935849647, 0.13266448020991092, 0.2881950918672374, 0.15036265662638473, 0.4786544569273247, 0.07768737259029877, 0.0050120885542128246, 0.12316727970952984, 0.7184757983055907, 0.15601188763207113, 0.2455673124328343, 0.17215028088074982, 0.5810071979725306, 0.0807176940921528, 0.29171657864883294, 0.2506496816545798, 0.05947619564684944, 0.008496599378121349, 0.3101258773014292, 0.9938250257755149, 0.25960011766780644, 0.5133796048946306, 0.13154624796619788, 0.09196596096751887, 0.0023282521763928828, 0.08224946386836089, 0.9173978662240254, 0.1656737823341538, 0.4277642740594955, 0.4067155558121235, 0.8086958650769968, 0.12025217324565007, 0.06914499961624879, 0.2518109108932089, 0.2929993126749977, 0.35010141514520493, 0.014041500607428004, 0.09080170392803442, 0.16847809295484473, 0.5562539003459955, 0.0011047743800317688, 0.11544892271331983, 0.13257292560381226, 0.02651458512076245, 0.9933068339014195, 0.9852224752344447, 0.37256819467061114, 0.5438293809304888, 0.08112371980731048, 0.1811499398766085, 0.18556823109311113, 0.08983858806888714, 0.34168118740953796, 0.10751175293489773, 0.09278411554655557, 0.9781275048189121, 0.014820113709377455, 0.9326834309681638, 0.056390648897307404, 0.010741075980439507, 0.9786763660290951, 0.012710082675702535, 0.338281999911932, 0.002349180554943972, 0.38174184017839546, 0.21964838188726138, 0.008222131942303902, 0.0505073819312954, 0.005442399283641156, 0.8054750939788912, 0.018141330945470522, 0.025397863323658728, 0.14513064756376418, 0.9565809601159219, 0.9946677601702921, 0.9909514392485914, 0.9954698143072467, 0.9911198349174827, 0.2433152520635311, 0.10366093579038012, 0.6536397895671191, 0.9846126836167394, 0.9851984996185907, 0.9953220167167673, 0.9808549505747565, 0.988560448019611, 0.9954783383706884], \"Term\": [\"affairs\", \"ago\", \"ago\", \"ago\", \"alliance\", \"alliance\", \"alm\", \"alongside\", \"alongside\", \"alright\", \"altena\", \"anankos\", \"anankos\", \"annand\", \"annette\", \"answer\", \"answer\", \"apologize\", \"apologize\", \"archbishop\", \"arion\", \"army\", \"army\", \"army\", \"army\", \"army\", \"ashe\", \"ashera\", \"ashera\", \"ashnard\", \"ashnard\", \"ask\", \"ask\", \"ask\", \"ask\", \"ask\", \"aw\", \"azura\", \"balthus\", \"bastian\", \"battle\", \"battle\", \"battle\", \"battle\", \"battle\", \"battle\", \"begnion\", \"begnion\", \"begnion\", \"begnion\", \"begnion\", \"begnion\", \"believe\", \"believe\", \"believe\", \"believe\", \"believe\", \"beorc\", \"beorc\", \"beorc\", \"bernadetta\", \"bernadetta\", \"best\", \"best\", \"best\", \"best\", \"betrayed\", \"black\", \"black\", \"blade\", \"blade\", \"blade\", \"blade\", \"border\", \"border\", \"boy\", \"boy\", \"bridge\", \"brother\", \"brother\", \"brother\", \"brother\", \"busy\", \"caeda\", \"caelin\", \"captain\", \"captain\", \"caspar\", \"castle\", \"castle\", \"castle\", \"celica\", \"choice\", \"choice\", \"chrom\", \"church\", \"city\", \"city\", \"city\", \"claude\", \"claude\", \"clive\", \"cold\", \"come\", \"come\", \"come\", \"come\", \"come\", \"come\", \"coming\", \"coming\", \"coming\", \"command\", \"command\", \"command\", \"command\", \"commander\", \"commander\", \"commander\", \"comrades\", \"constance\", \"corrin\", \"corrin\", \"course\", \"course\", \"course\", \"course\", \"course\", \"creator\", \"crest\", \"crimea\", \"crimea\", \"crimea\", \"crimea\", \"cross\", \"daein\", \"daein\", \"dancing\", \"dark\", \"dark\", \"dawn\", \"day\", \"day\", \"day\", \"day\", \"day\", \"day\", \"days\", \"days\", \"days\", \"days\", \"debt\", \"dedue\", \"defeat\", \"defeat\", \"defeat\", \"defeat\", \"defeat\", \"defeat\", \"didn\", \"didn\", \"didn\", \"didn\", \"die\", \"die\", \"die\", \"die\", \"died\", \"died\", \"died\", \"dimitri\", \"divine\", \"does\", \"does\", \"does\", \"does\", \"doing\", \"doing\", \"doing\", \"dorothea\", \"dragon\", \"dragon\", \"dragon\", \"dream\", \"dream\", \"duma\", \"eagle\", \"easy\", \"easy\", \"easy\", \"easy\", \"edelgard\", \"edelgard\", \"edelgard\", \"eirika\", \"elise\", \"elise\", \"eliwood\", \"emblem\", \"empire\", \"empire\", \"empire\", \"empire\", \"empress\", \"end\", \"end\", \"end\", \"enemy\", \"enemy\", \"enemy\", \"enemy\", \"enemy\", \"ephraim\", \"face\", \"face\", \"face\", \"face\", \"faerghus\", \"family\", \"family\", \"family\", \"family\", \"family\", \"family\", \"fang\", \"fang\", \"far\", \"far\", \"far\", \"far\", \"far\", \"far\", \"father\", \"father\", \"father\", \"father\", \"father\", \"fay\", \"feel\", \"feel\", \"feel\", \"feel\", \"feel\", \"feels\", \"felix\", \"fernand\", \"fight\", \"fight\", \"fight\", \"fight\", \"fighting\", \"fighting\", \"fighting\", \"fighting\", \"fighting\", \"fighting\", \"flame\", \"flayn\", \"flora\", \"fodlan\", \"fodlan\", \"fodlan\", \"fodlan\", \"fodlan\", \"follow\", \"follow\", \"fort\", \"fort\", \"frelia\", \"garon\", \"garon\", \"garon\", \"garreg\", \"gate\", \"gatrie\", \"general\", \"general\", \"giving\", \"gloucester\", \"god\", \"goddess\", \"goddess\", \"goddess\", \"goddess\", \"going\", \"going\", \"going\", \"going\", \"gone\", \"gone\", \"gone\", \"gone\", \"good\", \"good\", \"good\", \"good\", \"good\", \"gotten\", \"grado\", \"grannvale\", \"great\", \"great\", \"great\", \"great\", \"great\", \"great\", \"gregor\", \"greil\", \"grima\", \"grust\", \"gunter\", \"guy\", \"guy\", \"guys\", \"guys\", \"haar\", \"hall\", \"hannibal\", \"hapi\", \"happy\", \"happy\", \"happy\", \"happy\", \"hasn\", \"hasn\", \"heard\", \"heard\", \"heard\", \"heard\", \"heard\", \"heard\", \"hector\", \"hello\", \"help\", \"help\", \"help\", \"help\", \"help\", \"hilda\", \"hold\", \"hold\", \"hold\", \"hold\", \"hold\", \"horrible\", \"hoshido\", \"hoshido\", \"hoshido\", \"house\", \"house\", \"house\", \"house\", \"house\", \"huff\", \"human\", \"humans\", \"humans\", \"humans\", \"hurt\", \"hurt\", \"ice\", \"idea\", \"idea\", \"ignatz\", \"ike\", \"imperial\", \"imperial\", \"imperial\", \"imperial\", \"innes\", \"isaach\", \"jehanna\", \"jeralt\", \"jill\", \"julia\", \"kaze\", \"kid\", \"kill\", \"kill\", \"kindness\", \"king\", \"king\", \"king\", \"king\", \"king\", \"kingdom\", \"kingdom\", \"kingdom\", \"kingdom\", \"kingdom\", \"knew\", \"knew\", \"knew\", \"knew\", \"knights\", \"knights\", \"knights\", \"knights\", \"knights\", \"know\", \"know\", \"know\", \"know\", \"know\", \"know\", \"kurth\", \"lady\", \"lady\", \"laguz\", \"laguz\", \"laus\", \"leave\", \"leave\", \"leave\", \"leave\", \"leave\", \"leif\", \"leif\", \"life\", \"life\", \"life\", \"life\", \"life\", \"light\", \"light\", \"light\", \"light\", \"lion\", \"lissa\", \"listening\", \"little\", \"little\", \"little\", \"little\", \"little\", \"lonato\", \"lonato\", \"long\", \"long\", \"long\", \"long\", \"long\", \"long\", \"look\", \"look\", \"look\", \"look\", \"look\", \"look\", \"lord\", \"lord\", \"lorenz\", \"lose\", \"lose\", \"lose\", \"lose\", \"love\", \"love\", \"love\", \"loved\", \"lucina\", \"lyn\", \"lyon\", \"lysithea\", \"macedon\", \"mach\", \"madness\", \"majesty\", \"majesty\", \"majesty\", \"make\", \"make\", \"make\", \"make\", \"make\", \"make\", \"man\", \"man\", \"man\", \"man\", \"man\", \"manster\", \"manuela\", \"marianne\", \"mark\", \"mark\", \"marquess\", \"marth\", \"matter\", \"matter\", \"matter\", \"matter\", \"matter\", \"matter\", \"maybe\", \"maybe\", \"mean\", \"medallion\", \"mercedes\", \"milord\", \"milord\", \"mind\", \"mind\", \"mind\", \"minister\", \"missed\", \"mist\", \"monastery\", \"monastery\", \"monster\", \"month\", \"mother\", \"mycen\", \"myrddin\", \"nasir\", \"need\", \"need\", \"need\", \"need\", \"need\", \"need\", \"nemesis\", \"ninian\", \"nohr\", \"nohr\", \"nohr\", \"north\", \"north\", \"north\", \"nyna\", \"officers\", \"old\", \"old\", \"old\", \"ostia\", \"pact\", \"pal\", \"parents\", \"parents\", \"pass\", \"pass\", \"path\", \"path\", \"path\", \"pegasus\", \"pelleas\", \"pelleas\", \"people\", \"people\", \"people\", \"people\", \"people\", \"people\", \"petra\", \"pherae\", \"pirates\", \"place\", \"place\", \"place\", \"place\", \"place\", \"place\", \"power\", \"power\", \"power\", \"power\", \"power\", \"prince\", \"prince\", \"prince\", \"princess\", \"princess\", \"princess\", \"professor\", \"professor\", \"professor\", \"professor\", \"professor\", \"promise\", \"quan\", \"raphael\", \"rausten\", \"ready\", \"ready\", \"ready\", \"really\", \"really\", \"really\", \"really\", \"really\", \"relationship\", \"remain\", \"remain\", \"remain\", \"remember\", \"remember\", \"remember\", \"remember\", \"renais\", \"rest\", \"rest\", \"rest\", \"rest\", \"rest\", \"return\", \"return\", \"return\", \"return\", \"return\", \"return\", \"returned\", \"reyson\", \"rhea\", \"ridiculous\", \"right\", \"right\", \"right\", \"right\", \"rolf\", \"run\", \"run\", \"run\", \"run\", \"sacred\", \"sacred\", \"sacred\", \"safe\", \"safe\", \"safe\", \"safe\", \"safe\", \"said\", \"said\", \"said\", \"said\", \"said\", \"said\", \"sanaki\", \"say\", \"say\", \"say\", \"say\", \"say\", \"say\", \"seiros\", \"seiros\", \"seliph\", \"seteth\", \"seth\", \"shall\", \"shall\", \"shall\", \"shall\", \"shall\", \"shamir\", \"shannan\", \"shinon\", \"shut\", \"shut\", \"sigh\", \"sigh\", \"sigurd\", \"sigurd\", \"sir\", \"sir\", \"sister\", \"sister\", \"sister\", \"sniff\", \"sob\", \"soldiers\", \"soldiers\", \"soldiers\", \"soldiers\", \"soldiers\", \"son\", \"son\", \"son\", \"son\", \"son\", \"song\", \"soren\", \"sorry\", \"sorry\", \"sothe\", \"sothe\", \"sounds\", \"sounds\", \"stay\", \"stay\", \"stay\", \"stay\", \"stop\", \"stop\", \"stop\", \"stop\", \"students\", \"students\", \"sub\", \"sword\", \"sword\", \"sylvain\", \"tahra\", \"takumi\", \"takumi\", \"talking\", \"tell\", \"tell\", \"tell\", \"tell\", \"tell\", \"thank\", \"thing\", \"thing\", \"thing\", \"thing\", \"thing\", \"things\", \"things\", \"things\", \"things\", \"things\", \"thought\", \"thought\", \"thought\", \"time\", \"time\", \"time\", \"time\", \"time\", \"time\", \"today\", \"today\", \"today\", \"true\", \"true\", \"true\", \"true\", \"true\", \"truly\", \"truly\", \"truly\", \"truly\", \"truly\", \"try\", \"try\", \"try\", \"understand\", \"understand\", \"understand\", \"use\", \"use\", \"use\", \"use\", \"use\", \"use\", \"voice\", \"wait\", \"wait\", \"wait\", \"wait\", \"wait\", \"waiting\", \"waiting\", \"want\", \"want\", \"want\", \"wanted\", \"wanted\", \"wanted\", \"war\", \"war\", \"war\", \"war\", \"war\", \"way\", \"way\", \"way\", \"way\", \"way\", \"way\", \"wh\", \"wha\", \"win\", \"win\", \"win\", \"wish\", \"wish\", \"wish\", \"wish\", \"wish\", \"wish\", \"women\", \"women\", \"won\", \"won\", \"won\", \"worked\", \"worked\", \"world\", \"world\", \"world\", \"world\", \"world\", \"world\", \"worry\", \"worry\", \"worry\", \"worry\", \"worry\", \"worrying\", \"wow\", \"wyvern\", \"ya\", \"yato\", \"years\", \"years\", \"years\", \"yen\", \"yep\", \"yer\", \"yukimura\", \"yune\", \"yuri\"]}, \"R\": 30, \"lambda.step\": 0.01, \"plot.opts\": {\"xlab\": \"PC1\", \"ylab\": \"PC2\"}, \"topic.order\": [3, 5, 2, 4, 6, 1]};\n",
       "\n",
       "function LDAvis_load_lib(url, callback){\n",
       "  var s = document.createElement('script');\n",
       "  s.src = url;\n",
       "  s.async = true;\n",
       "  s.onreadystatechange = s.onload = callback;\n",
       "  s.onerror = function(){console.warn(\"failed to load library \" + url);};\n",
       "  document.getElementsByTagName(\"head\")[0].appendChild(s);\n",
       "}\n",
       "\n",
       "if(typeof(LDAvis) !== \"undefined\"){\n",
       "   // already loaded: just create the visualization\n",
       "   !function(LDAvis){\n",
       "       new LDAvis(\"#\" + \"ldavis_el181760592288485071645427\", ldavis_el181760592288485071645427_data);\n",
       "   }(LDAvis);\n",
       "}else if(typeof define === \"function\" && define.amd){\n",
       "   // require.js is available: use it to load d3/LDAvis\n",
       "   require.config({paths: {d3: \"https://d3js.org/d3.v5\"}});\n",
       "   require([\"d3\"], function(d3){\n",
       "      window.d3 = d3;\n",
       "      LDAvis_load_lib(\"https://cdn.jsdelivr.net/gh/bmabey/pyLDAvis@3.3.1/pyLDAvis/js/ldavis.v3.0.0.js\", function(){\n",
       "        new LDAvis(\"#\" + \"ldavis_el181760592288485071645427\", ldavis_el181760592288485071645427_data);\n",
       "      });\n",
       "    });\n",
       "}else{\n",
       "    // require.js not available: dynamically load d3 & LDAvis\n",
       "    LDAvis_load_lib(\"https://d3js.org/d3.v5.js\", function(){\n",
       "         LDAvis_load_lib(\"https://cdn.jsdelivr.net/gh/bmabey/pyLDAvis@3.3.1/pyLDAvis/js/ldavis.v3.0.0.js\", function(){\n",
       "                 new LDAvis(\"#\" + \"ldavis_el181760592288485071645427\", ldavis_el181760592288485071645427_data);\n",
       "            })\n",
       "         });\n",
       "}\n",
       "</script>"
      ],
      "text/plain": [
       "PreparedData(topic_coordinates=              x         y  topics  cluster       Freq\n",
       "topic                                                \n",
       "2     -0.011864  0.123767       1        1  20.810423\n",
       "4     -0.025157  0.211862       2        1  17.650005\n",
       "1      0.173571 -0.093723       3        1  16.474510\n",
       "3      0.132580 -0.018354       4        1  15.170520\n",
       "5     -0.027735 -0.133227       5        1  14.975367\n",
       "0     -0.241395 -0.090325       6        1  14.919175, topic_info=              Term         Freq        Total Category  logprob  loglift\n",
       "6987         right  3216.000000  3216.000000  Default  30.0000  30.0000\n",
       "8376         thank  1259.000000  1259.000000  Default  29.0000  29.0000\n",
       "3566         going  1500.000000  1500.000000  Default  28.0000  28.0000\n",
       "6749  relationship  1106.000000  1106.000000  Default  27.0000  27.0000\n",
       "4932          lord  1419.000000  1419.000000  Default  26.0000  26.0000\n",
       "...            ...          ...          ...      ...      ...      ...\n",
       "8885           use   218.804261   706.164871   Topic6  -5.5762   0.7309\n",
       "3868         heard   216.399650   727.952624   Topic6  -5.5872   0.6894\n",
       "4624          know   266.107189  3747.443970   Topic6  -5.3805  -0.7424\n",
       "1382        choice   210.430334   743.249688   Topic6  -5.6152   0.6406\n",
       "6987         right   206.838967  3216.905999   Topic6  -5.6324  -0.8417\n",
       "\n",
       "[423 rows x 6 columns], token_table=      Topic      Freq      Term\n",
       "term                           \n",
       "185       5  0.982584   affairs\n",
       "212       1  0.202601       ago\n",
       "212       3  0.166848       ago\n",
       "212       5  0.629651       ago\n",
       "264       5  0.346188  alliance\n",
       "...     ...       ...       ...\n",
       "9368      5  0.985198       yep\n",
       "9369      1  0.995322       yer\n",
       "9393      2  0.980855  yukimura\n",
       "9396      2  0.988560      yune\n",
       "9398      6  0.995478      yuri\n",
       "\n",
       "[824 rows x 3 columns], R=30, lambda_step=0.01, plot_opts={'xlab': 'PC1', 'ylab': 'PC2'}, topic_order=[3, 5, 2, 4, 6, 1])"
      ]
     },
     "execution_count": 529,
     "metadata": {},
     "output_type": "execute_result"
    }
   ],
   "source": [
    "pyLDAvis.enable_notebook()\n",
    "pyLDAvis.sklearn.prepare(lda_tf, X, cv)"
   ]
  },
  {
   "cell_type": "code",
   "execution_count": 530,
   "id": "3319d3b1",
   "metadata": {
    "scrolled": false
   },
   "outputs": [
    {
     "name": "stderr",
     "output_type": "stream",
     "text": [
      "/Users/dayvdoberne/opt/anaconda3/envs/metis/lib/python3.9/site-packages/sklearn/utils/deprecation.py:87: FutureWarning: Function get_feature_names is deprecated; get_feature_names is deprecated in 1.0 and will be removed in 1.2. Please use get_feature_names_out instead.\n",
      "  warnings.warn(msg, category=FutureWarning)\n",
      "/Users/dayvdoberne/opt/anaconda3/envs/metis/lib/python3.9/site-packages/pyLDAvis/_prepare.py:246: FutureWarning: In a future version of pandas all arguments of DataFrame.drop except for the argument 'labels' will be keyword-only\n",
      "  default_term_info = default_term_info.sort_values(\n"
     ]
    },
    {
     "data": {
      "text/html": [
       "\n",
       "<link rel=\"stylesheet\" type=\"text/css\" href=\"https://cdn.jsdelivr.net/gh/bmabey/pyLDAvis@3.3.1/pyLDAvis/js/ldavis.v1.0.0.css\">\n",
       "\n",
       "\n",
       "<div id=\"ldavis_el181761389272489731385805\"></div>\n",
       "<script type=\"text/javascript\">\n",
       "\n",
       "var ldavis_el181761389272489731385805_data = {\"mdsDat\": {\"x\": [-0.061506365670174645, 0.14511054335859336, 0.042199808936571645, -0.16363407573040378, 0.06365267279555219, -0.025822583690138814], \"y\": [0.033246299073761185, -0.1392633948872349, 0.05909517944096584, -0.10331224935130125, 0.07525734819153589, 0.07497681753227334], \"topics\": [1, 2, 3, 4, 5, 6], \"cluster\": [1, 1, 1, 1, 1, 1], \"Freq\": [18.19720163410926, 17.159012173256187, 16.717952419427114, 16.47416317082076, 16.006306524194812, 15.445364078191881]}, \"tinfo\": {\"Term\": [\"choice\", \"sir\", \"ike\", \"thank\", \"right\", \"mean\", \"sorry\", \"corrin\", \"edelgard\", \"dimitri\", \"course\", \"talking\", \"rhea\", \"doing\", \"mist\", \"understand\", \"mother\", \"flayn\", \"brother\", \"eirika\", \"azura\", \"eliwood\", \"glad\", \"general\", \"chrom\", \"seteth\", \"hello\", \"leif\", \"kill\", \"alm\", \"azura\", \"manuela\", \"felix\", \"ashe\", \"dedue\", \"boyd\", \"owe\", \"sakura\", \"empress\", \"ho\", \"rafiel\", \"pact\", \"chrom\", \"sanaki\", \"missed\", \"julia\", \"ma\", \"almedha\", \"yer\", \"wanna\", \"lissa\", \"lekain\", \"honored\", \"selena\", \"ced\", \"papa\", \"fernand\", \"sain\", \"sis\", \"shot\", \"sage\", \"mean\", \"repay\", \"lethe\", \"gilbert\", \"tribe\", \"brothers\", \"duke\", \"explain\", \"hoshido\", \"garon\", \"dream\", \"true\", \"wrong\", \"thanks\", \"father\", \"blood\", \"suppose\", \"dead\", \"family\", \"claude\", \"defeat\", \"apostle\", \"ya\", \"king\", \"little\", \"tell\", \"does\", \"end\", \"know\", \"life\", \"save\", \"feel\", \"time\", \"right\", \"people\", \"really\", \"sorry\", \"way\", \"say\", \"come\", \"professor\", \"thank\", \"dimitri\", \"yuri\", \"sylvain\", \"pardon\", \"constance\", \"ignatz\", \"hilda\", \"leonie\", \"cyril\", \"hanneman\", \"judith\", \"seth\", \"valley\", \"kidding\", \"awake\", \"talking\", \"mareeta\", \"base\", \"torment\", \"press\", \"daphnel\", \"pent\", \"official\", \"cover\", \"ideals\", \"golden\", \"html\", \"markups\", \"flayn\", \"patient\", \"camp\", \"ninian\", \"western\", \"sounds\", \"impossible\", \"excuse\", \"rhea\", \"moving\", \"gate\", \"agree\", \"beg\", \"alliance\", \"beat\", \"sire\", \"attack\", \"church\", \"victory\", \"good\", \"enemy\", \"relationship\", \"idea\", \"time\", \"professor\", \"kingdom\", \"leave\", \"hmm\", \"work\", \"battle\", \"believe\", \"lady\", \"right\", \"army\", \"know\", \"empire\", \"claude\", \"leif\", \"wh\", \"balthus\", \"lyon\", \"lysithea\", \"ingrid\", \"dawn\", \"grace\", \"yep\", \"caspar\", \"eirika\", \"muarim\", \"praying\", \"resolve\", \"august\", \"mages\", \"resist\", \"chief\", \"crossed\", \"playing\", \"brigade\", \"passage\", \"bracelet\", \"sleepy\", \"escort\", \"paths\", \"ephidel\", \"arthur\", \"tobin\", \"ghost\", \"arachel\", \"uncle\", \"leonster\", \"duma\", \"deirdre\", \"seteth\", \"eliwood\", \"course\", \"milord\", \"cross\", \"robin\", \"ready\", \"welcome\", \"lucina\", \"safety\", \"boy\", \"renais\", \"betray\", \"teacher\", \"today\", \"lord\", \"prince\", \"ago\", \"years\", \"trust\", \"return\", \"place\", \"princess\", \"castle\", \"shall\", \"long\", \"time\", \"remember\", \"come\", \"know\", \"way\", \"father\", \"hello\", \"sothe\", \"marianne\", \"annette\", \"sothis\", \"bernadetta\", \"celica\", \"sniff\", \"linhardt\", \"yune\", \"shut\", \"geoffrey\", \"boss\", \"scarlet\", \"joking\", \"relax\", \"hubert\", \"nanna\", \"recognize\", \"myrrh\", \"cough\", \"sob\", \"okay\", \"goodness\", \"faceless\", \"bothering\", \"haar\", \"bastian\", \"caeda\", \"knock\", \"sir\", \"elincia\", \"ryoma\", \"glad\", \"thank\", \"hurry\", \"elise\", \"sorry\", \"leo\", \"doing\", \"right\", \"brother\", \"gatrie\", \"shinon\", \"majesty\", \"mother\", \"mind\", \"hurt\", \"worry\", \"help\", \"xander\", \"won\", \"sister\", \"way\", \"need\", \"die\", \"really\", \"stop\", \"safe\", \"know\", \"saying\", \"going\", \"want\", \"princess\", \"good\", \"time\", \"corrin\", \"come\", \"say\", \"mist\", \"dorothea\", \"raphael\", \"hector\", \"hapi\", \"lyndis\", \"rolf\", \"petra\", \"nasir\", \"gunter\", \"emblem\", \"rhys\", \"athos\", \"yukimura\", \"kaze\", \"edain\", \"harken\", \"grrr\", \"rogue\", \"tomb\", \"oswin\", \"insane\", \"matthew\", \"costs\", \"tragic\", \"fang\", \"reliable\", \"lions\", \"fighter\", \"forgiven\", \"medallion\", \"soren\", \"giving\", \"injured\", \"stopped\", \"mmm\", \"ike\", \"black\", \"sacred\", \"stone\", \"mark\", \"academy\", \"marquess\", \"micaiah\", \"greil\", \"commander\", \"going\", \"lose\", \"know\", \"say\", \"command\", \"want\", \"come\", \"wait\", \"power\", \"left\", \"hold\", \"lord\", \"knight\", \"right\", \"father\", \"fight\", \"time\", \"battle\", \"sword\", \"really\", \"tell\", \"reyson\", \"lorenz\", \"shamir\", \"mercedes\", \"alois\", \"ferdinand\", \"jill\", \"ridiculous\", \"wha\", \"lilith\", \"villager\", \"duessel\", \"nino\", \"darling\", \"florina\", \"huff\", \"tormod\", \"comrades\", \"jakob\", \"tauroneo\", \"following\", \"relieved\", \"kent\", \"hans\", \"hannibal\", \"heehee\", \"jeralt\", \"fay\", \"yen\", \"leanne\", \"choice\", \"alm\", \"discuss\", \"sigh\", \"mycen\", \"edelgard\", \"arion\", \"kill\", \"corrin\", \"general\", \"understand\", \"waiting\", \"rodrigue\", \"captain\", \"leaving\", \"problem\", \"soldier\", \"titania\", \"fight\", \"forward\", \"best\", \"path\", \"try\", \"happened\", \"look\", \"wish\", \"seliph\", \"war\", \"lord\", \"know\", \"matter\", \"time\", \"lady\", \"way\", \"thought\", \"relationship\", \"right\", \"king\", \"stop\", \"hope\"], \"Freq\": [304.0, 264.0, 320.0, 450.0, 872.0, 337.0, 410.0, 336.0, 210.0, 139.0, 345.0, 148.0, 184.0, 239.0, 103.0, 264.0, 208.0, 107.0, 222.0, 98.0, 93.0, 119.0, 148.0, 206.0, 95.0, 112.0, 79.0, 80.0, 192.0, 86.0, 92.26466269095415, 62.90055531173865, 53.663708678108996, 46.431572270368775, 45.38040272491435, 42.47976339537389, 41.24933097401717, 44.30236500410983, 31.32475069294951, 28.637722301198643, 28.384006004530907, 28.24962068230846, 92.87836889170441, 26.659415562188638, 25.426840613921875, 24.69386229390845, 23.530760733382245, 22.581308947346294, 21.699248204991644, 21.460680913579328, 21.313532561939706, 20.868735958542732, 19.24096608044086, 18.829116384423113, 18.523617881327944, 17.557934886014287, 16.45335242321309, 16.02441750922461, 15.920379585743184, 15.833212171906762, 26.115068989252855, 271.1446694255976, 20.79122275021795, 20.685470085134806, 30.93291244158946, 41.74407487173143, 27.359801744589465, 40.14042886929691, 49.59457360663893, 59.752393072924434, 48.329347412258905, 36.07838345577557, 123.44915371847436, 101.71184662885932, 85.4737848944402, 182.57138882361673, 64.702722019456, 90.61351042703573, 67.00726631858207, 67.67028187369473, 86.66918666727571, 68.57100128334925, 49.928465808153064, 47.57075996825467, 103.65116599567449, 97.28448081672138, 101.92197325237936, 73.16529796776113, 84.07937501465287, 166.76325629916835, 80.65643440426165, 62.55349976308171, 68.97168539923031, 96.03116502076061, 106.70714757960533, 73.74718661657455, 76.90671365081626, 75.45405234154588, 74.69598054696343, 74.1508223572598, 73.865337783412, 67.08200417896448, 66.9140138390785, 138.68443830842224, 76.27605077411522, 65.62058953054768, 64.58174323511793, 60.661022213806966, 56.67662334225332, 54.40295340989232, 52.283835950546035, 44.980295356433096, 41.21216477343894, 37.96069293942151, 31.82698598775777, 26.94930320976309, 26.25143194437972, 23.418453282117717, 142.94924369816795, 21.339582350415313, 19.669310674518876, 19.548907187840758, 19.352155620266963, 17.81713665749515, 17.411629407335933, 17.172647369843283, 16.004378015336115, 15.551067890979668, 15.40746131774706, 14.871954084958368, 14.871954084958368, 101.83884596313304, 13.784769229968333, 22.186468947214664, 60.22230435049823, 21.265906368798372, 77.86276672843114, 40.519312988937536, 64.43719791604732, 149.9318657134625, 39.2749054167796, 37.15435382964858, 59.725511780616614, 53.408494052121014, 76.74805844152095, 26.584702140470753, 58.344752424856566, 79.23609807224024, 64.43705511375371, 51.367839269269695, 138.7300628815337, 100.20393975712234, 113.96279748924118, 62.62001829476531, 138.04721601924018, 95.67256617791072, 62.85299047768231, 84.26393366501104, 65.09458632322061, 64.72058955862231, 76.7700284235289, 76.18179299096526, 73.10478730064648, 86.57584477922526, 68.91025055812013, 74.42341976335018, 62.7425613939961, 61.713040751803774, 79.25103713607548, 62.101843513446354, 61.19315448011685, 57.98564450272737, 53.07895362134514, 46.46675111878917, 32.44394419797363, 29.827957717154547, 27.461352526301404, 49.50550397979201, 95.15466291809413, 19.582773787747175, 18.88274847513932, 18.80737278594562, 18.268625748517316, 17.52968372016027, 16.427839755165476, 15.596540497536163, 15.101354672149139, 14.057624806194472, 13.906617299087404, 13.714539767822632, 13.420923152685761, 13.28841538079774, 13.008614165310178, 12.716573221600022, 12.610786630157234, 11.929658562766733, 11.784159648747687, 11.780337431387737, 30.46884173525205, 36.98886141893822, 37.72263372949606, 26.53188660510537, 20.387273110355082, 92.44414291291167, 96.34995440858056, 233.89803542129857, 81.89063822855454, 33.47557344607103, 71.79785402418563, 119.74233830450414, 53.304045953520415, 39.41329011382758, 29.047109494269694, 55.638051164136165, 34.83210322707493, 28.58926918817849, 28.84354342592657, 49.559499881893515, 128.4628323415192, 106.21509259283431, 55.79965165045424, 65.4854551882138, 56.66595729590932, 65.45120097521155, 71.84028648398521, 70.62937624502445, 57.543448048855815, 62.073466996175306, 71.21689190104385, 89.58633755645383, 57.278240226362385, 71.0431892407229, 76.62903773408364, 57.76288555576734, 53.38180930735134, 78.59494505962174, 65.49649794600852, 58.389453329589784, 54.58336045939504, 54.1485984705109, 52.651672079581665, 52.39955370657832, 48.46295408765469, 46.53723489817998, 40.99440974505367, 32.28666312125852, 30.523295190675388, 29.204440962849944, 22.641679676610607, 22.553748932126204, 22.419091960600618, 42.51795672080761, 20.71425955600582, 20.178937024079104, 19.02595909422742, 18.85154552888703, 18.52204169419758, 40.609970079976364, 35.80201119539065, 16.49946820521915, 15.25825212355238, 14.915884347104402, 20.021452466318763, 14.604663443459092, 13.73177155638081, 239.75279071268338, 76.57647441209134, 75.66915226641945, 116.63533489438413, 317.0834525059448, 68.81249889271244, 53.446893576427556, 263.0517221696355, 47.91731495217785, 162.5565259503175, 476.71793956484856, 149.2458068692872, 34.830121802219956, 40.88099334865651, 101.67736248559534, 125.75230905231834, 108.09401628850847, 58.84033074110409, 107.61958073511592, 163.8841656466278, 63.198120785388085, 134.95994285231265, 83.33055080345471, 160.20933371465043, 135.0539348994898, 99.2510974820525, 131.41714297558872, 97.75656216725082, 87.11463303180123, 156.02219373707513, 68.63701005221056, 103.00481760827839, 94.76854196340874, 79.92592233315749, 91.21005122320929, 86.7977579375877, 78.6710253181863, 80.36434752371827, 78.4934818918271, 103.11633783442345, 57.26669095259483, 56.60208614005423, 55.524055059679434, 55.440434305892, 53.705241335004146, 44.271314161087965, 43.42476366830924, 34.74226866688505, 32.162243206796056, 30.803451630203167, 25.43238033968491, 20.34256089103943, 19.559805611710768, 19.50893410024256, 18.504352199547622, 16.51551870436978, 16.263021441490572, 15.684720647606735, 20.46570175909452, 14.418579017924804, 14.015131500366419, 13.978886314414082, 13.62118738731745, 13.144622065108086, 39.922688382069836, 11.53359579321426, 11.358835326718486, 11.269782227540558, 11.149541575768238, 44.42566619278584, 60.43896253448938, 38.09681847181077, 27.856472733017256, 24.636367625050656, 23.168462788934686, 242.51965796373162, 70.30740503452598, 47.86331633377472, 51.90748223145523, 45.507860183654806, 26.37100457640795, 38.05297877628735, 74.26181761358313, 46.51509540096862, 84.19222781899967, 189.7740345619951, 65.25893563531469, 260.96058754599187, 158.14398278613592, 51.30026712189389, 134.6765554288764, 146.677141140541, 99.22437898635198, 68.3214671536944, 65.7963437418406, 68.58259712778431, 92.3612427480517, 57.93438467657841, 95.19304273834946, 72.06498028524868, 69.16512403066902, 72.03583986995417, 60.62842008725758, 54.033153888977466, 58.993079579166476, 55.36540996654932, 59.234140271895996, 52.96637797518714, 52.51017808045605, 51.46428946097919, 48.15103288331244, 42.19736994132256, 39.716428077072614, 27.773587243272164, 21.504921181584493, 21.485656844012308, 21.28669585549105, 24.466497292714045, 19.86514366822299, 19.666037024939026, 18.817694900495514, 17.313114813116037, 17.279900025074586, 16.881065733160327, 16.812738506789383, 16.017287031791188, 15.86616975563767, 15.830755830671835, 15.558859092238022, 14.779090510283064, 14.625056443166594, 14.593058377990415, 65.08175083924738, 14.28801287410265, 14.28801287410265, 42.796866395053605, 278.88237555498046, 78.80812324921222, 26.623688571455645, 43.863600040405444, 16.50191762081418, 165.54773350967457, 20.28453003958479, 123.65524084646636, 196.64721191336344, 129.81429613858393, 158.176163378153, 76.43119905578547, 29.267490047796997, 55.120660653140625, 42.58872691225966, 49.063286728692454, 38.892441512131555, 44.56150480382761, 148.0950512660381, 39.41804515163938, 78.85072827037179, 48.8720539071829, 68.37040102311671, 71.67580935673767, 99.97850490729813, 71.99434689768775, 45.09815507559064, 67.53251905317295, 79.37258506003613, 98.72439015462277, 59.41376536870032, 78.67747840358219, 64.0491917334474, 66.92868981096906, 56.77178884992416, 60.36218185474195, 61.79894339657884, 55.642938309781066, 54.22688465105692, 53.740400001001134], \"Total\": [304.0, 264.0, 320.0, 450.0, 872.0, 337.0, 410.0, 336.0, 210.0, 139.0, 345.0, 148.0, 184.0, 239.0, 103.0, 264.0, 208.0, 107.0, 222.0, 98.0, 93.0, 119.0, 148.0, 206.0, 95.0, 112.0, 79.0, 80.0, 192.0, 86.0, 93.04579788810067, 63.6816175131269, 54.444591870103366, 47.211878796258276, 46.16133407312334, 43.260955467936746, 42.03159698307236, 45.18764372677657, 32.106739222612774, 29.419977879923685, 29.16783391622089, 29.03029962951564, 95.51419093915247, 27.440844089145013, 26.208956090776738, 25.475032174370583, 24.31141452527841, 23.362184563207933, 22.48108541138062, 22.24265881172479, 22.094598471874235, 21.650375175519223, 20.023618296575133, 19.61222956194585, 19.306056619180847, 18.338573342864418, 17.23420749455278, 16.808901576120522, 16.70088456800767, 16.616077766200824, 27.623862060304223, 337.9552561574598, 22.14591391930817, 22.028884371712927, 34.28766340629167, 47.95348445821919, 30.004014536049016, 47.24673989905592, 61.058077856217274, 76.1800716761033, 61.71498466578891, 44.21840139268323, 232.05176180770306, 180.6576618960881, 148.3907679097735, 429.9091956012022, 105.91403207051157, 174.72776409645573, 114.30947074148224, 118.2757251640988, 185.46501983549763, 128.42465352788253, 76.64251268051453, 71.0374124342496, 280.0222350289851, 262.69302186745847, 294.0452397883918, 157.95624303579314, 210.94774556353025, 833.5228852342918, 208.15665616869958, 123.21052846503893, 181.5238584439086, 561.1757948075788, 872.358470777887, 267.4504290285394, 392.70034719648663, 410.6112737444071, 442.0114189494841, 426.5917444161074, 476.6507473654295, 329.2100863938953, 450.2935738656319, 139.464322458497, 77.05452713939569, 66.39905333766276, 65.3614923740119, 61.43894485766928, 57.45455123780714, 55.18170994326244, 53.06189911469316, 45.758304287556875, 41.99008156864343, 38.740645030670215, 32.60758023618676, 27.728727394697092, 27.030819306997532, 24.197931535580032, 148.15361392757796, 22.118920126985923, 20.449876974046095, 20.329229236632074, 20.13198350362911, 18.59555044485902, 18.189928046270385, 17.95850011172277, 16.783685506378916, 16.333306837489552, 16.186239810566995, 15.649366277083875, 15.649366277083875, 107.43673371123812, 14.566330373002899, 23.49023566147711, 66.52044294292388, 22.679096000974397, 88.05390148602757, 44.759271501612524, 74.21575850828184, 184.3551384900115, 43.972405033272636, 44.13724805990784, 77.83021710128907, 68.89849168991493, 107.92103931828036, 29.834771918521163, 81.08684168166978, 134.45405574917032, 102.12840725525956, 76.07722207510014, 404.9320804332716, 259.0522228949249, 326.2480017767748, 116.26484254597031, 561.1757948075788, 329.2100863938953, 125.38766238563987, 264.30175756082804, 138.22320779409395, 152.22506646243812, 272.0641210984286, 266.34698403187696, 270.84701641304883, 872.358470777887, 228.05584411559258, 833.5228852342918, 194.76086700523416, 185.46501983549763, 80.03607759137176, 62.87913981381374, 61.96921643318154, 58.76270845775668, 53.855872969667104, 47.243222105384675, 33.22140837232171, 30.606298157416745, 28.238430910468338, 51.07176898400906, 98.92145023217886, 20.360999086238774, 19.66037370024458, 19.584919758321657, 19.045378157586644, 18.30899096254973, 17.20964818664388, 16.37277815190144, 15.87934010764153, 14.835002454813145, 14.68271998823197, 14.492401454344533, 14.19793072576217, 14.064224135239332, 13.785230636075806, 13.494060701589008, 13.387153576265002, 12.706400159742689, 12.561051059420503, 12.55849669577119, 32.73342584983187, 40.079661939580575, 41.26767016643409, 29.049903183219932, 22.263878331365994, 112.85426742378051, 119.29867447077372, 345.85921390225195, 106.54240095941168, 39.41969530531586, 97.66461793679882, 182.0995477406135, 74.91346581028301, 52.44390015524827, 35.596810672661796, 86.88304007566727, 47.221802582409715, 35.95332612443853, 36.463519570447154, 83.40630426914878, 371.70451577971744, 283.3734333755418, 109.28832878266448, 150.86057501360605, 115.86140354582086, 160.55660150185662, 214.97169003173912, 218.02016963970635, 139.73616171343818, 174.45414777433308, 282.36966963496525, 561.1757948075788, 157.28943476560943, 476.6507473654295, 833.5228852342918, 442.0114189494841, 429.9091956012022, 79.37998100412796, 66.28092429373652, 59.172329515559, 55.36655588662205, 54.93306199649059, 53.43519036310923, 53.184307721896914, 49.246188725266805, 47.32091370631001, 41.78013541209671, 33.07192366606757, 31.3076811190646, 29.989059396284528, 23.426295383102893, 23.33753523380646, 23.204230131105493, 44.06175295451161, 21.497353367076816, 20.965485776370787, 19.811370147273376, 19.636323222850862, 19.305442250472026, 42.491240345539524, 37.48623405400565, 17.28587555428836, 16.041550966304865, 15.701563899529907, 21.08373883444982, 15.38798027124685, 14.51571827002649, 264.85381739147147, 84.84436027508143, 86.27558460393143, 148.45960967097986, 450.2935738656319, 86.18917323134147, 64.92969737703805, 410.6112737444071, 57.47849652715344, 239.19158723395233, 872.358470777887, 222.13184607517445, 39.834015981735774, 48.68858939131106, 155.7271195780793, 208.9718242032409, 180.03230075131964, 78.9042660529497, 185.09652468209305, 350.48977560063054, 87.57791470373613, 309.4541824970631, 142.5594188436463, 442.0114189494841, 363.4821664768927, 213.9864808073419, 392.70034719648663, 230.62567320056473, 180.16467963489896, 833.5228852342918, 112.17346134656846, 442.40846004844826, 395.2782980980486, 218.02016963970635, 404.9320804332716, 561.1757948075788, 336.9640721864714, 476.6507473654295, 426.5917444161074, 103.8931670924262, 58.04259693480584, 57.37862556337253, 56.30145613004898, 56.21726557265309, 54.48254932549408, 45.04801139249173, 44.20176682634222, 35.51939514697382, 32.93905467452912, 31.581955823549613, 26.209164579525854, 21.11884015517177, 20.338365958346387, 20.286430945989398, 19.28225465158655, 17.29169537922448, 17.041608535235724, 16.462364168521, 21.558660336229778, 15.194888158088188, 14.792236690400633, 14.75519844494476, 14.400047124012167, 13.921993429152305, 42.526832603671465, 12.3113430636392, 12.135237478718885, 12.048781279147583, 11.926673593448259, 47.67393775530044, 65.81713616878838, 41.60175315570383, 30.76903355859723, 27.117613205936703, 25.40934934674139, 320.8816294110521, 89.21352875201782, 59.68278757552485, 67.18271076280817, 57.74671939430615, 30.75886054650623, 48.96365458057054, 117.88379655534223, 63.90946500830895, 143.81571016681445, 442.40846004844826, 109.05792473336403, 833.5228852342918, 426.5917444161074, 81.08061746624148, 395.2782980980486, 476.6507473654295, 305.6454023061973, 170.71253875405674, 157.91251757125872, 175.8857255918652, 371.70451577971744, 138.3935307598405, 872.358470777887, 429.9091956012022, 412.1835211614583, 561.1757948075788, 272.0641210984286, 135.8029538419038, 392.70034719648663, 294.0452397883918, 60.01067854023729, 53.741885296098275, 53.28623613572656, 52.239887789625406, 48.92756863559297, 42.97305878379185, 40.49253161087089, 28.55041901588191, 22.28161578008564, 22.262319970275225, 22.061810714097202, 25.366550127868965, 20.64050862515591, 20.4435765115643, 19.59326499113296, 18.088312514735197, 18.055964012507243, 17.65815895585783, 17.58942538967292, 16.793346541110257, 16.645486437854377, 16.608499567150663, 16.335909768280963, 15.556630731277002, 15.402696145367026, 15.37038171252758, 68.5844173749684, 15.063334418770546, 15.063334418770546, 45.25564200424609, 304.3749990498932, 86.19437463455023, 28.640359980798078, 48.49191021343318, 17.508402030851386, 210.3880830506588, 22.247914177500096, 192.6707206089509, 336.9640721864714, 206.52040741504166, 264.93536686930133, 113.60449670771101, 35.99069286055537, 83.31158796068576, 59.63528883839804, 74.4353036539202, 54.74217816611043, 68.3430007921058, 412.1835211614583, 58.60740582352752, 183.6082896177376, 83.84654657497923, 160.53325148926666, 178.29080791884138, 339.7051785888135, 201.31541418756706, 76.92384777832312, 227.7293144401312, 371.70451577971744, 833.5228852342918, 183.62276056486624, 561.1757948075788, 270.84701641304883, 442.0114189494841, 208.580363307644, 326.2480017767748, 872.358470777887, 280.0222350289851, 230.62567320056473, 193.33842450987567], \"Category\": [\"Default\", \"Default\", \"Default\", \"Default\", \"Default\", \"Default\", \"Default\", \"Default\", \"Default\", \"Default\", \"Default\", \"Default\", \"Default\", \"Default\", \"Default\", \"Default\", \"Default\", \"Default\", \"Default\", \"Default\", \"Default\", \"Default\", \"Default\", \"Default\", \"Default\", \"Default\", \"Default\", \"Default\", \"Default\", \"Default\", \"Topic1\", \"Topic1\", \"Topic1\", \"Topic1\", \"Topic1\", \"Topic1\", \"Topic1\", \"Topic1\", \"Topic1\", \"Topic1\", \"Topic1\", \"Topic1\", \"Topic1\", \"Topic1\", \"Topic1\", \"Topic1\", \"Topic1\", \"Topic1\", \"Topic1\", \"Topic1\", \"Topic1\", \"Topic1\", \"Topic1\", \"Topic1\", \"Topic1\", \"Topic1\", \"Topic1\", \"Topic1\", \"Topic1\", \"Topic1\", \"Topic1\", \"Topic1\", \"Topic1\", \"Topic1\", \"Topic1\", \"Topic1\", \"Topic1\", \"Topic1\", \"Topic1\", \"Topic1\", \"Topic1\", \"Topic1\", \"Topic1\", \"Topic1\", \"Topic1\", \"Topic1\", \"Topic1\", \"Topic1\", \"Topic1\", \"Topic1\", \"Topic1\", \"Topic1\", \"Topic1\", \"Topic1\", \"Topic1\", \"Topic1\", \"Topic1\", \"Topic1\", \"Topic1\", \"Topic1\", \"Topic1\", \"Topic1\", \"Topic1\", \"Topic1\", \"Topic1\", \"Topic1\", \"Topic1\", \"Topic1\", \"Topic1\", \"Topic1\", \"Topic1\", \"Topic1\", \"Topic1\", \"Topic2\", \"Topic2\", \"Topic2\", \"Topic2\", \"Topic2\", \"Topic2\", \"Topic2\", \"Topic2\", \"Topic2\", \"Topic2\", \"Topic2\", \"Topic2\", \"Topic2\", \"Topic2\", \"Topic2\", \"Topic2\", \"Topic2\", \"Topic2\", \"Topic2\", \"Topic2\", \"Topic2\", \"Topic2\", \"Topic2\", \"Topic2\", \"Topic2\", \"Topic2\", \"Topic2\", \"Topic2\", \"Topic2\", \"Topic2\", \"Topic2\", \"Topic2\", \"Topic2\", \"Topic2\", \"Topic2\", \"Topic2\", \"Topic2\", \"Topic2\", \"Topic2\", \"Topic2\", \"Topic2\", \"Topic2\", \"Topic2\", \"Topic2\", \"Topic2\", \"Topic2\", \"Topic2\", \"Topic2\", \"Topic2\", \"Topic2\", \"Topic2\", \"Topic2\", \"Topic2\", \"Topic2\", \"Topic2\", \"Topic2\", \"Topic2\", \"Topic2\", \"Topic2\", \"Topic2\", \"Topic2\", \"Topic2\", \"Topic2\", \"Topic2\", \"Topic2\", \"Topic3\", \"Topic3\", \"Topic3\", \"Topic3\", \"Topic3\", \"Topic3\", \"Topic3\", \"Topic3\", \"Topic3\", \"Topic3\", \"Topic3\", \"Topic3\", \"Topic3\", \"Topic3\", \"Topic3\", \"Topic3\", \"Topic3\", \"Topic3\", \"Topic3\", \"Topic3\", \"Topic3\", \"Topic3\", \"Topic3\", \"Topic3\", \"Topic3\", \"Topic3\", \"Topic3\", \"Topic3\", \"Topic3\", \"Topic3\", \"Topic3\", \"Topic3\", \"Topic3\", \"Topic3\", \"Topic3\", \"Topic3\", \"Topic3\", \"Topic3\", \"Topic3\", \"Topic3\", \"Topic3\", \"Topic3\", \"Topic3\", \"Topic3\", \"Topic3\", \"Topic3\", \"Topic3\", \"Topic3\", \"Topic3\", \"Topic3\", \"Topic3\", \"Topic3\", \"Topic3\", \"Topic3\", \"Topic3\", \"Topic3\", \"Topic3\", \"Topic3\", \"Topic3\", \"Topic3\", \"Topic3\", \"Topic3\", \"Topic3\", \"Topic3\", \"Topic3\", \"Topic3\", \"Topic3\", \"Topic4\", \"Topic4\", \"Topic4\", \"Topic4\", \"Topic4\", \"Topic4\", \"Topic4\", \"Topic4\", \"Topic4\", \"Topic4\", \"Topic4\", \"Topic4\", \"Topic4\", \"Topic4\", \"Topic4\", \"Topic4\", \"Topic4\", \"Topic4\", \"Topic4\", \"Topic4\", \"Topic4\", \"Topic4\", \"Topic4\", \"Topic4\", \"Topic4\", \"Topic4\", \"Topic4\", \"Topic4\", \"Topic4\", \"Topic4\", \"Topic4\", \"Topic4\", \"Topic4\", \"Topic4\", \"Topic4\", \"Topic4\", \"Topic4\", \"Topic4\", \"Topic4\", \"Topic4\", \"Topic4\", \"Topic4\", \"Topic4\", \"Topic4\", \"Topic4\", \"Topic4\", \"Topic4\", \"Topic4\", \"Topic4\", \"Topic4\", \"Topic4\", \"Topic4\", \"Topic4\", \"Topic4\", \"Topic4\", \"Topic4\", \"Topic4\", \"Topic4\", \"Topic4\", \"Topic4\", \"Topic4\", \"Topic4\", \"Topic4\", \"Topic4\", \"Topic4\", \"Topic4\", \"Topic4\", \"Topic4\", \"Topic4\", \"Topic5\", \"Topic5\", \"Topic5\", \"Topic5\", \"Topic5\", \"Topic5\", \"Topic5\", \"Topic5\", \"Topic5\", \"Topic5\", \"Topic5\", \"Topic5\", \"Topic5\", \"Topic5\", \"Topic5\", \"Topic5\", \"Topic5\", \"Topic5\", \"Topic5\", \"Topic5\", \"Topic5\", \"Topic5\", \"Topic5\", \"Topic5\", \"Topic5\", \"Topic5\", \"Topic5\", \"Topic5\", \"Topic5\", \"Topic5\", \"Topic5\", \"Topic5\", \"Topic5\", \"Topic5\", \"Topic5\", \"Topic5\", \"Topic5\", \"Topic5\", \"Topic5\", \"Topic5\", \"Topic5\", \"Topic5\", \"Topic5\", \"Topic5\", \"Topic5\", \"Topic5\", \"Topic5\", \"Topic5\", \"Topic5\", \"Topic5\", \"Topic5\", \"Topic5\", \"Topic5\", \"Topic5\", \"Topic5\", \"Topic5\", \"Topic5\", \"Topic5\", \"Topic5\", \"Topic5\", \"Topic5\", \"Topic5\", \"Topic5\", \"Topic5\", \"Topic5\", \"Topic5\", \"Topic5\", \"Topic6\", \"Topic6\", \"Topic6\", \"Topic6\", \"Topic6\", \"Topic6\", \"Topic6\", \"Topic6\", \"Topic6\", \"Topic6\", \"Topic6\", \"Topic6\", \"Topic6\", \"Topic6\", \"Topic6\", \"Topic6\", \"Topic6\", \"Topic6\", \"Topic6\", \"Topic6\", \"Topic6\", \"Topic6\", \"Topic6\", \"Topic6\", \"Topic6\", \"Topic6\", \"Topic6\", \"Topic6\", \"Topic6\", \"Topic6\", \"Topic6\", \"Topic6\", \"Topic6\", \"Topic6\", \"Topic6\", \"Topic6\", \"Topic6\", \"Topic6\", \"Topic6\", \"Topic6\", \"Topic6\", \"Topic6\", \"Topic6\", \"Topic6\", \"Topic6\", \"Topic6\", \"Topic6\", \"Topic6\", \"Topic6\", \"Topic6\", \"Topic6\", \"Topic6\", \"Topic6\", \"Topic6\", \"Topic6\", \"Topic6\", \"Topic6\", \"Topic6\", \"Topic6\", \"Topic6\", \"Topic6\", \"Topic6\", \"Topic6\", \"Topic6\", \"Topic6\", \"Topic6\", \"Topic6\", \"Topic6\", \"Topic6\", \"Topic6\"], \"logprob\": [30.0, 29.0, 28.0, 27.0, 26.0, 25.0, 24.0, 23.0, 22.0, 21.0, 20.0, 19.0, 18.0, 17.0, 16.0, 15.0, 14.0, 13.0, 12.0, 11.0, 10.0, 9.0, 8.0, 7.0, 6.0, 5.0, 4.0, 3.0, 2.0, 1.0, -5.5431, -5.9262, -6.085, -6.2298, -6.2527, -6.3187, -6.3481, -6.2767, -6.6233, -6.713, -6.7219, -6.7267, -5.5364, -6.7846, -6.8319, -6.8612, -6.9094, -6.9506, -6.9905, -7.0015, -7.0084, -7.0295, -7.1107, -7.1323, -7.1487, -7.2022, -7.2672, -7.2936, -7.3001, -7.3056, -6.8052, -4.4651, -7.0332, -7.0383, -6.6359, -6.3362, -6.7587, -6.3754, -6.1639, -5.9775, -6.1897, -6.482, -5.2519, -5.4456, -5.6195, -4.8606, -5.8979, -5.5611, -5.8629, -5.8531, -5.6056, -5.8399, -6.1571, -6.2055, -5.4267, -5.4901, -5.4435, -5.775, -5.636, -4.9512, -5.6775, -5.9317, -5.834, -5.5031, -5.3977, -5.7671, -5.7251, -5.7442, -5.7543, -5.7616, -5.7655, -5.8618, -5.8643, -5.0768, -5.6746, -5.8251, -5.8411, -5.9037, -5.9716, -6.0126, -6.0523, -6.2028, -6.2903, -6.3724, -6.5487, -6.715, -6.7413, -6.8555, -5.0465, -6.9484, -7.0299, -7.0361, -7.0462, -7.1288, -7.1519, -7.1657, -7.2361, -7.2649, -7.2741, -7.3095, -7.3095, -5.3856, -7.3854, -6.9095, -5.911, -6.9519, -5.654, -6.3072, -5.8433, -4.9988, -6.3384, -6.3939, -5.9192, -6.031, -5.6685, -6.7287, -5.9426, -5.6366, -5.8433, -6.07, -5.0765, -5.4018, -5.2731, -5.8719, -5.0814, -5.4481, -5.8682, -5.575, -5.8332, -5.8389, -5.6682, -5.6759, -5.7171, -5.548, -5.7762, -5.6992, -5.87, -5.8865, -5.6103, -5.8542, -5.8689, -5.9228, -6.0112, -6.1442, -6.5034, -6.5875, -6.6702, -6.0809, -5.4275, -7.0083, -7.0447, -7.0487, -7.0778, -7.1191, -7.184, -7.2359, -7.2682, -7.3398, -7.3506, -7.3645, -7.3861, -7.3961, -7.4173, -7.44, -7.4484, -7.5039, -7.5162, -7.5165, -6.5662, -6.3723, -6.3527, -6.7046, -6.968, -5.4563, -5.415, -4.5281, -5.5776, -6.4721, -5.7091, -5.1976, -6.0069, -6.3089, -6.614, -5.9641, -6.4324, -6.6299, -6.6211, -6.0798, -5.1273, -5.3175, -5.9612, -5.8011, -5.9458, -5.8016, -5.7085, -5.7255, -5.9304, -5.8546, -5.7172, -5.4878, -5.935, -5.7197, -5.644, -5.9266, -6.0055, -5.604, -5.7863, -5.9011, -5.9685, -5.9765, -6.0046, -6.0094, -6.0875, -6.128, -6.2548, -6.4936, -6.5498, -6.5939, -6.8485, -6.8524, -6.8584, -6.2183, -6.9374, -6.9636, -7.0225, -7.0317, -7.0493, -6.2643, -6.3903, -7.1649, -7.2431, -7.2658, -6.9715, -7.2869, -7.3486, -4.4887, -5.63, -5.6419, -5.2092, -4.2091, -5.7369, -5.9896, -4.3959, -6.0988, -4.8772, -3.8013, -4.9627, -6.4178, -6.2576, -5.3465, -5.1339, -5.2853, -5.8934, -5.2897, -4.8691, -5.822, -5.0633, -5.5454, -4.8918, -5.0626, -5.3706, -5.0899, -5.3858, -5.501, -4.9183, -5.7394, -5.3335, -5.4168, -5.5872, -5.4551, -5.5047, -5.603, -5.5817, -5.6052, -5.3036, -5.8917, -5.9034, -5.9226, -5.9241, -5.9559, -6.1491, -6.1684, -6.3915, -6.4687, -6.5118, -6.7034, -6.9267, -6.966, -6.9686, -7.0214, -7.1352, -7.1506, -7.1868, -6.9207, -7.2709, -7.2993, -7.3019, -7.3278, -7.3634, -6.2525, -7.4942, -7.5095, -7.5173, -7.5281, -6.1456, -5.8378, -6.2993, -6.6124, -6.7352, -6.7967, -4.4484, -5.6866, -6.0711, -5.99, -6.1216, -6.6672, -6.3005, -5.6319, -6.0997, -5.5064, -4.6936, -5.7611, -4.3751, -4.8759, -6.0018, -5.0366, -4.9512, -5.3421, -5.7152, -5.7529, -5.7114, -5.4137, -5.8801, -5.3835, -5.6619, -5.703, -5.6623, -5.8347, -5.9499, -5.862, -5.9255, -5.8223, -5.9341, -5.9428, -5.9629, -6.0294, -6.1614, -6.222, -6.5797, -6.8355, -6.8364, -6.8457, -6.7065, -6.9148, -6.9249, -6.969, -7.0523, -7.0542, -7.0776, -7.0816, -7.1301, -7.1396, -7.1418, -7.1591, -7.2106, -7.221, -7.2232, -5.7281, -7.2444, -7.2444, -6.1473, -4.273, -5.5368, -6.622, -6.1227, -7.1003, -4.7945, -6.8939, -5.0863, -4.6224, -5.0377, -4.8401, -5.5674, -6.5273, -5.8943, -6.1522, -6.0107, -6.243, -6.1069, -4.9059, -6.2296, -5.5362, -6.0146, -5.6788, -5.6316, -5.2988, -5.6272, -6.0949, -5.6912, -5.5296, -5.3114, -5.8193, -5.5384, -5.7441, -5.7002, -5.8647, -5.8034, -5.7799, -5.8848, -5.9106, -5.9196], \"loglift\": [30.0, 29.0, 28.0, 27.0, 26.0, 25.0, 24.0, 23.0, 22.0, 21.0, 20.0, 19.0, 18.0, 17.0, 16.0, 15.0, 14.0, 13.0, 12.0, 11.0, 10.0, 9.0, 8.0, 7.0, 6.0, 5.0, 4.0, 3.0, 2.0, 1.0, 1.6955, 1.6916, 1.6895, 1.6872, 1.6868, 1.6857, 1.6851, 1.6841, 1.6792, 1.677, 1.6767, 1.6766, 1.6759, 1.675, 1.6736, 1.6728, 1.6713, 1.6699, 1.6685, 1.6681, 1.6679, 1.6671, 1.664, 1.6632, 1.6625, 1.6604, 1.6575, 1.6561, 1.656, 1.6556, 1.6477, 1.4836, 1.6408, 1.641, 1.6009, 1.5652, 1.6116, 1.5409, 1.496, 1.461, 1.4594, 1.5005, 1.0728, 1.1294, 1.1523, 0.8475, 1.2111, 1.0473, 1.1698, 1.1455, 0.9431, 1.0764, 1.2753, 1.3029, 0.7101, 0.7106, 0.6444, 0.9343, 0.7841, 0.0948, 0.7558, 1.026, 0.7362, -0.0615, -0.3972, 0.4156, 0.0734, 0.0098, -0.074, -0.0458, -0.1606, 0.1131, -0.2026, 1.757, 1.7525, 1.7509, 1.7506, 1.7499, 1.749, 1.7484, 1.7479, 1.7455, 1.7439, 1.7423, 1.7384, 1.7341, 1.7334, 1.7299, 1.7269, 1.7268, 1.7237, 1.7235, 1.7231, 1.7199, 1.7189, 1.7179, 1.7151, 1.7136, 1.7133, 1.7117, 1.7117, 1.7091, 1.7075, 1.7055, 1.6632, 1.6983, 1.6396, 1.6631, 1.6214, 1.556, 1.6497, 1.5904, 1.4979, 1.508, 1.4218, 1.6473, 1.4335, 1.2339, 1.3021, 1.3699, 0.6915, 0.8128, 0.7109, 1.1439, 0.3602, 0.5269, 1.072, 0.6195, 1.0096, 0.9074, 0.4974, 0.511, 0.453, -0.5475, 0.5659, -0.6532, 0.6299, 0.6623, 1.7788, 1.7762, 1.7761, 1.7754, 1.7742, 1.7721, 1.765, 1.7629, 1.7608, 1.7575, 1.7499, 1.7497, 1.7483, 1.7482, 1.747, 1.7452, 1.7422, 1.7401, 1.7385, 1.7349, 1.7344, 1.7335, 1.7324, 1.7319, 1.7307, 1.7293, 1.7289, 1.7256, 1.7248, 1.7247, 1.717, 1.7084, 1.6989, 1.698, 1.7006, 1.5892, 1.575, 1.3975, 1.5255, 1.6252, 1.481, 1.3695, 1.4484, 1.503, 1.5853, 1.343, 1.4844, 1.5595, 1.5543, 1.2681, 0.7262, 0.8074, 1.1165, 0.9542, 1.0735, 0.8913, 0.6926, 0.6615, 0.9015, 0.7553, 0.4112, -0.0461, 0.7785, -0.1148, -0.598, -0.2463, -0.2974, 1.7934, 1.7915, 1.7901, 1.7891, 1.789, 1.7886, 1.7885, 1.7873, 1.7867, 1.7844, 1.7793, 1.778, 1.7769, 1.7693, 1.7692, 1.769, 1.7677, 1.7663, 1.7651, 1.7629, 1.7626, 1.762, 1.7581, 1.7574, 1.7568, 1.7533, 1.752, 1.7517, 1.7511, 1.7479, 1.7038, 1.7008, 1.6722, 1.5621, 1.4526, 1.5782, 1.6088, 1.3581, 1.6214, 1.4171, 1.1991, 1.4057, 1.6691, 1.6286, 1.3771, 1.2955, 1.2932, 1.51, 1.2611, 1.0432, 1.4771, 0.9735, 1.2664, 0.7885, 0.8133, 1.0351, 0.7087, 0.9451, 1.0767, 0.1277, 1.3122, 0.3459, 0.3752, 0.7999, 0.3128, -0.0631, 0.3487, 0.0232, 0.1106, 1.8247, 1.8187, 1.8186, 1.8183, 1.8183, 1.8178, 1.8148, 1.8145, 1.8101, 1.8083, 1.8072, 1.8021, 1.7947, 1.7932, 1.7931, 1.791, 1.7863, 1.7854, 1.7838, 1.7802, 1.7797, 1.7782, 1.7781, 1.7766, 1.7747, 1.769, 1.7669, 1.7661, 1.7653, 1.7648, 1.7616, 1.7469, 1.7442, 1.7327, 1.7362, 1.7399, 1.5522, 1.594, 1.6115, 1.5742, 1.594, 1.6783, 1.5801, 1.3701, 1.5145, 1.2968, 0.9858, 1.3187, 0.6709, 0.8399, 1.3744, 0.7555, 0.6536, 0.7071, 0.9164, 0.9567, 0.8904, 0.4398, 0.9614, -0.3831, 0.0462, 0.0472, -0.2207, 0.3309, 0.9106, -0.0634, 0.1624, 1.8548, 1.8533, 1.8532, 1.8529, 1.8519, 1.8496, 1.8485, 1.8403, 1.8324, 1.8324, 1.8321, 1.8317, 1.8296, 1.8291, 1.8275, 1.8241, 1.8239, 1.8229, 1.8227, 1.8205, 1.8199, 1.8199, 1.8191, 1.8166, 1.8161, 1.816, 1.8154, 1.815, 1.815, 1.812, 1.7804, 1.7783, 1.7948, 1.7675, 1.8087, 1.6282, 1.7755, 1.4244, 1.3293, 1.4036, 1.3521, 1.4715, 1.6611, 1.4548, 1.5312, 1.451, 1.526, 1.4402, 0.8442, 1.4712, 1.0226, 1.3281, 1.0143, 0.9566, 0.6447, 0.8396, 1.3339, 0.6523, 0.3239, -0.2655, 0.7395, -0.0968, 0.426, -0.0198, 0.5666, 0.1806, -0.7795, 0.2519, 0.4202, 0.5876]}, \"token.table\": {\"Topic\": [3, 5, 6, 1, 2, 3, 5, 6, 1, 2, 3, 6, 2, 3, 5, 6, 1, 6, 1, 6, 4, 1, 2, 3, 4, 5, 2, 3, 2, 6, 1, 2, 3, 4, 5, 6, 3, 1, 5, 1, 2, 3, 4, 5, 6, 3, 2, 1, 3, 2, 4, 1, 2, 3, 4, 5, 6, 2, 3, 1, 2, 3, 1, 2, 3, 4, 5, 6, 4, 1, 2, 3, 4, 5, 6, 3, 6, 1, 2, 5, 6, 1, 2, 3, 5, 6, 4, 4, 1, 2, 3, 4, 5, 1, 3, 3, 1, 3, 4, 5, 6, 1, 5, 4, 2, 5, 3, 4, 6, 3, 6, 1, 2, 3, 4, 5, 1, 4, 3, 2, 4, 5, 6, 1, 6, 1, 2, 3, 5, 6, 1, 2, 3, 5, 1, 2, 3, 4, 5, 6, 2, 3, 4, 5, 6, 1, 2, 3, 4, 5, 6, 6, 2, 1, 3, 4, 5, 6, 5, 4, 1, 2, 3, 4, 5, 6, 2, 2, 3, 3, 2, 2, 6, 3, 1, 2, 3, 5, 6, 1, 1, 2, 3, 4, 5, 6, 1, 3, 1, 3, 4, 5, 6, 2, 1, 6, 1, 2, 3, 4, 5, 6, 1, 2, 3, 4, 6, 5, 1, 4, 6, 6, 1, 3, 6, 3, 5, 5, 2, 3, 5, 6, 2, 3, 3, 4, 1, 4, 6, 3, 5, 5, 1, 2, 3, 5, 6, 1, 1, 2, 3, 4, 5, 6, 1, 2, 3, 4, 5, 6, 3, 3, 1, 2, 1, 4, 6, 4, 1, 2, 3, 4, 5, 6, 5, 6, 1, 2, 3, 4, 5, 6, 6, 1, 2, 3, 4, 5, 6, 1, 6, 1, 1, 2, 3, 4, 5, 6, 5, 2, 6, 6, 6, 5, 2, 3, 5, 6, 1, 3, 4, 6, 1, 2, 3, 5, 4, 5, 1, 2, 3, 4, 5, 6, 4, 3, 1, 2, 5, 6, 1, 3, 4, 5, 6, 1, 2, 3, 4, 5, 6, 2, 1, 2, 3, 4, 5, 6, 1, 4, 3, 3, 5, 5, 5, 4, 2, 6, 6, 5, 1, 2, 3, 4, 5, 6, 5, 5, 6, 4, 1, 2, 3, 4, 5, 6, 2, 1, 2, 3, 4, 5, 6, 1, 1, 2, 3, 4, 5, 6, 1, 1, 2, 3, 4, 5, 6, 1, 4, 6, 2, 4, 6, 6, 1, 3, 4, 5, 1, 4, 5, 6, 1, 2, 3, 4, 5, 6, 2, 2, 3, 4, 5, 2, 6, 3, 2, 5, 5, 6, 5, 6, 6, 4, 2, 1, 5, 6, 2, 1, 2, 3, 4, 5, 6, 1, 2, 3, 4, 5, 6, 1, 2, 3, 4, 5, 1, 2, 3, 4, 5, 6, 4, 1, 2, 3, 4, 5, 6, 1, 2, 3, 4, 5, 6, 4, 6, 1, 2, 3, 4, 5, 6, 2, 3, 4, 6, 1, 2, 3, 4, 5, 6, 3, 1, 1, 4, 2, 1, 3, 1, 3, 1, 2, 3, 4, 5, 6, 6, 4, 5, 1, 1, 2, 3, 4, 5, 6, 1, 2, 3, 4, 5, 6, 1, 2, 3, 4, 5, 6, 1, 2, 3, 4, 5, 6, 6, 1, 4, 5, 1, 3, 5, 3, 3, 1, 3, 1, 2, 3, 4, 6, 1, 2, 4, 1, 3, 5, 2, 3, 5, 1, 2, 3, 4, 5, 6, 5, 1, 2, 3, 4, 5, 6, 2, 5, 6, 4, 5, 1, 3, 4, 1, 2, 3, 4, 6, 1, 5, 1, 5, 1, 3, 4, 5, 2, 6, 3, 6, 4, 4, 5, 1, 2, 3, 4, 5, 6, 2, 3, 6, 2, 1, 4, 5, 1, 1, 1, 2, 3, 1, 2, 4, 5, 6, 3, 2, 2, 1, 2, 3, 4, 5, 6, 5, 1, 2, 3, 4, 5, 6, 3, 1, 2, 3, 4, 5, 6, 3, 2, 1, 2, 3, 4, 5, 6, 1, 2, 3, 4, 5, 6, 1, 2, 4, 6, 1, 2, 3, 4, 5, 6, 1, 5, 1, 2, 3, 4, 5, 6, 1, 2, 3, 4, 5, 6, 4, 1, 2, 3, 4, 5, 6, 4, 5, 6, 1, 2, 3, 4, 5, 6, 2, 3, 5, 6, 1, 5, 3, 3, 1, 2, 3, 4, 5, 6, 6, 2, 3, 5, 6, 5, 6, 1, 2, 3, 4, 5, 6, 1, 2, 3, 3, 5, 6, 5, 5, 4, 6, 2, 3, 5, 1, 2, 3, 4, 5, 6, 3, 4, 6, 1, 2, 1, 1, 1, 1, 2, 3, 4, 5, 6, 1, 2, 3, 4, 5, 6, 1, 2, 4, 5, 4, 1, 1, 3, 4, 6, 2, 3, 2, 1, 2, 3, 4, 5, 6, 6, 4, 5, 1, 4, 2, 5, 6, 4, 6, 2, 3, 5, 6, 1, 1, 3, 4, 5, 6, 3, 4, 4, 3, 4, 6, 5, 6, 1, 2, 3, 4, 5, 6, 4, 4, 1, 2, 2, 3, 5, 1, 2, 3, 4, 5, 6, 3, 5, 1, 2, 3, 4, 5, 6, 1, 2, 3, 4, 5, 6, 2, 2, 5, 6, 2, 3, 5, 1, 2, 3, 4, 5, 6, 1, 2, 3, 4, 5, 6, 1, 2, 3, 4, 6, 1, 2, 3, 4, 5, 6, 1, 2, 3, 4, 5, 6, 4, 5, 6, 3, 1, 3, 4, 5, 6, 5, 2, 6, 5, 1, 3, 6, 1, 2, 3, 4, 5, 6, 1, 2, 3, 4, 5, 6, 1, 2, 3, 4, 5, 6, 3, 5, 1, 2, 3, 4, 5, 6, 2, 2, 3, 4, 5, 6, 6, 1, 2, 3, 4, 5, 6, 1, 3, 4, 5, 6, 1, 1, 2, 3, 4, 5, 6, 1, 2, 3, 4, 5, 6, 1, 2, 3, 4, 5, 6, 1, 3, 4, 6, 2, 5, 3, 6, 1, 2, 3, 4, 5, 6, 1, 2, 3, 4, 5, 6, 1, 2, 3, 4, 5, 6, 1, 2, 3, 4, 5, 6, 1, 2, 3, 4, 5, 6, 1, 4, 6, 1, 2, 4, 6, 1, 2, 3, 4, 5, 6, 6, 3, 1, 5, 4, 2], \"Freq\": [0.09753287172208847, 0.8452848882581, 0.03251095724069615, 0.17385205000054696, 0.04575053947382814, 0.5124060421068752, 0.22875269736914072, 0.04575053947382814, 0.10278784125179448, 0.7709088093884585, 0.01284848015647431, 0.10278784125179448, 0.7134846039882164, 0.1760546425425469, 0.046330169090143924, 0.06486223672620149, 0.08121179635769542, 0.9165331303225625, 0.9844969736358337, 0.9810420043043341, 0.9933794710407367, 0.6523794464884751, 0.06523794464884751, 0.06523794464884751, 0.052190355719078006, 0.156571067157234, 0.061099623643892834, 0.9164943546583925, 0.044948033870578594, 0.8989606774115718, 0.06577336379240993, 0.30255747344508566, 0.1929352004577358, 0.11839205482633787, 0.15785607310178384, 0.16224096402127783, 0.9444059567728116, 0.9743310618607637, 0.9470217044614649, 0.044624908981498124, 0.5875613015897253, 0.10412478762349561, 0.10412478762349561, 0.14874969660499374, 0.007437484830249687, 0.9451111892377825, 0.9504944654538499, 0.9887603963656868, 0.9843597113378607, 0.9780009936188342, 0.9485983561568765, 0.06616087386799481, 0.2830215159908667, 0.19480701750020696, 0.12497053952843465, 0.22421185033042687, 0.11026812311332469, 0.9049842939552905, 0.10055381043947671, 0.15965516414360248, 0.7692476090555392, 0.05805642332494636, 0.1764615438422796, 0.2853420708938989, 0.138916534514135, 0.10137152518599041, 0.11263502798443378, 0.18397054570790852, 0.9918557347666964, 0.13071305249870083, 0.10348116656147148, 0.05991014906190455, 0.21240871031038883, 0.06535652624935041, 0.43026379780822355, 0.8066013113676247, 0.1946968682611508, 0.04483624912000276, 0.10088156052000621, 0.7846343596000483, 0.05604531140000345, 0.6137052733175777, 0.07553295671600957, 0.11329943507401435, 0.09441619589501196, 0.10385781548451316, 0.9670193258409743, 0.9350716792601518, 0.09207780935189104, 0.06905835701391828, 0.6445446654632373, 0.18415561870378208, 0.02301945233797276, 0.9708523435440228, 0.915626386062828, 0.9535018042447747, 0.13055309498569487, 0.04952013947733253, 0.670772798374777, 0.0585238012004839, 0.0900366172315137, 0.8998795800328728, 0.0666577466691017, 0.9747867969409989, 0.9365593567066239, 0.042570879850301085, 0.09602505720782988, 0.24006264301957467, 0.6601722683038304, 0.9790144534773283, 0.019580289069546567, 0.057250749569076324, 0.08587612435361448, 0.4150679343758033, 0.12165784283428718, 0.3148791226299198, 0.9841471189472855, 0.9777320083192638, 0.9772318327138545, 0.05585215623183742, 0.013141683819255864, 0.013141683819255864, 0.9166324463930965, 0.9736773047603561, 0.020939296876566798, 0.01958318996399507, 0.6266620788478422, 0.0293747849459926, 0.24478987454993834, 0.06854116487398274, 0.46909115302263793, 0.33429484468279946, 0.08626963733749664, 0.11322889900546433, 0.15524994014803695, 0.11119252470062105, 0.14895602365554894, 0.1678377731330129, 0.3084019081319112, 0.10699658037229573, 0.07400042312822969, 0.09866723083763959, 0.03700021156411484, 0.6290035965899524, 0.16033425011116434, 0.20860029801474717, 0.027813373068632956, 0.07648677593874063, 0.06258008940442415, 0.5840808344412921, 0.034766716335791197, 0.9627277703466649, 0.9928555925124342, 0.12464236833165336, 0.035612105237615245, 0.23444635948096704, 0.02077372805527556, 0.5846320609841836, 0.9722190406345903, 0.9675945839947078, 0.08384914680398277, 0.03469619867751011, 0.6765758742114472, 0.10119724614273781, 0.02313079911834007, 0.08095779691419025, 0.9533067092992737, 0.1268401483388872, 0.8371449790366556, 0.9446236366448018, 0.9834280509436824, 0.9679734973898734, 0.978302401670599, 0.9632342988402827, 0.586128162132117, 0.11372635981667943, 0.03499272609743983, 0.0612372706705197, 0.20995635658463896, 0.9748418433643253, 0.5372800167611064, 0.2102400065586938, 0.007786666909581252, 0.023360000728743755, 0.062293335276650014, 0.1635200051012063, 0.044915804206096976, 0.8983160841219395, 0.16356173468505936, 0.04205873177615812, 0.4626460495377393, 0.11215661806975498, 0.21964004371993684, 0.9966706721094551, 0.03491576225544825, 0.9427255808971027, 0.4621533064917104, 0.13294821145651942, 0.08230127375879774, 0.03165433606107605, 0.09496300818322816, 0.19625688357867155, 0.029265243317915392, 0.03762674140874836, 0.13378396945332752, 0.681462094402887, 0.12124172231707805, 0.9820373830623584, 0.8141406940585799, 0.13569011567643, 0.04523003855881, 0.9461278683549639, 0.846619260619065, 0.0846619260619065, 0.06349644454642987, 0.9294351113567905, 0.06884704528568819, 0.9853619477241307, 0.07129681388079472, 0.014259362776158942, 0.12358114406004417, 0.7890180736141281, 0.030327092788861164, 0.9603579383139369, 0.09429029783550126, 0.9075441166666997, 0.13861145767765104, 0.8162674729906116, 0.03080254615058912, 0.8047029895836645, 0.18441110177958978, 0.9815731544049698, 0.0821520269755731, 0.32347360621631904, 0.225918074182826, 0.15403505057919956, 0.21564907081087936, 0.9655293795193846, 0.39820288088692596, 0.09006969924823326, 0.1042912307084806, 0.0521456153542403, 0.1279937831422262, 0.2275445033639577, 0.1930112756464579, 0.3860225512929158, 0.12352721641373304, 0.07334428474565399, 0.08492496128444146, 0.13896811846544968, 0.9710802170110745, 0.9430382663297003, 0.12126804577488322, 0.8623505477325029, 0.8188924669024562, 0.08188924669024562, 0.09826709602829475, 0.9256111991405981, 0.5749277791842328, 0.06763856225696856, 0.03381928112848428, 0.0845482028212107, 0.1099126636675739, 0.12682230423181606, 0.9405826286848056, 0.04702913143424028, 0.4256712856399489, 0.03023894378863025, 0.1232818477536464, 0.16049900933965286, 0.16747722713702906, 0.09304290396501615, 0.9294090943472969, 0.38011532253387614, 0.12670510751129205, 0.08814268348611622, 0.17077644925435015, 0.104669436639763, 0.12670510751129205, 0.9918340489875634, 0.9773565389262246, 0.9283861764491999, 0.13343570806765875, 0.08006142484059525, 0.08733973618974028, 0.17225336859643223, 0.16740116103033553, 0.3590633598911545, 0.9129554056257396, 0.9493959512409356, 0.04653901721769292, 0.9697209734364618, 0.9612215335211567, 0.9223024268931689, 0.15356421041906984, 0.11943883032594321, 0.05118807013968995, 0.6654449118159693, 0.7777689690751608, 0.04861056056719755, 0.0324070403781317, 0.1296281615125268, 0.045313201160284935, 0.8382942214652713, 0.045313201160284935, 0.045313201160284935, 0.8786460299671464, 0.10041668913910244, 0.014526409460208622, 0.09684272973472415, 0.05810563784083449, 0.033894955407153454, 0.16463264054903104, 0.6294777432757069, 0.9901723440361336, 0.9555283797654498, 0.9041152683011816, 0.08749502596463048, 0.913423043922609, 0.07211234557283755, 0.08756590448278119, 0.02020751641910335, 0.7880931403450306, 0.033679194031838916, 0.07409422687004562, 0.07459170196787412, 0.07233134736278703, 0.09267453880857088, 0.23281652432397076, 0.429467374966548, 0.09719524801874507, 0.9267130708274461, 0.16299029686504693, 0.34326744339759885, 0.11853839772003413, 0.22472904567756471, 0.08149514843252346, 0.06914739867001991, 0.026676459378643384, 0.9603525376311618, 0.9801904119766989, 0.26600128788106436, 0.7354153253182368, 0.9388785082651051, 0.9714911467919186, 0.9553188520570928, 0.976421061077843, 0.9738554768875219, 0.9642190689685858, 0.9783471223608352, 0.10095865406697616, 0.14022035287080023, 0.11217628229664017, 0.14582916698563222, 0.09534983995214415, 0.4038346162679046, 0.9831308976461068, 0.9946456779136821, 0.9759028943161703, 0.9952131381322932, 0.17118901656169186, 0.08844765855687411, 0.11983231159318429, 0.46791664526862436, 0.03709095358836657, 0.11412601104112789, 0.978585115530536, 0.19533622776444973, 0.47025388165515675, 0.10128545143341838, 0.13745882694535352, 0.043408050614322166, 0.05064272571670919, 0.9857247384196615, 0.13645223294408157, 0.09096815529605438, 0.14782325235608837, 0.13645223294408157, 0.39230016971423454, 0.09096815529605438, 0.9488794541818542, 0.22240793628585492, 0.11896238452499217, 0.062067331056517655, 0.20689110352172552, 0.11379010693694903, 0.27930298975432943, 0.7876075550979197, 0.013126792584965328, 0.19690188877447992, 0.9585052668851662, 0.9759030705018081, 0.022695420244228097, 0.9398333861244033, 0.06961431204236433, 0.05801192670197028, 0.8005645884871898, 0.06961431204236433, 0.07604151587917471, 0.7477415728118846, 0.08871510185903717, 0.08871510185903717, 0.240829466473745, 0.5418662995659262, 0.017202104748124645, 0.05160631424437393, 0.1204147332368725, 0.025803157122186966, 0.9795934258257784, 0.9920885077332563, 0.04051338190927375, 0.19945049555334768, 0.7572886003041169, 0.9160113340656787, 0.08936695942104182, 0.9736846461782086, 0.06500041661013355, 0.9100058325418697, 0.946442400362972, 0.9664897870956614, 0.043741714442192305, 0.9477371462474999, 0.9878364826481073, 0.9855368088178605, 0.9808819644049844, 0.9813530294635509, 0.9858806634468137, 0.9794373393924353, 0.9618650365240434, 0.07785303315725049, 0.02595101105241683, 0.08823343757821724, 0.04152161768386693, 0.12975505526208417, 0.6435850740999375, 0.3713990783240301, 0.08927862459712262, 0.1607015242748207, 0.060709464726043376, 0.12141892945208675, 0.19998411909755465, 0.13557952733591228, 0.5024417777742631, 0.17545585890529825, 0.015950532627754387, 0.17545585890529825, 0.10838656921059456, 0.08670925536847565, 0.12283811177200717, 0.1950958245790702, 0.41909473428096566, 0.06503194152635673, 0.9644717360565342, 0.2003544269250131, 0.08877980594282017, 0.09237898726482639, 0.18715742874432362, 0.31312877501454145, 0.11877298362620536, 0.1255321193870901, 0.26952484456639936, 0.08122666548576418, 0.10707151359487098, 0.17722181560530367, 0.2362957541404049, 0.04419338476763518, 0.9501577725041563, 0.06810397390512006, 0.3178185448905603, 0.10215596085768008, 0.2383639086679202, 0.1248572854927201, 0.14755861012776011, 0.06707437958151509, 0.08384297447689386, 0.1173801642676514, 0.7210495805012872, 0.14565026480323923, 0.044328341461855415, 0.1646481254297487, 0.14565026480323923, 0.41795293378320825, 0.08865668292371083, 0.9870548679726472, 0.9699600967536756, 0.15658029600249385, 0.8350949120133005, 0.9799875403555031, 0.07269613205448443, 0.9208176726901361, 0.9532938502762262, 0.04539494525124886, 0.3891300018499237, 0.0624529632598643, 0.1393181488104665, 0.12010185242281596, 0.16814259339194235, 0.12010185242281596, 0.9432979145048368, 0.9932183535528982, 0.9064511526280628, 0.9504585488046943, 0.36925229041272845, 0.07232776822517362, 0.17130260895435856, 0.20175640610180007, 0.04568069572116228, 0.13704208716348684, 0.21602886768560534, 0.13811681704489523, 0.2514434361586554, 0.15228264443411524, 0.13811681704489523, 0.10270224857184516, 0.1530739101947631, 0.1354115359415212, 0.09714305839283043, 0.2001735748700748, 0.11774916168827931, 0.2943729042206983, 0.05649648876594545, 0.04035463483281818, 0.3443595505733818, 0.09416081460990909, 0.24750842697461817, 0.21253441011950908, 0.9861953987655856, 0.22006653857275987, 0.17421934303676825, 0.5960135419678914, 0.22881593406433773, 0.7436517857090976, 0.9911430479764962, 0.9870205360206469, 0.9841080847366609, 0.9871906044399594, 0.9831235395122672, 0.006421489093931481, 0.1348512709725611, 0.08990084731504074, 0.6549918875810111, 0.10916531459683519, 0.9892964792707032, 0.949413437882042, 0.9801878762395058, 0.13853600834662833, 0.06926800417331416, 0.7965820479931128, 0.9585052668851662, 0.20423312119288045, 0.7760858605329458, 0.10891895938431247, 0.0925811154766656, 0.13070275126117498, 0.1633784390764687, 0.17427033501489997, 0.3213109301837218, 0.9488181438045317, 0.801881299557998, 0.029589715850848637, 0.04734354536135782, 0.059179431701697274, 0.038466630606103225, 0.02367177268067891, 0.06292746396151126, 0.9229361381021652, 0.9762654966906027, 0.36476599207434784, 0.627736823569808, 0.056315607175829986, 0.7696466314030098, 0.17833275605679497, 0.13330941114367822, 0.14441852873898475, 0.08331838196479889, 0.5998923501465521, 0.04443647038122608, 0.9538724058070293, 0.9914030237269443, 0.07871118511173089, 0.9051786287849053, 0.29190538118034937, 0.052638675294817104, 0.6029520988315413, 0.052638675294817104, 0.8869198755558136, 0.09096614108264756, 0.9822700701124848, 0.9709623967992319, 0.9590452280058457, 0.9768644372828466, 0.9853771398745772, 0.1430606637569542, 0.1568164968105075, 0.09904199798558368, 0.3714074924459388, 0.11830016426055828, 0.11554899764984763, 0.9019783595169597, 0.09019783595169598, 0.9689683700732413, 0.9466269395684614, 0.02353426240015547, 0.9649047584063744, 0.9213624907497491, 0.9754566312698558, 0.9645095075605725, 0.9815376400042505, 0.9944693372063268, 0.9660234740325303, 0.03577964892468492, 0.09541239713249314, 0.04770619856624657, 0.23853099283123283, 0.5844009324365205, 0.9633868030895377, 0.9611205871004731, 0.9345831361595537, 0.27668678741249475, 0.11217031922128165, 0.17947251075405066, 0.08599724473631594, 0.1682554788319225, 0.17947251075405066, 0.9728117920927535, 0.167463911153533, 0.14885680991425157, 0.334927822307066, 0.10233905681604796, 0.13024970867497013, 0.1209461580553294, 0.9437140332563793, 0.23431202120207154, 0.11715601060103577, 0.14058721272124292, 0.005857800530051788, 0.3983304360435216, 0.10544040954093219, 0.9664109283824872, 0.9437718840061113, 0.11292519421745463, 0.18703235292265924, 0.3740647058453185, 0.13409866813322738, 0.003528912319295457, 0.18703235292265924, 0.07797443708118242, 0.02293365796505365, 0.32565794310376184, 0.3669385274408584, 0.07797443708118242, 0.12842848460430045, 0.13434485397539372, 0.10747588318031498, 0.09404139778277561, 0.6582897844794292, 0.2035174582100605, 0.2916071043009822, 0.09720236810032741, 0.1731417181787082, 0.09416479409719217, 0.14276597814735587, 0.9599615823521461, 0.9934012786180395, 0.01098300366373695, 0.03844051282307933, 0.6589802198242171, 0.10983003663736951, 0.0219660073274739, 0.16474505495605427, 0.19607825801456, 0.14514884034844053, 0.06111530119934338, 0.3335876857130826, 0.15024178211505246, 0.11459118974876883, 0.953948800105603, 0.09808489194025782, 0.3494274275371685, 0.11647580917905617, 0.13486672641785452, 0.11341065630592312, 0.18390917238798343, 0.9481029913812477, 0.974710877438, 0.9633621589541904, 0.2733813626075904, 0.038146236642919586, 0.36238924810773604, 0.1271541221430653, 0.12079641603591201, 0.07629247328583917, 0.12705995264642905, 0.7411830571041695, 0.021176658774404843, 0.10588329387202422, 0.9482561919330368, 0.04515505675871604, 0.9297110450181855, 0.9701341764204511, 0.14325166193639216, 0.1307949956810537, 0.40484165329849964, 0.08719666378736915, 0.0996533300427076, 0.1307949956810537, 0.9831583550657633, 0.8136469708878069, 0.04881881825326841, 0.08678901022803273, 0.05424313139252046, 0.9538648179396595, 0.9807211580476025, 0.12265599932168653, 0.09972964430828718, 0.05158429878014854, 0.5467935670695745, 0.10890018631364692, 0.07107170054153798, 0.21502157530160634, 0.040956490533639305, 0.7372168296055074, 0.027784961069642743, 0.13892480534821372, 0.8057638710196395, 0.9719138658464911, 0.9767356791099905, 0.8808981167603332, 0.11590764694214911, 0.10053149733342086, 0.08377624777785071, 0.8042519786673669, 0.11656002742910646, 0.06660572995948941, 0.09435811744260998, 0.48289154220629815, 0.08325716244936175, 0.15541336990547527, 0.8146797269754248, 0.1123696175138517, 0.05618480875692585, 0.9412152414908801, 0.0362005862111877, 0.9518765951209041, 0.9737175114958956, 0.9839347474985508, 0.5113199398205348, 0.016232379041921742, 0.15420760089825652, 0.11362665329345219, 0.12174284281441305, 0.08927808473056957, 0.1734679608047424, 0.1125197583598329, 0.0890781420348677, 0.18284460733472846, 0.37037753793444994, 0.07266901060739207, 0.10697717495696317, 0.09806241037721625, 0.6151187560025383, 0.18721005617468556, 0.9818026975186877, 0.9687832757610703, 0.09099908808738214, 0.23399765508183976, 0.09099908808738214, 0.5849941377045994, 0.17721970516983415, 0.8152106437812371, 0.9813669020581757, 0.09744680890012727, 0.09744680890012727, 0.35539424422399357, 0.12037546981780428, 0.12610763504722353, 0.2006257830296738, 0.9946283288803232, 0.8420864213272286, 0.14377085242172197, 0.9629227923178114, 0.9675881065495024, 0.02062199644432611, 0.06186598933297833, 0.9073678435503488, 0.9061602447861422, 0.09061602447861422, 0.7152825143652288, 0.147989485730737, 0.0739947428653685, 0.04932982857691233, 0.9580330871006504, 0.24551166302372945, 0.06313157049181614, 0.5822133723134155, 0.028058475774140508, 0.07014618943535127, 0.9243311166683691, 0.9746947173471838, 0.9841784380534169, 0.21920939944309548, 0.05480234986077387, 0.7124305481900602, 0.9116166927429005, 0.07596805772857504, 0.1826545075493597, 0.021918540905923163, 0.012176967169957312, 0.6405084731397547, 0.06332022928377802, 0.0779325898877268, 0.9806743145575361, 0.9830145642245429, 0.11356680205234068, 0.8858210560082573, 0.029769563884688984, 0.1935021652504784, 0.7740086610019136, 0.09972870617920294, 0.03902427633099246, 0.09105664477231573, 0.42493100893747343, 0.10840076758609016, 0.23414565798595474, 0.07375280356761456, 0.9219100445951819, 0.520810189900701, 0.16597247810022342, 0.10874058910014638, 0.10301740020013866, 0.04578551120006163, 0.05150870010006933, 0.13990859154741964, 0.2577263528505099, 0.08836332097731767, 0.11045415122164709, 0.3976349443979295, 0.014727220162886278, 0.9939900748940886, 0.9652143893695553, 0.026999003898449097, 0.9527582820274603, 0.02742467023974496, 0.7953154369526039, 0.16454802143846975, 0.3468853978843656, 0.06801674468320895, 0.10542595425897387, 0.19044688511298505, 0.18704604787882462, 0.10202511702481343, 0.14879181913440512, 0.01998696077924845, 0.0799478431169938, 0.7039851741135288, 0.028870054458914426, 0.01998696077924845, 0.5728119154399337, 0.06738963711058044, 0.10782341937692869, 0.17521305648750912, 0.06738963711058044, 0.2732759646982122, 0.05753178204172889, 0.06712041238201703, 0.1678010309550426, 0.1630067157848985, 0.2732759646982122, 0.17106938839533767, 0.24591224581829788, 0.16037755162062906, 0.15503163323327476, 0.12830204129650324, 0.14077585086699662, 0.014632076268379316, 0.32190567790434493, 0.6584434320770692, 0.9553340674465511, 0.11989501378373514, 0.5994750689186757, 0.13188451516210867, 0.09591601102698812, 0.05994750689186757, 0.9277014289422049, 0.9838051294124411, 0.9415171623195647, 0.9337743237817026, 0.8758487620767929, 0.10426770977104677, 0.020853541954209354, 0.5300541527537628, 0.10342520053731956, 0.1335908840273711, 0.04309383355721648, 0.12066273396020614, 0.07325951704726802, 0.14672703315972555, 0.06904801560457673, 0.49196711118260916, 0.08631001950572091, 0.06904801560457673, 0.13809603120915345, 0.07475086867472018, 0.16196021546189374, 0.03737543433736009, 0.2429403231928406, 0.04983391244981345, 0.42358825582341436, 0.9231614791506197, 0.049900620494628095, 0.12455868157564502, 0.030196044018338187, 0.04529406602750728, 0.18117626411002913, 0.02264703301375364, 0.5963718693621792, 0.9737194071576305, 0.6703714805681917, 0.013144538834670426, 0.0525781553386817, 0.18402354368538595, 0.07886723300802256, 0.9518710985305154, 0.15704473104396097, 0.08506589598214552, 0.07525060029189796, 0.19957767903503373, 0.32390475777816946, 0.15704473104396097, 0.09682715313903033, 0.1056296216062149, 0.1056296216062149, 0.008802468467184575, 0.6689876035060277, 0.9441317325305666, 0.15938137839374344, 0.09107507336785339, 0.055656989280354854, 0.24033699916516868, 0.34153152512945023, 0.11131397856070971, 0.26786186991326744, 0.0922147421012888, 0.0790412075153904, 0.07465002932009093, 0.19321184059317653, 0.29860011728036373, 0.16967887431109893, 0.0995449395958447, 0.13121832946724984, 0.36198159853034434, 0.08597062965095678, 0.1515797943845817, 0.10678987967610327, 0.7074829528541843, 0.1334873495951291, 0.04004620487853873, 0.9259628337521806, 0.04409346827391336, 0.9860185776011426, 0.9873610700918136, 0.16888920372645658, 0.12915056755552562, 0.15398721516235747, 0.11424857899142651, 0.07947727234186192, 0.35764772553837865, 0.11310236532457328, 0.11956535762883462, 0.09694488456391996, 0.4362519805376398, 0.12279685378096528, 0.11633386147670395, 0.07226142353312275, 0.4269993208775435, 0.1707997283510174, 0.2233534909205612, 0.03941532192715786, 0.06569220321192977, 0.05942845236501722, 0.14046725104458616, 0.05942845236501722, 0.5834793504928963, 0.06483103894365515, 0.09184397183684478, 0.5646037866839495, 0.03874731869399654, 0.027676656209997527, 0.17159526850198467, 0.14391861229198713, 0.06088864366199456, 0.1370208464153814, 0.7193594436807523, 0.1370208464153814, 0.6757002874285091, 0.15484798253569998, 0.11261671457141817, 0.04223126796428182, 0.19885911211258683, 0.053029096563356484, 0.4308614095772714, 0.013257274140839121, 0.21211638625342594, 0.08617228191545429, 0.9294090943472969, 0.9561437774501402, 0.9786004366525346, 0.9833631689468382, 0.9813275997216888, 0.9863145336355384], \"Term\": [\"academy\", \"academy\", \"academy\", \"ago\", \"ago\", \"ago\", \"ago\", \"ago\", \"agree\", \"agree\", \"agree\", \"agree\", \"alliance\", \"alliance\", \"alliance\", \"alliance\", \"alm\", \"alm\", \"almedha\", \"alois\", \"annette\", \"apostle\", \"apostle\", \"apostle\", \"apostle\", \"apostle\", \"arachel\", \"arachel\", \"arion\", \"arion\", \"army\", \"army\", \"army\", \"army\", \"army\", \"army\", \"arthur\", \"ashe\", \"athos\", \"attack\", \"attack\", \"attack\", \"attack\", \"attack\", \"attack\", \"august\", \"awake\", \"azura\", \"balthus\", \"base\", \"bastian\", \"battle\", \"battle\", \"battle\", \"battle\", \"battle\", \"battle\", \"beat\", \"beat\", \"beg\", \"beg\", \"beg\", \"believe\", \"believe\", \"believe\", \"believe\", \"believe\", \"believe\", \"bernadetta\", \"best\", \"best\", \"best\", \"best\", \"best\", \"best\", \"betray\", \"betray\", \"black\", \"black\", \"black\", \"black\", \"blood\", \"blood\", \"blood\", \"blood\", \"blood\", \"boss\", \"bothering\", \"boy\", \"boy\", \"boy\", \"boy\", \"boy\", \"boyd\", \"bracelet\", \"brigade\", \"brother\", \"brother\", \"brother\", \"brother\", \"brother\", \"brothers\", \"brothers\", \"caeda\", \"camp\", \"camp\", \"captain\", \"captain\", \"captain\", \"caspar\", \"caspar\", \"castle\", \"castle\", \"castle\", \"castle\", \"castle\", \"ced\", \"celica\", \"chief\", \"choice\", \"choice\", \"choice\", \"choice\", \"chrom\", \"chrom\", \"church\", \"church\", \"church\", \"church\", \"church\", \"claude\", \"claude\", \"claude\", \"claude\", \"come\", \"come\", \"come\", \"come\", \"come\", \"come\", \"command\", \"command\", \"command\", \"command\", \"command\", \"commander\", \"commander\", \"commander\", \"commander\", \"commander\", \"commander\", \"comrades\", \"constance\", \"corrin\", \"corrin\", \"corrin\", \"corrin\", \"corrin\", \"costs\", \"cough\", \"course\", \"course\", \"course\", \"course\", \"course\", \"course\", \"cover\", \"cross\", \"cross\", \"crossed\", \"cyril\", \"daphnel\", \"darling\", \"dawn\", \"dead\", \"dead\", \"dead\", \"dead\", \"dead\", \"dedue\", \"defeat\", \"defeat\", \"defeat\", \"defeat\", \"defeat\", \"defeat\", \"deirdre\", \"deirdre\", \"die\", \"die\", \"die\", \"die\", \"die\", \"dimitri\", \"discuss\", \"discuss\", \"does\", \"does\", \"does\", \"does\", \"does\", \"does\", \"doing\", \"doing\", \"doing\", \"doing\", \"doing\", \"dorothea\", \"dream\", \"dream\", \"dream\", \"duessel\", \"duke\", \"duke\", \"duke\", \"duma\", \"duma\", \"edain\", \"edelgard\", \"edelgard\", \"edelgard\", \"edelgard\", \"eirika\", \"eirika\", \"elincia\", \"elincia\", \"elise\", \"elise\", \"elise\", \"eliwood\", \"eliwood\", \"emblem\", \"empire\", \"empire\", \"empire\", \"empire\", \"empire\", \"empress\", \"end\", \"end\", \"end\", \"end\", \"end\", \"end\", \"enemy\", \"enemy\", \"enemy\", \"enemy\", \"enemy\", \"enemy\", \"ephidel\", \"escort\", \"excuse\", \"excuse\", \"explain\", \"explain\", \"explain\", \"faceless\", \"family\", \"family\", \"family\", \"family\", \"family\", \"family\", \"fang\", \"fang\", \"father\", \"father\", \"father\", \"father\", \"father\", \"father\", \"fay\", \"feel\", \"feel\", \"feel\", \"feel\", \"feel\", \"feel\", \"felix\", \"ferdinand\", \"fernand\", \"fight\", \"fight\", \"fight\", \"fight\", \"fight\", \"fight\", \"fighter\", \"flayn\", \"flayn\", \"florina\", \"following\", \"forgiven\", \"forward\", \"forward\", \"forward\", \"forward\", \"garon\", \"garon\", \"garon\", \"garon\", \"gate\", \"gate\", \"gate\", \"gate\", \"gatrie\", \"gatrie\", \"general\", \"general\", \"general\", \"general\", \"general\", \"general\", \"geoffrey\", \"ghost\", \"gilbert\", \"gilbert\", \"giving\", \"giving\", \"glad\", \"glad\", \"glad\", \"glad\", \"glad\", \"going\", \"going\", \"going\", \"going\", \"going\", \"going\", \"golden\", \"good\", \"good\", \"good\", \"good\", \"good\", \"good\", \"goodness\", \"goodness\", \"grace\", \"greil\", \"greil\", \"grrr\", \"gunter\", \"haar\", \"hanneman\", \"hannibal\", \"hans\", \"hapi\", \"happened\", \"happened\", \"happened\", \"happened\", \"happened\", \"happened\", \"harken\", \"hector\", \"heehee\", \"hello\", \"help\", \"help\", \"help\", \"help\", \"help\", \"help\", \"hilda\", \"hmm\", \"hmm\", \"hmm\", \"hmm\", \"hmm\", \"hmm\", \"ho\", \"hold\", \"hold\", \"hold\", \"hold\", \"hold\", \"hold\", \"honored\", \"hope\", \"hope\", \"hope\", \"hope\", \"hope\", \"hope\", \"hoshido\", \"hoshido\", \"hoshido\", \"html\", \"hubert\", \"hubert\", \"huff\", \"hurry\", \"hurry\", \"hurry\", \"hurry\", \"hurt\", \"hurt\", \"hurt\", \"hurt\", \"idea\", \"idea\", \"idea\", \"idea\", \"idea\", \"idea\", \"ideals\", \"ignatz\", \"ike\", \"ike\", \"ike\", \"impossible\", \"impossible\", \"ingrid\", \"injured\", \"injured\", \"insane\", \"jakob\", \"jeralt\", \"jeralt\", \"jill\", \"joking\", \"judith\", \"julia\", \"kaze\", \"kent\", \"kidding\", \"kill\", \"kill\", \"kill\", \"kill\", \"kill\", \"kill\", \"king\", \"king\", \"king\", \"king\", \"king\", \"king\", \"kingdom\", \"kingdom\", \"kingdom\", \"kingdom\", \"kingdom\", \"knight\", \"knight\", \"knight\", \"knight\", \"knight\", \"knight\", \"knock\", \"know\", \"know\", \"know\", \"know\", \"know\", \"know\", \"lady\", \"lady\", \"lady\", \"lady\", \"lady\", \"lady\", \"leanne\", \"leanne\", \"leave\", \"leave\", \"leave\", \"leave\", \"leave\", \"leave\", \"leaving\", \"leaving\", \"leaving\", \"leaving\", \"left\", \"left\", \"left\", \"left\", \"left\", \"left\", \"leif\", \"lekain\", \"leo\", \"leo\", \"leonie\", \"leonster\", \"leonster\", \"lethe\", \"lethe\", \"life\", \"life\", \"life\", \"life\", \"life\", \"life\", \"lilith\", \"linhardt\", \"lions\", \"lissa\", \"little\", \"little\", \"little\", \"little\", \"little\", \"little\", \"long\", \"long\", \"long\", \"long\", \"long\", \"long\", \"look\", \"look\", \"look\", \"look\", \"look\", \"look\", \"lord\", \"lord\", \"lord\", \"lord\", \"lord\", \"lord\", \"lorenz\", \"lose\", \"lose\", \"lose\", \"lucina\", \"lucina\", \"lyndis\", \"lyon\", \"lysithea\", \"ma\", \"mages\", \"majesty\", \"majesty\", \"majesty\", \"majesty\", \"majesty\", \"manuela\", \"mareeta\", \"marianne\", \"mark\", \"mark\", \"mark\", \"markups\", \"marquess\", \"marquess\", \"matter\", \"matter\", \"matter\", \"matter\", \"matter\", \"matter\", \"matthew\", \"mean\", \"mean\", \"mean\", \"mean\", \"mean\", \"mean\", \"medallion\", \"medallion\", \"mercedes\", \"micaiah\", \"micaiah\", \"milord\", \"milord\", \"milord\", \"mind\", \"mind\", \"mind\", \"mind\", \"mind\", \"missed\", \"mist\", \"mmm\", \"mmm\", \"mother\", \"mother\", \"mother\", \"mother\", \"moving\", \"moving\", \"muarim\", \"mycen\", \"myrrh\", \"nanna\", \"nasir\", \"need\", \"need\", \"need\", \"need\", \"need\", \"need\", \"ninian\", \"ninian\", \"nino\", \"official\", \"okay\", \"okay\", \"oswin\", \"owe\", \"pact\", \"papa\", \"pardon\", \"passage\", \"path\", \"path\", \"path\", \"path\", \"path\", \"paths\", \"patient\", \"pent\", \"people\", \"people\", \"people\", \"people\", \"people\", \"people\", \"petra\", \"place\", \"place\", \"place\", \"place\", \"place\", \"place\", \"playing\", \"power\", \"power\", \"power\", \"power\", \"power\", \"power\", \"praying\", \"press\", \"prince\", \"prince\", \"prince\", \"prince\", \"prince\", \"prince\", \"princess\", \"princess\", \"princess\", \"princess\", \"princess\", \"princess\", \"problem\", \"problem\", \"problem\", \"problem\", \"professor\", \"professor\", \"professor\", \"professor\", \"professor\", \"professor\", \"rafiel\", \"raphael\", \"ready\", \"ready\", \"ready\", \"ready\", \"ready\", \"ready\", \"really\", \"really\", \"really\", \"really\", \"really\", \"really\", \"recognize\", \"relationship\", \"relationship\", \"relationship\", \"relationship\", \"relationship\", \"relationship\", \"relax\", \"reliable\", \"relieved\", \"remember\", \"remember\", \"remember\", \"remember\", \"remember\", \"remember\", \"renais\", \"renais\", \"renais\", \"renais\", \"repay\", \"repay\", \"resist\", \"resolve\", \"return\", \"return\", \"return\", \"return\", \"return\", \"return\", \"reyson\", \"rhea\", \"rhea\", \"rhea\", \"rhea\", \"rhys\", \"ridiculous\", \"right\", \"right\", \"right\", \"right\", \"right\", \"right\", \"robin\", \"robin\", \"robin\", \"rodrigue\", \"rodrigue\", \"rodrigue\", \"rogue\", \"rolf\", \"ryoma\", \"ryoma\", \"sacred\", \"sacred\", \"sacred\", \"safe\", \"safe\", \"safe\", \"safe\", \"safe\", \"safe\", \"safety\", \"safety\", \"safety\", \"sage\", \"sage\", \"sain\", \"sakura\", \"sanaki\", \"save\", \"save\", \"save\", \"save\", \"save\", \"save\", \"say\", \"say\", \"say\", \"say\", \"say\", \"say\", \"saying\", \"saying\", \"saying\", \"saying\", \"scarlet\", \"selena\", \"seliph\", \"seliph\", \"seliph\", \"seliph\", \"seteth\", \"seteth\", \"seth\", \"shall\", \"shall\", \"shall\", \"shall\", \"shall\", \"shall\", \"shamir\", \"shinon\", \"shinon\", \"shot\", \"shut\", \"sigh\", \"sigh\", \"sigh\", \"sir\", \"sir\", \"sire\", \"sire\", \"sire\", \"sire\", \"sis\", \"sister\", \"sister\", \"sister\", \"sister\", \"sister\", \"sleepy\", \"sniff\", \"sob\", \"soldier\", \"soldier\", \"soldier\", \"soren\", \"soren\", \"sorry\", \"sorry\", \"sorry\", \"sorry\", \"sorry\", \"sorry\", \"sothe\", \"sothis\", \"sounds\", \"sounds\", \"stone\", \"stone\", \"stone\", \"stop\", \"stop\", \"stop\", \"stop\", \"stop\", \"stop\", \"stopped\", \"stopped\", \"suppose\", \"suppose\", \"suppose\", \"suppose\", \"suppose\", \"suppose\", \"sword\", \"sword\", \"sword\", \"sword\", \"sword\", \"sword\", \"sylvain\", \"talking\", \"talking\", \"tauroneo\", \"teacher\", \"teacher\", \"teacher\", \"tell\", \"tell\", \"tell\", \"tell\", \"tell\", \"tell\", \"thank\", \"thank\", \"thank\", \"thank\", \"thank\", \"thank\", \"thanks\", \"thanks\", \"thanks\", \"thanks\", \"thanks\", \"thought\", \"thought\", \"thought\", \"thought\", \"thought\", \"thought\", \"time\", \"time\", \"time\", \"time\", \"time\", \"time\", \"titania\", \"titania\", \"titania\", \"tobin\", \"today\", \"today\", \"today\", \"today\", \"today\", \"tomb\", \"torment\", \"tormod\", \"tragic\", \"tribe\", \"tribe\", \"tribe\", \"true\", \"true\", \"true\", \"true\", \"true\", \"true\", \"trust\", \"trust\", \"trust\", \"trust\", \"trust\", \"trust\", \"try\", \"try\", \"try\", \"try\", \"try\", \"try\", \"uncle\", \"uncle\", \"understand\", \"understand\", \"understand\", \"understand\", \"understand\", \"understand\", \"valley\", \"victory\", \"victory\", \"victory\", \"victory\", \"victory\", \"villager\", \"wait\", \"wait\", \"wait\", \"wait\", \"wait\", \"wait\", \"waiting\", \"waiting\", \"waiting\", \"waiting\", \"waiting\", \"wanna\", \"want\", \"want\", \"want\", \"want\", \"want\", \"want\", \"war\", \"war\", \"war\", \"war\", \"war\", \"war\", \"way\", \"way\", \"way\", \"way\", \"way\", \"way\", \"welcome\", \"welcome\", \"welcome\", \"welcome\", \"western\", \"western\", \"wh\", \"wha\", \"wish\", \"wish\", \"wish\", \"wish\", \"wish\", \"wish\", \"won\", \"won\", \"won\", \"won\", \"won\", \"won\", \"work\", \"work\", \"work\", \"work\", \"work\", \"work\", \"worry\", \"worry\", \"worry\", \"worry\", \"worry\", \"worry\", \"wrong\", \"wrong\", \"wrong\", \"wrong\", \"wrong\", \"wrong\", \"xander\", \"xander\", \"xander\", \"ya\", \"ya\", \"ya\", \"ya\", \"years\", \"years\", \"years\", \"years\", \"years\", \"years\", \"yen\", \"yep\", \"yer\", \"yukimura\", \"yune\", \"yuri\"]}, \"R\": 30, \"lambda.step\": 0.01, \"plot.opts\": {\"xlab\": \"PC1\", \"ylab\": \"PC2\"}, \"topic.order\": [3, 1, 6, 5, 2, 4]};\n",
       "\n",
       "function LDAvis_load_lib(url, callback){\n",
       "  var s = document.createElement('script');\n",
       "  s.src = url;\n",
       "  s.async = true;\n",
       "  s.onreadystatechange = s.onload = callback;\n",
       "  s.onerror = function(){console.warn(\"failed to load library \" + url);};\n",
       "  document.getElementsByTagName(\"head\")[0].appendChild(s);\n",
       "}\n",
       "\n",
       "if(typeof(LDAvis) !== \"undefined\"){\n",
       "   // already loaded: just create the visualization\n",
       "   !function(LDAvis){\n",
       "       new LDAvis(\"#\" + \"ldavis_el181761389272489731385805\", ldavis_el181761389272489731385805_data);\n",
       "   }(LDAvis);\n",
       "}else if(typeof define === \"function\" && define.amd){\n",
       "   // require.js is available: use it to load d3/LDAvis\n",
       "   require.config({paths: {d3: \"https://d3js.org/d3.v5\"}});\n",
       "   require([\"d3\"], function(d3){\n",
       "      window.d3 = d3;\n",
       "      LDAvis_load_lib(\"https://cdn.jsdelivr.net/gh/bmabey/pyLDAvis@3.3.1/pyLDAvis/js/ldavis.v3.0.0.js\", function(){\n",
       "        new LDAvis(\"#\" + \"ldavis_el181761389272489731385805\", ldavis_el181761389272489731385805_data);\n",
       "      });\n",
       "    });\n",
       "}else{\n",
       "    // require.js not available: dynamically load d3 & LDAvis\n",
       "    LDAvis_load_lib(\"https://d3js.org/d3.v5.js\", function(){\n",
       "         LDAvis_load_lib(\"https://cdn.jsdelivr.net/gh/bmabey/pyLDAvis@3.3.1/pyLDAvis/js/ldavis.v3.0.0.js\", function(){\n",
       "                 new LDAvis(\"#\" + \"ldavis_el181761389272489731385805\", ldavis_el181761389272489731385805_data);\n",
       "            })\n",
       "         });\n",
       "}\n",
       "</script>"
      ],
      "text/plain": [
       "PreparedData(topic_coordinates=              x         y  topics  cluster       Freq\n",
       "topic                                                \n",
       "2     -0.061506  0.033246       1        1  18.197202\n",
       "0      0.145111 -0.139263       2        1  17.159012\n",
       "5      0.042200  0.059095       3        1  16.717952\n",
       "4     -0.163634 -0.103312       4        1  16.474163\n",
       "1      0.063653  0.075257       5        1  16.006307\n",
       "3     -0.025823  0.074977       6        1  15.445364, topic_info=              Term        Freq       Total Category  logprob  loglift\n",
       "1382        choice  304.000000  304.000000  Default  30.0000  30.0000\n",
       "7570           sir  264.000000  264.000000  Default  29.0000  29.0000\n",
       "4139           ike  320.000000  320.000000  Default  28.0000  28.0000\n",
       "8376         thank  450.000000  450.000000  Default  27.0000  27.0000\n",
       "6987         right  872.000000  872.000000  Default  26.0000  26.0000\n",
       "...            ...         ...         ...      ...      ...      ...\n",
       "6749  relationship   60.362182  326.248002   Topic6  -5.8034   0.1806\n",
       "6987         right   61.798943  872.358471   Topic6  -5.7799  -0.7795\n",
       "4594          king   55.642938  280.022235   Topic6  -5.8848   0.2519\n",
       "7978          stop   54.226885  230.625673   Topic6  -5.9106   0.4202\n",
       "4015          hope   53.740400  193.338425   Topic6  -5.9196   0.5876\n",
       "\n",
       "[441 rows x 6 columns], token_table=      Topic      Freq      Term\n",
       "term                           \n",
       "67        3  0.097533   academy\n",
       "67        5  0.845285   academy\n",
       "67        6  0.032511   academy\n",
       "212       1  0.173852       ago\n",
       "212       2  0.045751       ago\n",
       "...     ...       ...       ...\n",
       "9368      3  0.956144       yep\n",
       "9369      1  0.978600       yer\n",
       "9393      5  0.983363  yukimura\n",
       "9396      4  0.981328      yune\n",
       "9398      2  0.986315      yuri\n",
       "\n",
       "[1010 rows x 3 columns], R=30, lambda_step=0.01, plot_opts={'xlab': 'PC1', 'ylab': 'PC2'}, topic_order=[3, 1, 6, 5, 2, 4])"
      ]
     },
     "execution_count": 530,
     "metadata": {},
     "output_type": "execute_result"
    }
   ],
   "source": [
    "pyLDAvis.sklearn.prepare(lda_tfidf, X_tfidf, tfidf)"
   ]
  },
  {
   "cell_type": "markdown",
   "id": "f8298d03",
   "metadata": {},
   "source": [
    "# NMF"
   ]
  },
  {
   "cell_type": "code",
   "execution_count": 550,
   "id": "2eef83f7",
   "metadata": {},
   "outputs": [
    {
     "name": "stderr",
     "output_type": "stream",
     "text": [
      "/Users/dayvdoberne/opt/anaconda3/envs/metis/lib/python3.9/site-packages/sklearn/decomposition/_nmf.py:289: FutureWarning: The 'init' value, when 'init=None' and n_components is less than n_samples and n_features, will be changed from 'nndsvd' to 'nndsvda' in 1.1 (renaming of 0.26).\n",
      "  warnings.warn(\n",
      "/Users/dayvdoberne/opt/anaconda3/envs/metis/lib/python3.9/site-packages/sklearn/decomposition/_nmf.py:289: FutureWarning: The 'init' value, when 'init=None' and n_components is less than n_samples and n_features, will be changed from 'nndsvd' to 'nndsvda' in 1.1 (renaming of 0.26).\n",
      "  warnings.warn(\n"
     ]
    }
   ],
   "source": [
    "nmf_topics = NMF(topic_count)\n",
    "doc_topic = nmf_topics.fit_transform(doc_word)\n",
    "\n",
    "nmf_topics_tfidf = NMF(topic_count)\n",
    "doc_topic_tfidf = nmf_topics_tfidf.fit_transform(doc_word_tfidf)"
   ]
  },
  {
   "cell_type": "code",
   "execution_count": 552,
   "id": "bb4eea93",
   "metadata": {},
   "outputs": [
    {
     "name": "stdout",
     "output_type": "stream",
     "text": [
      "\n",
      "Topic  0\n",
      "empire, people, king, war, army, long, prince, kingdom, battle, daein\n",
      "\n",
      "Topic  1\n",
      "time, long, ago, waste, battle, years, monastery, use, left, day\n",
      "\n",
      "Topic  2\n",
      "good, say, need, going, want, professor, help, look, make, sorry\n",
      "\n",
      "Topic  3\n",
      "father, mother, man, life, said, brother, son, minister, killed, family\n",
      "\n",
      "Topic  4\n",
      "fight, want, won, army, daein, stop, wish, ready, die, choice\n",
      "\n",
      "Topic  5\n",
      "come, far, prince, knew, day, true, end, return, wish, princess\n",
      "\n",
      "Topic  6\n",
      "lord, lady, corrin, rhea, eliwood, leif, grannvale, sigurd, prince, seliph\n",
      "\n",
      "Topic  7\n",
      "way, make, feel, best, use, enemy, coming, battle, life, corrin\n"
     ]
    },
    {
     "name": "stderr",
     "output_type": "stream",
     "text": [
      "/Users/dayvdoberne/opt/anaconda3/envs/metis/lib/python3.9/site-packages/sklearn/utils/deprecation.py:87: FutureWarning: Function get_feature_names is deprecated; get_feature_names is deprecated in 1.0 and will be removed in 1.2. Please use get_feature_names_out instead.\n",
      "  warnings.warn(msg, category=FutureWarning)\n"
     ]
    }
   ],
   "source": [
    "display_topics(nmf_topics, cv.get_feature_names(), 10)"
   ]
  },
  {
   "cell_type": "code",
   "execution_count": 553,
   "id": "4b602d6a",
   "metadata": {
    "scrolled": false
   },
   "outputs": [
    {
     "name": "stdout",
     "output_type": "stream",
     "text": [
      "\n",
      "Topic  0\n",
      "time, come, way, fight, want, say, good, corrin, need, help\n",
      "\n",
      "Topic  1\n",
      "thank, sir, goodness, corrin, th, saved, brother, azura, understand, help\n",
      "\n",
      "Topic  2\n",
      "mean, say, does, supposed, didn, choice, dorothea, doesn, wh, future\n",
      "\n",
      "Topic  3\n",
      "course, sir, relationship, action, remember, edelgard, love, best, rhea, majesty\n",
      "\n",
      "Topic  4\n",
      "sorry, didn, forgive, couldn, mother, micaiah, wasn, waiting, bernadetta, trouble\n",
      "\n",
      "Topic  5\n",
      "going, wait, happen, help, mind, mist, die, follow, tell, aren\n",
      "\n",
      "Topic  6\n",
      "father, mother, wait, tell, doing, won, brother, wanted, killed, died\n",
      "\n",
      "Topic  7\n",
      "ike, lord, sir, talk, general, eliwood, tell, commander, greil, wait\n"
     ]
    }
   ],
   "source": [
    "display_topics(nmf_topics_tfidf, tfidf.get_feature_names(), 10)"
   ]
  },
  {
   "cell_type": "markdown",
   "id": "4c7d7b2a",
   "metadata": {},
   "source": [
    "Looks pretty promising!"
   ]
  },
  {
   "cell_type": "markdown",
   "id": "cd5041d1",
   "metadata": {},
   "source": [
    "# Graph of lines per game over time"
   ]
  },
  {
   "cell_type": "code",
   "execution_count": 392,
   "id": "020c511e",
   "metadata": {},
   "outputs": [],
   "source": [
    "all_games = [4, 5, 7, 8, 9, 10, 11, 13, 14, 15, 16]\n",
    "titles = ['Genealogy of the Holy War', 'Thracia 776', 'The Blazing Blade', 'The Sacred Stones',\n",
    "          'Path of Radiance', 'Radiant Dawn', 'Shadow Dragon', 'Awakening', 'Fates', 'Shadows of Valentia', 'Three Houses']\n",
    "release_years = [1996, 1999, 2003, 2004, 2005, 2007, 2008, 2012, 2015, 2017, 2019]\n",
    "num_lines = []\n",
    "for fe_num in all_games:\n",
    "    num_lines.append(pd.read_csv(f'fe{fe_num}.csv')['0'].count())\n",
    "df_lines = pd.DataFrame()\n",
    "df_lines['title'] = titles\n",
    "df_lines['date'] = release_years\n",
    "df_lines['lines'] = num_lines\n",
    "is_remake = [False, False, False, False, False, False, True, False, False, True, False]\n",
    "df_lines['is_remake'] = is_remake\n",
    "df_lines['date'] = df_lines['date'].apply(str)\n",
    "df_lines['title'] = df_lines['title'] + ' (' + df_lines['date'] + ')'"
   ]
  },
  {
   "cell_type": "code",
   "execution_count": 400,
   "id": "e46ba1e6",
   "metadata": {},
   "outputs": [],
   "source": [
    "df_lines.to_csv('df_lines.csv')"
   ]
  },
  {
   "cell_type": "code",
   "execution_count": 398,
   "id": "851071ff",
   "metadata": {},
   "outputs": [
    {
     "data": {
      "text/plain": [
       "[Text(0, 0, 'Genealogy of the Holy War (1996)'),\n",
       " Text(1, 0, 'Thracia 776 (1999)'),\n",
       " Text(2, 0, 'The Blazing Blade (2003)'),\n",
       " Text(3, 0, 'The Sacred Stones (2004)'),\n",
       " Text(4, 0, 'Path of Radiance (2005)'),\n",
       " Text(5, 0, 'Radiant Dawn (2007)'),\n",
       " Text(6, 0, 'Shadow Dragon (2008)'),\n",
       " Text(7, 0, 'Awakening (2012)'),\n",
       " Text(8, 0, 'Fates (2015)'),\n",
       " Text(9, 0, 'Shadows of Valentia (2017)'),\n",
       " Text(10, 0, 'Three Houses (2019)')]"
      ]
     },
     "execution_count": 398,
     "metadata": {},
     "output_type": "execute_result"
    },
    {
     "data": {
      "image/png": "[encoded data removed]",
      "text/plain": [
       "<Figure size 1080x576 with 1 Axes>"
      ]
     },
     "metadata": {},
     "output_type": "display_data"
    }
   ],
   "source": [
    "%matplotlib inline\n",
    "sns.set(rc = {'figure.figsize':(15,8)})\n",
    "sns.set_theme()\n",
    "sns.set(font_scale = 2)\n",
    "figure = sns.barplot(x = df_lines['title'], y = df_lines['lines']/1000, color = 'steelblue')\n",
    "figure.set_title(\"Thousands of Lines in Script\")\n",
    "figure.set_ylabel('Lines (in Thousands)')\n",
    "figure.set_xlabel('Title')\n",
    "figure.set_xticklabels(labels = df_lines['title'], wrap=True)"
   ]
  },
  {
   "cell_type": "markdown",
   "id": "a0a8d1cc",
   "metadata": {},
   "source": [
    "*I'll just do this in Tableau...*"
   ]
  },
  {
   "cell_type": "markdown",
   "id": "41421783",
   "metadata": {},
   "source": [
    "# Training a model to speak like Fire Emblem characters\n",
    "- Load up scripts from all available games\n",
    "- Find characters that speak the most\n",
    "- Use Markov Chain text generation"
   ]
  },
  {
   "cell_type": "code",
   "execution_count": 501,
   "id": "fc2c4ea4",
   "metadata": {},
   "outputs": [
    {
     "data": {
      "text/html": [
       "<div>\n",
       "<style scoped>\n",
       "    .dataframe tbody tr th:only-of-type {\n",
       "        vertical-align: middle;\n",
       "    }\n",
       "\n",
       "    .dataframe tbody tr th {\n",
       "        vertical-align: top;\n",
       "    }\n",
       "\n",
       "    .dataframe thead th {\n",
       "        text-align: right;\n",
       "    }\n",
       "</style>\n",
       "<table border=\"1\" class=\"dataframe\">\n",
       "  <thead>\n",
       "    <tr style=\"text-align: right;\">\n",
       "      <th></th>\n",
       "      <th>0</th>\n",
       "    </tr>\n",
       "  </thead>\n",
       "  <tbody>\n",
       "    <tr>\n",
       "      <th>376</th>\n",
       "      <td>Enemy Soldier: ......</td>\n",
       "    </tr>\n",
       "    <tr>\n",
       "      <th>794</th>\n",
       "      <td>Dimitri: You're a tough opponent, but I refuse...</td>\n",
       "    </tr>\n",
       "    <tr>\n",
       "      <th>1247</th>\n",
       "      <td>Daein Soldier: Shall we continue with the plan...</td>\n",
       "    </tr>\n",
       "    <tr>\n",
       "      <th>5599</th>\n",
       "      <td>Naesala: Sorry, but I changed my mind. Someone...</td>\n",
       "    </tr>\n",
       "    <tr>\n",
       "      <th>3432</th>\n",
       "      <td>Linus: Will you stop yammering! I don't need m...</td>\n",
       "    </tr>\n",
       "    <tr>\n",
       "      <th>17828</th>\n",
       "      <td>Linhardt: Hmm… If those things were created to...</td>\n",
       "    </tr>\n",
       "    <tr>\n",
       "      <th>7077</th>\n",
       "      <td>It occurs to me...\\n</td>\n",
       "    </tr>\n",
       "    <tr>\n",
       "      <th>2946</th>\n",
       "      <td>Emmeryn: Chrom... Everyone... Thank you...</td>\n",
       "    </tr>\n",
       "    <tr>\n",
       "      <th>1129</th>\n",
       "      <td>Lekain: Duke Numida, my friend… I’m afraid you...</td>\n",
       "    </tr>\n",
       "    <tr>\n",
       "      <th>575</th>\n",
       "      <td>Mikoto: I’m so glad…</td>\n",
       "    </tr>\n",
       "  </tbody>\n",
       "</table>\n",
       "</div>"
      ],
      "text/plain": [
       "                                                       0\n",
       "376                                Enemy Soldier: ......\n",
       "794    Dimitri: You're a tough opponent, but I refuse...\n",
       "1247   Daein Soldier: Shall we continue with the plan...\n",
       "5599   Naesala: Sorry, but I changed my mind. Someone...\n",
       "3432   Linus: Will you stop yammering! I don't need m...\n",
       "17828  Linhardt: Hmm… If those things were created to...\n",
       "7077                                It occurs to me...\\n\n",
       "2946          Emmeryn: Chrom... Everyone... Thank you...\n",
       "1129   Lekain: Duke Numida, my friend… I’m afraid you...\n",
       "575                                 Mikoto: I’m so glad…"
      ]
     },
     "execution_count": 501,
     "metadata": {},
     "output_type": "execute_result"
    }
   ],
   "source": [
    "all_games = [4, 5, 7, 8, 9, 10, 11, 13, 14, 15, 16]\n",
    "df_all = pd.concat([pd.read_csv(f'fe{fe_num}.csv', index_col = 0) for fe_num in all_games])\n",
    "df_all.sample(10)"
   ]
  },
  {
   "cell_type": "code",
   "execution_count": 502,
   "id": "0a6ae043",
   "metadata": {},
   "outputs": [],
   "source": [
    "df_all.columns = ['quote']\n",
    "df_all['speaker'] = df_all['quote'].apply(get_speaker)\n",
    "df_all['quote'] = df_all['quote'].apply(clean_script)\n",
    "df_all['speaker'] = df_all['speaker'].apply(alias_check)"
   ]
  },
  {
   "cell_type": "code",
   "execution_count": 504,
   "id": "2f8b87ac",
   "metadata": {},
   "outputs": [],
   "source": []
  },
  {
   "cell_type": "code",
   "execution_count": 505,
   "id": "0c0bc43a",
   "metadata": {
    "scrolled": true
   },
   "outputs": [],
   "source": []
  },
  {
   "cell_type": "code",
   "execution_count": 506,
   "id": "080de29d",
   "metadata": {},
   "outputs": [],
   "source": [
    "df_speaker_leaderboard = df_all.groupby(by = 'speaker', as_index = False).count().sort_values(by = 'quote', ascending = False)"
   ]
  },
  {
   "cell_type": "code",
   "execution_count": 507,
   "id": "815546a5",
   "metadata": {},
   "outputs": [
    {
     "data": {
      "text/html": [
       "<div>\n",
       "<style scoped>\n",
       "    .dataframe tbody tr th:only-of-type {\n",
       "        vertical-align: middle;\n",
       "    }\n",
       "\n",
       "    .dataframe tbody tr th {\n",
       "        vertical-align: top;\n",
       "    }\n",
       "\n",
       "    .dataframe thead th {\n",
       "        text-align: right;\n",
       "    }\n",
       "</style>\n",
       "<table border=\"1\" class=\"dataframe\">\n",
       "  <thead>\n",
       "    <tr style=\"text-align: right;\">\n",
       "      <th></th>\n",
       "      <th>speaker</th>\n",
       "      <th>quote</th>\n",
       "    </tr>\n",
       "  </thead>\n",
       "  <tbody>\n",
       "    <tr>\n",
       "      <th>1069</th>\n",
       "      <td>Owain</td>\n",
       "      <td>74</td>\n",
       "    </tr>\n",
       "  </tbody>\n",
       "</table>\n",
       "</div>"
      ],
      "text/plain": [
       "     speaker  quote\n",
       "1069   Owain     74"
      ]
     },
     "execution_count": 507,
     "metadata": {},
     "output_type": "execute_result"
    }
   ],
   "source": [
    "df_speaker_leaderboard.loc[df_speaker_leaderboard['speaker'] == 'Owain']"
   ]
  },
  {
   "cell_type": "code",
   "execution_count": 508,
   "id": "4780fd94",
   "metadata": {},
   "outputs": [],
   "source": [
    "relevant_speakers = ['Sain', 'Hector', 'Corrin', 'Celica', 'Eirika', 'Lyn', 'Eliwood', 'Ike',\n",
    "                     'Titania', 'Dimitri', 'Edelgard', 'Chrom', 'Bastian', 'Marth', 'Elise',\n",
    "                     'Rhea', 'Azura', 'Owain']\n",
    "speaker_corpus = {}\n",
    "for speaker in relevant_speakers:\n",
    "    corpus = []\n",
    "    for quote in df_all.loc[df_all.speaker == speaker].dropna()['quote']:\n",
    "        corpus.append(quote)\n",
    "    speaker_corpus[speaker] = corpus"
   ]
  },
  {
   "cell_type": "code",
   "execution_count": 509,
   "id": "bbaec91c",
   "metadata": {},
   "outputs": [],
   "source": [
    "def markov_chain(corpus):\n",
    "    for ix in range(len(corpus), -1, -1):\n",
    "        corpus.insert(ix, 'line_break')\n",
    "    corpus = ' '.join(corpus)\n",
    "    words = corpus.split(' ')\n",
    "    m_dict = defaultdict(list)\n",
    "    for current_word, next_word in zip(words[:-1], words[1:]):\n",
    "        m_dict[current_word].append(next_word)\n",
    "    m_dict = dict(m_dict)\n",
    "    \n",
    "    return m_dict"
   ]
  },
  {
   "cell_type": "code",
   "execution_count": 510,
   "id": "86e8a288",
   "metadata": {},
   "outputs": [],
   "source": [
    "vocab = {}\n",
    "for speaker in relevant_speakers:\n",
    "    vocab[speaker] = markov_chain(speaker_corpus[speaker])"
   ]
  },
  {
   "cell_type": "code",
   "execution_count": 511,
   "id": "2c007e4d",
   "metadata": {},
   "outputs": [],
   "source": [
    "def generate_sentence(quote_dict):\n",
    "    word1 = 'line_break'\n",
    "    sentence = word1\n",
    "    \n",
    "    while True:\n",
    "        word2 = random.choice(quote_dict[word1])\n",
    "        word1 = word2\n",
    "        sentence += ' ' + word2\n",
    "        if (word2[-1] in '.!?') and (random.randint(0,1) == 0):\n",
    "            break\n",
    "    sentence = sentence.strip('/[]><+=\\\\')\n",
    "    return sentence.replace('line_break ', '')"
   ]
  },
  {
   "cell_type": "code",
   "execution_count": 582,
   "id": "0ac4e612",
   "metadata": {},
   "outputs": [
    {
     "name": "stdout",
     "output_type": "stream",
     "text": [
      "Hector: Listen up, you want to be attacked.\n",
      "Hector: What is strange. We've an assassination attempt on forever...\n",
      "Hector: He's traveling in two. Who--!? You do now? We do you to the border.\n",
      "Hector: Huh?\n",
      "Hector: Oswin? Have you talking to make sure he is the castle?\n",
      "Hector: I see.\n",
      "Hector: Old man! Huh?\n",
      "Hector: Come on! Wait a firm believer in here! Whew... I thought you want the sake of Bern’s might have a grudge against Ostia.\n",
      "Hector: If a contemptuous peacock. He's slaughtered our ancestors dedicated themselves to meet. Stay right now. Save it so.\n",
      "Hector: She looks like. Come on!\n",
      "Celica: He's not dismissing what happened. Because it’s me!\n",
      "Celica: If we must know we can prevail.\n",
      "Celica: Wait a manly wreath when people of way.\n",
      "Celica: Hmm… No. We find something of your being routinely plundered.\n",
      "Celica: Alm even if we just that you?\n",
      "Celica: Alm… This isn't possible!\n",
      "Celica: I’m going on? Can't you as barren fields have invaded… I don't leave these waters at that, I... I get a boy with grandpapa? …No. I could never have to petition Mila now.\n",
      "Celica: You’re scared off by different from this new Valentia will no allies left hand and Alm would at war, and Duma is the empire.\n",
      "Celica: I’m afraid I know either.\n",
      "Celica: Rudolf is all made a “hero,” I owe you think he alive, you need, yes? Except yours is well continue on this way to pass.\n",
      "Titania: Of course!\n",
      "Titania: IKE!! TELL ME!! I have a knight of this… Don't worry. You'll learn all of Guidance. It’s settled then.\n",
      "Titania: Ike? Come on, Ike.\n",
      "Titania: What gives? We’re inside Gallia’s royal palace.\n",
      "Titania: But, Ike! Don’t talk about it, she does it is, I'll go with me.\n",
      "Titania: There's no good.\n",
      "Titania: Ike! Our mission would sooner leave than serve under you. Unfortunately, Commander Greil…He just frustrated.\n",
      "Titania: But I can fight...\n",
      "Titania: So try and escaped without losses.\n",
      "Titania: Are you know? So...rather than serve under you. Unfortunately, Commander Greil, shall never seen you surprised me.\n"
     ]
    },
    {
     "ename": "IndexError",
     "evalue": "string index out of range",
     "output_type": "error",
     "traceback": [
      "\u001b[0;31m---------------------------------------------------------------------------\u001b[0m",
      "\u001b[0;31mIndexError\u001b[0m                                Traceback (most recent call last)",
      "\u001b[0;32m/var/folders/4g/z8wcy4nn4vzgq33ts3mh1lm00000gn/T/ipykernel_1817/1348182946.py\u001b[0m in \u001b[0;36m<module>\u001b[0;34m\u001b[0m\n\u001b[1;32m      1\u001b[0m \u001b[0;32mfor\u001b[0m \u001b[0mspeaker\u001b[0m \u001b[0;32min\u001b[0m \u001b[0;34m[\u001b[0m\u001b[0;34m'Hector'\u001b[0m\u001b[0;34m,\u001b[0m \u001b[0;34m'Celica'\u001b[0m\u001b[0;34m,\u001b[0m \u001b[0;34m'Titania'\u001b[0m\u001b[0;34m,\u001b[0m \u001b[0;34m'Chrom'\u001b[0m\u001b[0;34m,\u001b[0m \u001b[0;34m'Edelgard'\u001b[0m\u001b[0;34m]\u001b[0m\u001b[0;34m:\u001b[0m\u001b[0;34m\u001b[0m\u001b[0;34m\u001b[0m\u001b[0m\n\u001b[1;32m      2\u001b[0m     \u001b[0;32mfor\u001b[0m \u001b[0m_\u001b[0m \u001b[0;32min\u001b[0m \u001b[0mrange\u001b[0m\u001b[0;34m(\u001b[0m\u001b[0;36m10\u001b[0m\u001b[0;34m)\u001b[0m\u001b[0;34m:\u001b[0m\u001b[0;34m\u001b[0m\u001b[0;34m\u001b[0m\u001b[0m\n\u001b[0;32m----> 3\u001b[0;31m         \u001b[0mprint\u001b[0m\u001b[0;34m(\u001b[0m\u001b[0mspeaker\u001b[0m \u001b[0;34m+\u001b[0m \u001b[0;34m': '\u001b[0m \u001b[0;34m+\u001b[0m \u001b[0mgenerate_sentence\u001b[0m\u001b[0;34m(\u001b[0m\u001b[0mvocab\u001b[0m\u001b[0;34m[\u001b[0m\u001b[0mspeaker\u001b[0m\u001b[0;34m]\u001b[0m\u001b[0;34m)\u001b[0m\u001b[0;34m)\u001b[0m\u001b[0;34m\u001b[0m\u001b[0;34m\u001b[0m\u001b[0m\n\u001b[0m",
      "\u001b[0;32m/var/folders/4g/z8wcy4nn4vzgq33ts3mh1lm00000gn/T/ipykernel_1817/871964286.py\u001b[0m in \u001b[0;36mgenerate_sentence\u001b[0;34m(quote_dict)\u001b[0m\n\u001b[1;32m      7\u001b[0m         \u001b[0mword1\u001b[0m \u001b[0;34m=\u001b[0m \u001b[0mword2\u001b[0m\u001b[0;34m\u001b[0m\u001b[0;34m\u001b[0m\u001b[0m\n\u001b[1;32m      8\u001b[0m         \u001b[0msentence\u001b[0m \u001b[0;34m+=\u001b[0m \u001b[0;34m' '\u001b[0m \u001b[0;34m+\u001b[0m \u001b[0mword2\u001b[0m\u001b[0;34m\u001b[0m\u001b[0;34m\u001b[0m\u001b[0m\n\u001b[0;32m----> 9\u001b[0;31m         \u001b[0;32mif\u001b[0m \u001b[0;34m(\u001b[0m\u001b[0mword2\u001b[0m\u001b[0;34m[\u001b[0m\u001b[0;34m-\u001b[0m\u001b[0;36m1\u001b[0m\u001b[0;34m]\u001b[0m \u001b[0;32min\u001b[0m \u001b[0;34m'.!?'\u001b[0m\u001b[0;34m)\u001b[0m \u001b[0;32mand\u001b[0m \u001b[0;34m(\u001b[0m\u001b[0mrandom\u001b[0m\u001b[0;34m.\u001b[0m\u001b[0mrandint\u001b[0m\u001b[0;34m(\u001b[0m\u001b[0;36m0\u001b[0m\u001b[0;34m,\u001b[0m\u001b[0;36m1\u001b[0m\u001b[0;34m)\u001b[0m \u001b[0;34m==\u001b[0m \u001b[0;36m0\u001b[0m\u001b[0;34m)\u001b[0m\u001b[0;34m:\u001b[0m\u001b[0;34m\u001b[0m\u001b[0;34m\u001b[0m\u001b[0m\n\u001b[0m\u001b[1;32m     10\u001b[0m             \u001b[0;32mbreak\u001b[0m\u001b[0;34m\u001b[0m\u001b[0;34m\u001b[0m\u001b[0m\n\u001b[1;32m     11\u001b[0m     \u001b[0msentence\u001b[0m \u001b[0;34m=\u001b[0m \u001b[0msentence\u001b[0m\u001b[0;34m.\u001b[0m\u001b[0mstrip\u001b[0m\u001b[0;34m(\u001b[0m\u001b[0;34m'/[]><+=\\\\'\u001b[0m\u001b[0;34m)\u001b[0m\u001b[0;34m\u001b[0m\u001b[0;34m\u001b[0m\u001b[0m\n",
      "\u001b[0;31mIndexError\u001b[0m: string index out of range"
     ]
    }
   ],
   "source": [
    "for speaker in ['Hector', 'Celica', 'Titania', 'Chrom', 'Edelgard']:\n",
    "    for _ in range(10):\n",
    "        print(speaker + ': ' + generate_sentence(vocab[speaker]))"
   ]
  },
  {
   "cell_type": "code",
   "execution_count": null,
   "id": "7293d511",
   "metadata": {},
   "outputs": [],
   "source": []
  },
  {
   "cell_type": "code",
   "execution_count": null,
   "id": "216f7771",
   "metadata": {},
   "outputs": [],
   "source": []
  }
 ],
 "metadata": {
  "kernelspec": {
   "display_name": "Python [conda env:metis] *",
   "language": "python",
   "name": "conda-env-metis-py"
  },
  "language_info": {
   "codemirror_mode": {
    "name": "ipython",
    "version": 3
   },
   "file_extension": ".py",
   "mimetype": "text/x-python",
   "name": "python",
   "nbconvert_exporter": "python",
   "pygments_lexer": "ipython3",
   "version": "3.9.7"
  }
 },
 "nbformat": 4,
 "nbformat_minor": 5
}
